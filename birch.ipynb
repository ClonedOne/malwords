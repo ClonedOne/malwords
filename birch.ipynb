{
 "cells": [
  {
   "cell_type": "markdown",
   "metadata": {},
   "source": [
    "# Birch clustering result analysis\n",
    "\n",
    "Let's start by loading up some libraries and static data that may be useful in the next steps."
   ]
  },
  {
   "cell_type": "code",
   "execution_count": 1,
   "metadata": {},
   "outputs": [],
   "source": [
    "%load_ext autoreload\n",
    "%autoreload 2"
   ]
  },
  {
   "cell_type": "code",
   "execution_count": 2,
   "metadata": {},
   "outputs": [],
   "source": [
    "from visualization import vis_data, vis_cluster\n",
    "from collections import defaultdict, Counter\n",
    "from utilities import constants, evaluation\n",
    "from preprocessing import pp_action\n",
    "from clustering import clu_birch\n",
    "import plotly.graph_objs as go\n",
    "import plotly.offline as ply\n",
    "import pandas as pd\n",
    "import numpy as np\n",
    "import json\n",
    "import os"
   ]
  },
  {
   "cell_type": "code",
   "execution_count": 3,
   "metadata": {},
   "outputs": [
    {
     "data": {
      "text/html": [
       "<script>requirejs.config({paths: { 'plotly': ['https://cdn.plot.ly/plotly-latest.min']},});if(!window.Plotly) {{require(['plotly'],function(plotly) {window.Plotly=plotly;});}}</script>"
      ],
      "text/vnd.plotly.v1+html": [
       "<script>requirejs.config({paths: { 'plotly': ['https://cdn.plot.ly/plotly-latest.min']},});if(!window.Plotly) {{require(['plotly'],function(plotly) {window.Plotly=plotly;});}}</script>"
      ]
     },
     "metadata": {},
     "output_type": "display_data"
    }
   ],
   "source": [
    "config = json.load(open('config.json', 'r'))\n",
    "uuids_family = json.load(open(os.path.join(constants.dir_d, constants.json_labels), 'r'))\n",
    "words = json.load(open(os.path.join(constants.dir_d, constants.json_words), 'r'))\n",
    "ply.init_notebook_mode(connected=True)"
   ]
  },
  {
   "cell_type": "code",
   "execution_count": 4,
   "metadata": {},
   "outputs": [],
   "source": [
    "thresholds = [50, 100, 150, 300, 500, 1000, 2000, 3000]\n",
    "branching_factors = [50, 100, 150, 300, 500, 1000, 2000, 3000]"
   ]
  },
  {
   "cell_type": "markdown",
   "metadata": {},
   "source": [
    "## Data selection\n",
    "\n",
    "Select a subset of the original dataset. Then the selected subset will be split into a training and a testing set.\n"
   ]
  },
  {
   "cell_type": "code",
   "execution_count": 5,
   "metadata": {
    "scrolled": true
   },
   "outputs": [
    {
     "name": "stdout",
     "output_type": "stream",
     "text": [
      "Please choose the subset of data to workon on:\n",
      "l for all labeled samples\n",
      "k for samples of families mydoom, gepys, lamer, neshta, bladabindi, flystudio, eorezo\n",
      "s for a small balanced subset\n",
      "f for a single family\n",
      "b for a balanced subset of samples\n",
      "q to quit\n",
      "k\n",
      "\n",
      "Would you like to compute the Jensen-Shannon distance matrix for the chosen data? [y/n]\n",
      "n\n",
      "\n",
      "846 train samples belonging to 7 malware families\n",
      "Malware family:      bladabindi      Number of samples:  199  \n",
      "Malware family:        eorezo        Number of samples:  191  \n",
      "Malware family:        neshta        Number of samples:  150  \n",
      "Malware family:        mydoom        Number of samples:  104  \n",
      "Malware family:        lamer         Number of samples:   89  \n",
      "Malware family:      flystudio       Number of samples:   60  \n",
      "Malware family:        gepys         Number of samples:   53  \n",
      "\n",
      "182 dev samples belonging to 7 malware families\n",
      "Malware family:      bladabindi      Number of samples:   42  \n",
      "Malware family:        neshta        Number of samples:   36  \n",
      "Malware family:        eorezo        Number of samples:   31  \n",
      "Malware family:        lamer         Number of samples:   22  \n",
      "Malware family:        mydoom        Number of samples:   20  \n",
      "Malware family:      flystudio       Number of samples:   16  \n",
      "Malware family:        gepys         Number of samples:   15  \n",
      "\n",
      "181 test samples belonging to 7 malware families\n",
      "Malware family:        neshta        Number of samples:   44  \n",
      "Malware family:        eorezo        Number of samples:   44  \n",
      "Malware family:      bladabindi      Number of samples:   28  \n",
      "Malware family:        lamer         Number of samples:   25  \n",
      "Malware family:        mydoom        Number of samples:   22  \n",
      "Malware family:      flystudio       Number of samples:   10  \n",
      "Malware family:        gepys         Number of samples:   8   \n",
      "\n",
      "\n",
      "         family  fam_num  selected  train    dev   test\n",
      "count     58180  58180.0    1209.0  846.0  182.0  181.0\n",
      "unique     1270   1270.0       NaN    NaN    NaN    NaN\n",
      "top     allaple     42.0       NaN    NaN    NaN    NaN\n",
      "freq      10569  10569.0       NaN    NaN    NaN    NaN\n",
      "mean        NaN      NaN       1.0    1.0    1.0    1.0\n",
      "std         NaN      NaN       0.0    0.0    0.0    0.0\n",
      "min         NaN      NaN       1.0    1.0    1.0    1.0\n",
      "25%         NaN      NaN       1.0    1.0    1.0    1.0\n",
      "50%         NaN      NaN       1.0    1.0    1.0    1.0\n",
      "75%         NaN      NaN       1.0    1.0    1.0    1.0\n",
      "max         NaN      NaN       1.0    1.0    1.0    1.0\n"
     ]
    }
   ],
   "source": [
    "samples_data = pp_action.pre_process(config)\n",
    "pp_action.split_show_data(samples_data)"
   ]
  },
  {
   "cell_type": "code",
   "execution_count": 6,
   "metadata": {},
   "outputs": [],
   "source": [
    "uuids = samples_data.index[samples_data['selected'] == 1].tolist()\n",
    "numerical_labels = samples_data.fam_num[samples_data['selected'] == 1].tolist()"
   ]
  },
  {
   "cell_type": "markdown",
   "metadata": {},
   "source": [
    "## Utilities\n",
    "\n",
    "let's define a few helper fucntions\n"
   ]
  },
  {
   "cell_type": "code",
   "execution_count": 7,
   "metadata": {},
   "outputs": [],
   "source": [
    "def plot_surface(to_plot, a_x, a_y, title):\n",
    "    data = [go.Surface(x=a_x, y=a_y, z=to_plot)]\n",
    "    \n",
    "    layout = go.Layout(\n",
    "        title=title\n",
    "    )\n",
    "    \n",
    "    fig = go.Figure(data=data, layout=layout)\n",
    "    \n",
    "    ply.iplot(fig, filename=title)    "
   ]
  },
  {
   "cell_type": "code",
   "execution_count": 8,
   "metadata": {},
   "outputs": [],
   "source": [
    "def plot_surfaces(to_plot_f, to_plot_s, clusters, thresholds, branching_factors):\n",
    "    plot_surface(to_plot_f, thresholds, branching_factors, 'f1 scores')\n",
    "    plot_surface(to_plot_s, thresholds, branching_factors, 'silhouette scores')\n",
    "    plot_surface(clusters, thresholds, branching_factors, 'clusters')"
   ]
  },
  {
   "cell_type": "code",
   "execution_count": 9,
   "metadata": {},
   "outputs": [],
   "source": [
    "def test_params(data_matrix, numerical_labels, config, thresholds, branching_factors):\n",
    "    to_plot_f = np.zeros((len(thresholds), len(branching_factors)))\n",
    "    to_plot_s = np.zeros((len(thresholds), len(branching_factors)))\n",
    "    clusters = np.zeros((len(thresholds), len(branching_factors)))\n",
    "\n",
    "    i = 0\n",
    "    for t in thresholds:\n",
    "        j = 0\n",
    "        \n",
    "        for b in branching_factors:\n",
    "\n",
    "            clustering_labels, model, modifier, data, metric = clu_birch.cluster(\n",
    "                data_matrix,\n",
    "                numerical_labels,\n",
    "                config,\n",
    "                {\n",
    "                    'num_clusters': 7,\n",
    "                    'threshold': t,\n",
    "                    'branching_factor': b\n",
    "                }\n",
    "            )\n",
    "            \n",
    "            n_clusters = len(set(clustering_labels)) - (1 if -1 in clustering_labels else 0)\n",
    "\n",
    "            if n_clusters < 2:\n",
    "                data = None\n",
    "            results = evaluation.evaluate_clustering(numerical_labels, clustering_labels, data, metric, True)\n",
    "\n",
    "            to_plot_f[i][j] = results[7]\n",
    "            to_plot_s[i][j] = results[8] if data is not None else 0\n",
    "            clusters[i][j] = n_clusters\n",
    "            j += 1\n",
    "\n",
    "        i += 1\n",
    "\n",
    "    return to_plot_f, to_plot_s, clusters"
   ]
  },
  {
   "cell_type": "markdown",
   "metadata": {},
   "source": [
    "## Clustering\n",
    "\n",
    "Here we will use Birch, a hierarchical density-based clustering algorithm."
   ]
  },
  {
   "cell_type": "markdown",
   "metadata": {},
   "source": [
    "### 128 features\n",
    "Let's start by using the data matrix produced by using PCA for feature extraction."
   ]
  },
  {
   "cell_type": "code",
   "execution_count": 10,
   "metadata": {},
   "outputs": [],
   "source": [
    "data_matrix_p = np.loadtxt('data/matrix/pca_128_1209.txt')"
   ]
  },
  {
   "cell_type": "code",
   "execution_count": 14,
   "metadata": {
    "scrolled": true
   },
   "outputs": [
    {
     "name": "stdout",
     "output_type": "stream",
     "text": [
      "--------------------------------------------------------------------------------\n",
      "Clustering evaluation\n",
      "Number of clusters 7\n",
      "Number of distinct families 7\n",
      "Adjusted Rand index: 0.42280289668\n",
      "Adjusted Mutual Information: 0.581275034043\n",
      "Fowlkes-Mallows: 0.608423261646\n",
      "Homogeneity: 0.584842444012\n",
      "Completeness: 0.850642671342\n",
      "BCubed Precision: 0.901268797291\n",
      "BCubed Recall: 0.597368782428\n",
      "BCubed FScore: 0.718505729956\n",
      "Silhouette 0.537244114664\n",
      "--------------------------------------------------------------------------------\n",
      "Clustering evaluation\n",
      "Number of clusters 7\n",
      "Number of distinct families 7\n",
      "Adjusted Rand index: 0.42280289668\n",
      "Adjusted Mutual Information: 0.581275034043\n",
      "Fowlkes-Mallows: 0.608423261646\n",
      "Homogeneity: 0.584842444012\n",
      "Completeness: 0.850642671342\n",
      "BCubed Precision: 0.901268797291\n",
      "BCubed Recall: 0.597368782428\n",
      "BCubed FScore: 0.718505729956\n",
      "Silhouette 0.537244114664\n",
      "--------------------------------------------------------------------------------\n",
      "Clustering evaluation\n",
      "Number of clusters 7\n",
      "Number of distinct families 7\n",
      "Adjusted Rand index: 0.42280289668\n",
      "Adjusted Mutual Information: 0.581275034043\n",
      "Fowlkes-Mallows: 0.608423261646\n",
      "Homogeneity: 0.584842444012\n",
      "Completeness: 0.850642671342\n",
      "BCubed Precision: 0.901268797291\n",
      "BCubed Recall: 0.597368782428\n",
      "BCubed FScore: 0.718505729956\n",
      "Silhouette 0.537244114664\n",
      "--------------------------------------------------------------------------------\n",
      "Clustering evaluation\n",
      "Number of clusters 7\n",
      "Number of distinct families 7\n",
      "Adjusted Rand index: 0.42280289668\n",
      "Adjusted Mutual Information: 0.581275034043\n",
      "Fowlkes-Mallows: 0.608423261646\n",
      "Homogeneity: 0.584842444012\n",
      "Completeness: 0.850642671342\n",
      "BCubed Precision: 0.901268797291\n",
      "BCubed Recall: 0.597368782428\n",
      "BCubed FScore: 0.718505729956\n",
      "Silhouette 0.537244114664\n",
      "--------------------------------------------------------------------------------\n",
      "Clustering evaluation\n",
      "Number of clusters 7\n",
      "Number of distinct families 7\n",
      "Adjusted Rand index: 0.42280289668\n",
      "Adjusted Mutual Information: 0.581275034043\n",
      "Fowlkes-Mallows: 0.608423261646\n",
      "Homogeneity: 0.584842444012\n",
      "Completeness: 0.850642671342\n",
      "BCubed Precision: 0.901268797291\n",
      "BCubed Recall: 0.597368782428\n",
      "BCubed FScore: 0.718505729956\n",
      "Silhouette 0.537244114664\n",
      "--------------------------------------------------------------------------------\n",
      "Clustering evaluation\n",
      "Number of clusters 7\n",
      "Number of distinct families 7\n",
      "Adjusted Rand index: 0.42280289668\n",
      "Adjusted Mutual Information: 0.581275034043\n",
      "Fowlkes-Mallows: 0.608423261646\n",
      "Homogeneity: 0.584842444012\n",
      "Completeness: 0.850642671342\n",
      "BCubed Precision: 0.901268797291\n",
      "BCubed Recall: 0.597368782428\n",
      "BCubed FScore: 0.718505729956\n",
      "Silhouette 0.537244114664\n",
      "--------------------------------------------------------------------------------\n",
      "Clustering evaluation\n",
      "Number of clusters 7\n",
      "Number of distinct families 7\n",
      "Adjusted Rand index: 0.42280289668\n",
      "Adjusted Mutual Information: 0.581275034043\n",
      "Fowlkes-Mallows: 0.608423261646\n",
      "Homogeneity: 0.584842444012\n",
      "Completeness: 0.850642671342\n",
      "BCubed Precision: 0.901268797291\n",
      "BCubed Recall: 0.597368782428\n",
      "BCubed FScore: 0.718505729956\n",
      "Silhouette 0.537244114664\n",
      "--------------------------------------------------------------------------------\n",
      "Clustering evaluation\n",
      "Number of clusters 7\n",
      "Number of distinct families 7\n",
      "Adjusted Rand index: 0.42280289668\n",
      "Adjusted Mutual Information: 0.581275034043\n",
      "Fowlkes-Mallows: 0.608423261646\n",
      "Homogeneity: 0.584842444012\n",
      "Completeness: 0.850642671342\n",
      "BCubed Precision: 0.901268797291\n",
      "BCubed Recall: 0.597368782428\n",
      "BCubed FScore: 0.718505729956\n",
      "Silhouette 0.537244114664\n",
      "--------------------------------------------------------------------------------\n",
      "Clustering evaluation\n",
      "Number of clusters 7\n",
      "Number of distinct families 7\n",
      "Adjusted Rand index: 0.42280289668\n",
      "Adjusted Mutual Information: 0.581275034043\n",
      "Fowlkes-Mallows: 0.608423261646\n",
      "Homogeneity: 0.584842444012\n",
      "Completeness: 0.850642671342\n",
      "BCubed Precision: 0.901268797291\n",
      "BCubed Recall: 0.597368782428\n",
      "BCubed FScore: 0.718505729956\n",
      "Silhouette 0.537244114664\n",
      "--------------------------------------------------------------------------------\n",
      "Clustering evaluation\n",
      "Number of clusters 7\n",
      "Number of distinct families 7\n",
      "Adjusted Rand index: 0.42280289668\n",
      "Adjusted Mutual Information: 0.581275034043\n",
      "Fowlkes-Mallows: 0.608423261646\n",
      "Homogeneity: 0.584842444012\n",
      "Completeness: 0.850642671342\n",
      "BCubed Precision: 0.901268797291\n",
      "BCubed Recall: 0.597368782428\n",
      "BCubed FScore: 0.718505729956\n",
      "Silhouette 0.537244114664\n",
      "--------------------------------------------------------------------------------\n",
      "Clustering evaluation\n",
      "Number of clusters 7\n",
      "Number of distinct families 7\n",
      "Adjusted Rand index: 0.42280289668\n",
      "Adjusted Mutual Information: 0.581275034043\n",
      "Fowlkes-Mallows: 0.608423261646\n",
      "Homogeneity: 0.584842444012\n",
      "Completeness: 0.850642671342\n",
      "BCubed Precision: 0.901268797291\n",
      "BCubed Recall: 0.597368782428\n",
      "BCubed FScore: 0.718505729956\n",
      "Silhouette 0.537244114664\n",
      "--------------------------------------------------------------------------------\n",
      "Clustering evaluation\n",
      "Number of clusters 7\n",
      "Number of distinct families 7\n",
      "Adjusted Rand index: 0.42280289668\n",
      "Adjusted Mutual Information: 0.581275034043\n",
      "Fowlkes-Mallows: 0.608423261646\n",
      "Homogeneity: 0.584842444012\n",
      "Completeness: 0.850642671342\n",
      "BCubed Precision: 0.901268797291\n",
      "BCubed Recall: 0.597368782428\n",
      "BCubed FScore: 0.718505729956\n",
      "Silhouette 0.537244114664\n",
      "--------------------------------------------------------------------------------\n",
      "Clustering evaluation\n",
      "Number of clusters 7\n",
      "Number of distinct families 7\n",
      "Adjusted Rand index: 0.42280289668\n",
      "Adjusted Mutual Information: 0.581275034043\n",
      "Fowlkes-Mallows: 0.608423261646\n",
      "Homogeneity: 0.584842444012\n",
      "Completeness: 0.850642671342\n",
      "BCubed Precision: 0.901268797291\n",
      "BCubed Recall: 0.597368782428\n",
      "BCubed FScore: 0.718505729956\n",
      "Silhouette 0.537244114664\n",
      "--------------------------------------------------------------------------------\n",
      "Clustering evaluation\n",
      "Number of clusters 7\n",
      "Number of distinct families 7\n",
      "Adjusted Rand index: 0.42280289668\n",
      "Adjusted Mutual Information: 0.581275034043\n",
      "Fowlkes-Mallows: 0.608423261646\n",
      "Homogeneity: 0.584842444012\n",
      "Completeness: 0.850642671342\n",
      "BCubed Precision: 0.901268797291\n",
      "BCubed Recall: 0.597368782428\n",
      "BCubed FScore: 0.718505729956\n",
      "Silhouette 0.537244114664\n",
      "--------------------------------------------------------------------------------\n",
      "Clustering evaluation\n",
      "Number of clusters 7\n",
      "Number of distinct families 7\n",
      "Adjusted Rand index: 0.42280289668\n",
      "Adjusted Mutual Information: 0.581275034043\n",
      "Fowlkes-Mallows: 0.608423261646\n",
      "Homogeneity: 0.584842444012\n",
      "Completeness: 0.850642671342\n",
      "BCubed Precision: 0.901268797291\n",
      "BCubed Recall: 0.597368782428\n",
      "BCubed FScore: 0.718505729956\n",
      "Silhouette 0.537244114664\n",
      "--------------------------------------------------------------------------------\n",
      "Clustering evaluation\n",
      "Number of clusters 7\n",
      "Number of distinct families 7\n",
      "Adjusted Rand index: 0.42280289668\n",
      "Adjusted Mutual Information: 0.581275034043\n",
      "Fowlkes-Mallows: 0.608423261646\n",
      "Homogeneity: 0.584842444012\n",
      "Completeness: 0.850642671342\n",
      "BCubed Precision: 0.901268797291\n",
      "BCubed Recall: 0.597368782428\n",
      "BCubed FScore: 0.718505729956\n",
      "Silhouette 0.537244114664\n",
      "--------------------------------------------------------------------------------\n",
      "Clustering evaluation\n",
      "Number of clusters 7\n",
      "Number of distinct families 7\n",
      "Adjusted Rand index: 0.42280289668\n",
      "Adjusted Mutual Information: 0.581275034043\n",
      "Fowlkes-Mallows: 0.608423261646\n",
      "Homogeneity: 0.584842444012\n",
      "Completeness: 0.850642671342\n",
      "BCubed Precision: 0.901268797291\n",
      "BCubed Recall: 0.597368782428\n",
      "BCubed FScore: 0.718505729956\n",
      "Silhouette 0.537244114664\n",
      "--------------------------------------------------------------------------------\n",
      "Clustering evaluation\n",
      "Number of clusters 7\n",
      "Number of distinct families 7\n",
      "Adjusted Rand index: 0.42280289668\n",
      "Adjusted Mutual Information: 0.581275034043\n",
      "Fowlkes-Mallows: 0.608423261646\n",
      "Homogeneity: 0.584842444012\n",
      "Completeness: 0.850642671342\n",
      "BCubed Precision: 0.901268797291\n",
      "BCubed Recall: 0.597368782428\n",
      "BCubed FScore: 0.718505729956\n",
      "Silhouette 0.537244114664\n",
      "--------------------------------------------------------------------------------\n",
      "Clustering evaluation\n",
      "Number of clusters 7\n",
      "Number of distinct families 7\n",
      "Adjusted Rand index: 0.42280289668\n",
      "Adjusted Mutual Information: 0.581275034043\n",
      "Fowlkes-Mallows: 0.608423261646\n",
      "Homogeneity: 0.584842444012\n",
      "Completeness: 0.850642671342\n",
      "BCubed Precision: 0.901268797291\n",
      "BCubed Recall: 0.597368782428\n",
      "BCubed FScore: 0.718505729956\n",
      "Silhouette 0.537244114664\n"
     ]
    },
    {
     "name": "stdout",
     "output_type": "stream",
     "text": [
      "--------------------------------------------------------------------------------\n",
      "Clustering evaluation\n",
      "Number of clusters 7\n",
      "Number of distinct families 7\n",
      "Adjusted Rand index: 0.252809424508\n",
      "Adjusted Mutual Information: 0.405078465048\n",
      "Fowlkes-Mallows: 0.518839400764\n",
      "Homogeneity: 0.41025713446\n",
      "Completeness: 0.77470673897\n",
      "BCubed Precision: 0.892510951721\n",
      "BCubed Recall: 0.466376120428\n",
      "BCubed FScore: 0.612627500304\n",
      "Silhouette 0.449022477425\n",
      "--------------------------------------------------------------------------------\n",
      "Clustering evaluation\n",
      "Number of clusters 7\n",
      "Number of distinct families 7\n",
      "Adjusted Rand index: 0.252809424508\n",
      "Adjusted Mutual Information: 0.405078465048\n",
      "Fowlkes-Mallows: 0.518839400764\n",
      "Homogeneity: 0.41025713446\n",
      "Completeness: 0.77470673897\n",
      "BCubed Precision: 0.892510951721\n",
      "BCubed Recall: 0.466376120428\n",
      "BCubed FScore: 0.612627500304\n",
      "Silhouette 0.449022477425\n",
      "--------------------------------------------------------------------------------\n",
      "Clustering evaluation\n",
      "Number of clusters 7\n",
      "Number of distinct families 7\n",
      "Adjusted Rand index: 0.252809424508\n",
      "Adjusted Mutual Information: 0.405078465048\n",
      "Fowlkes-Mallows: 0.518839400764\n",
      "Homogeneity: 0.41025713446\n",
      "Completeness: 0.77470673897\n",
      "BCubed Precision: 0.892510951721\n",
      "BCubed Recall: 0.466376120428\n",
      "BCubed FScore: 0.612627500304\n",
      "Silhouette 0.449022477425\n",
      "--------------------------------------------------------------------------------\n",
      "Clustering evaluation\n",
      "Number of clusters 7\n",
      "Number of distinct families 7\n",
      "Adjusted Rand index: 0.252809424508\n",
      "Adjusted Mutual Information: 0.405078465048\n",
      "Fowlkes-Mallows: 0.518839400764\n",
      "Homogeneity: 0.41025713446\n",
      "Completeness: 0.77470673897\n",
      "BCubed Precision: 0.892510951721\n",
      "BCubed Recall: 0.466376120428\n",
      "BCubed FScore: 0.612627500304\n",
      "Silhouette 0.449022477425\n",
      "--------------------------------------------------------------------------------\n",
      "Clustering evaluation\n",
      "Number of clusters 7\n",
      "Number of distinct families 7\n",
      "Adjusted Rand index: 0.252809424508\n",
      "Adjusted Mutual Information: 0.405078465048\n",
      "Fowlkes-Mallows: 0.518839400764\n",
      "Homogeneity: 0.41025713446\n",
      "Completeness: 0.77470673897\n",
      "BCubed Precision: 0.892510951721\n",
      "BCubed Recall: 0.466376120428\n",
      "BCubed FScore: 0.612627500304\n",
      "Silhouette 0.449022477425\n",
      "--------------------------------------------------------------------------------\n",
      "Clustering evaluation\n",
      "Number of clusters 7\n",
      "Number of distinct families 7\n",
      "Adjusted Rand index: 0.195065325393\n",
      "Adjusted Mutual Information: 0.3649601498\n",
      "Fowlkes-Mallows: 0.492985073899\n",
      "Homogeneity: 0.370491712722\n",
      "Completeness: 0.778715135099\n",
      "BCubed Precision: 0.903687993473\n",
      "BCubed Recall: 0.417332426365\n",
      "BCubed FScore: 0.570980277563\n",
      "Silhouette 0.438873727493\n",
      "--------------------------------------------------------------------------------\n",
      "Clustering evaluation\n",
      "Number of clusters 7\n",
      "Number of distinct families 7\n",
      "Adjusted Rand index: 0.195065325393\n",
      "Adjusted Mutual Information: 0.3649601498\n",
      "Fowlkes-Mallows: 0.492985073899\n",
      "Homogeneity: 0.370491712722\n",
      "Completeness: 0.778715135099\n",
      "BCubed Precision: 0.903687993473\n",
      "BCubed Recall: 0.417332426365\n",
      "BCubed FScore: 0.570980277563\n",
      "Silhouette 0.438873727493\n",
      "--------------------------------------------------------------------------------\n",
      "Clustering evaluation\n",
      "Number of clusters 7\n",
      "Number of distinct families 7\n",
      "Adjusted Rand index: 0.195065325393\n",
      "Adjusted Mutual Information: 0.3649601498\n",
      "Fowlkes-Mallows: 0.492985073899\n",
      "Homogeneity: 0.370491712722\n",
      "Completeness: 0.778715135099\n",
      "BCubed Precision: 0.903687993473\n",
      "BCubed Recall: 0.417332426365\n",
      "BCubed FScore: 0.570980277563\n",
      "Silhouette 0.438873727493\n",
      "--------------------------------------------------------------------------------\n",
      "Clustering evaluation\n",
      "Number of clusters 7\n",
      "Number of distinct families 7\n",
      "Adjusted Rand index: 0.195065325393\n",
      "Adjusted Mutual Information: 0.3649601498\n",
      "Fowlkes-Mallows: 0.492985073899\n",
      "Homogeneity: 0.370491712722\n",
      "Completeness: 0.778715135099\n",
      "BCubed Precision: 0.903687993473\n",
      "BCubed Recall: 0.417332426365\n",
      "BCubed FScore: 0.570980277563\n",
      "Silhouette 0.438873727493\n",
      "--------------------------------------------------------------------------------\n",
      "Clustering evaluation\n",
      "Number of clusters 7\n",
      "Number of distinct families 7\n",
      "Adjusted Rand index: 0.195065325393\n",
      "Adjusted Mutual Information: 0.3649601498\n",
      "Fowlkes-Mallows: 0.492985073899\n",
      "Homogeneity: 0.370491712722\n",
      "Completeness: 0.778715135099\n",
      "BCubed Precision: 0.903687993473\n",
      "BCubed Recall: 0.417332426365\n",
      "BCubed FScore: 0.570980277563\n",
      "Silhouette 0.438873727493\n",
      "--------------------------------------------------------------------------------\n",
      "Clustering evaluation\n",
      "Number of clusters 7\n",
      "Number of distinct families 7\n",
      "Adjusted Rand index: 0.195065325393\n",
      "Adjusted Mutual Information: 0.3649601498\n",
      "Fowlkes-Mallows: 0.492985073899\n",
      "Homogeneity: 0.370491712722\n",
      "Completeness: 0.778715135099\n",
      "BCubed Precision: 0.903687993473\n",
      "BCubed Recall: 0.417332426365\n",
      "BCubed FScore: 0.570980277563\n",
      "Silhouette 0.438873727493\n",
      "--------------------------------------------------------------------------------\n",
      "Clustering evaluation\n",
      "Number of clusters 7\n",
      "Number of distinct families 7\n",
      "Adjusted Rand index: 0.195065325393\n",
      "Adjusted Mutual Information: 0.3649601498\n",
      "Fowlkes-Mallows: 0.492985073899\n",
      "Homogeneity: 0.370491712722\n",
      "Completeness: 0.778715135099\n",
      "BCubed Precision: 0.903687993473\n",
      "BCubed Recall: 0.417332426365\n",
      "BCubed FScore: 0.570980277563\n",
      "Silhouette 0.438873727493\n",
      "--------------------------------------------------------------------------------\n",
      "Clustering evaluation\n",
      "Number of clusters 7\n",
      "Number of distinct families 7\n",
      "Adjusted Rand index: 0.195065325393\n",
      "Adjusted Mutual Information: 0.3649601498\n",
      "Fowlkes-Mallows: 0.492985073899\n",
      "Homogeneity: 0.370491712722\n",
      "Completeness: 0.778715135099\n",
      "BCubed Precision: 0.903687993473\n",
      "BCubed Recall: 0.417332426365\n",
      "BCubed FScore: 0.570980277563\n",
      "Silhouette 0.438873727493\n",
      "--------------------------------------------------------------------------------\n",
      "Clustering evaluation\n",
      "Number of clusters 7\n",
      "Number of distinct families 7\n",
      "Adjusted Rand index: 0.194995139339\n",
      "Adjusted Mutual Information: 0.364961992075\n",
      "Fowlkes-Mallows: 0.492914349682\n",
      "Homogeneity: 0.370491712722\n",
      "Completeness: 0.778294356589\n",
      "BCubed Precision: 0.903456883659\n",
      "BCubed Recall: 0.417332426365\n",
      "BCubed FScore: 0.570934138415\n",
      "Silhouette 0.439179943933\n",
      "--------------------------------------------------------------------------------\n",
      "Clustering evaluation\n",
      "Number of clusters 7\n",
      "Number of distinct families 7\n",
      "Adjusted Rand index: 0.194995139339\n",
      "Adjusted Mutual Information: 0.364961992075\n",
      "Fowlkes-Mallows: 0.492914349682\n",
      "Homogeneity: 0.370491712722\n",
      "Completeness: 0.778294356589\n",
      "BCubed Precision: 0.903456883659\n",
      "BCubed Recall: 0.417332426365\n",
      "BCubed FScore: 0.570934138415\n",
      "Silhouette 0.439179943933\n",
      "--------------------------------------------------------------------------------\n",
      "Clustering evaluation\n",
      "Number of clusters 7\n",
      "Number of distinct families 7\n",
      "Adjusted Rand index: 0.194995139339\n",
      "Adjusted Mutual Information: 0.364961992075\n",
      "Fowlkes-Mallows: 0.492914349682\n",
      "Homogeneity: 0.370491712722\n",
      "Completeness: 0.778294356589\n",
      "BCubed Precision: 0.903456883659\n",
      "BCubed Recall: 0.417332426365\n",
      "BCubed FScore: 0.570934138415\n",
      "Silhouette 0.439179943933\n",
      "--------------------------------------------------------------------------------\n",
      "Clustering evaluation\n",
      "Number of clusters 7\n",
      "Number of distinct families 7\n",
      "Adjusted Rand index: 0.194995139339\n",
      "Adjusted Mutual Information: 0.364961992075\n",
      "Fowlkes-Mallows: 0.492914349682\n",
      "Homogeneity: 0.370491712722\n",
      "Completeness: 0.778294356589\n",
      "BCubed Precision: 0.903456883659\n",
      "BCubed Recall: 0.417332426365\n",
      "BCubed FScore: 0.570934138415\n",
      "Silhouette 0.439179943933\n",
      "--------------------------------------------------------------------------------\n",
      "Clustering evaluation\n",
      "Number of clusters 7\n",
      "Number of distinct families 7\n",
      "Adjusted Rand index: 0.194995139339\n",
      "Adjusted Mutual Information: 0.364961992075\n",
      "Fowlkes-Mallows: 0.492914349682\n",
      "Homogeneity: 0.370491712722\n",
      "Completeness: 0.778294356589\n",
      "BCubed Precision: 0.903456883659\n",
      "BCubed Recall: 0.417332426365\n",
      "BCubed FScore: 0.570934138415\n",
      "Silhouette 0.439179943933\n",
      "--------------------------------------------------------------------------------\n",
      "Clustering evaluation\n",
      "Number of clusters 7\n",
      "Number of distinct families 7\n",
      "Adjusted Rand index: 0.194995139339\n",
      "Adjusted Mutual Information: 0.364961992075\n",
      "Fowlkes-Mallows: 0.492914349682\n",
      "Homogeneity: 0.370491712722\n",
      "Completeness: 0.778294356589\n",
      "BCubed Precision: 0.903456883659\n",
      "BCubed Recall: 0.417332426365\n",
      "BCubed FScore: 0.570934138415\n",
      "Silhouette 0.439179943933\n"
     ]
    },
    {
     "name": "stdout",
     "output_type": "stream",
     "text": [
      "--------------------------------------------------------------------------------\n",
      "Clustering evaluation\n",
      "Number of clusters 7\n",
      "Number of distinct families 7\n",
      "Adjusted Rand index: 0.194995139339\n",
      "Adjusted Mutual Information: 0.364961992075\n",
      "Fowlkes-Mallows: 0.492914349682\n",
      "Homogeneity: 0.370491712722\n",
      "Completeness: 0.778294356589\n",
      "BCubed Precision: 0.903456883659\n",
      "BCubed Recall: 0.417332426365\n",
      "BCubed FScore: 0.570934138415\n",
      "Silhouette 0.439179943933\n",
      "--------------------------------------------------------------------------------\n",
      "Clustering evaluation\n",
      "Number of clusters 7\n",
      "Number of distinct families 7\n",
      "Adjusted Rand index: 0.194995139339\n",
      "Adjusted Mutual Information: 0.364961992075\n",
      "Fowlkes-Mallows: 0.492914349682\n",
      "Homogeneity: 0.370491712722\n",
      "Completeness: 0.778294356589\n",
      "BCubed Precision: 0.903456883659\n",
      "BCubed Recall: 0.417332426365\n",
      "BCubed FScore: 0.570934138415\n",
      "Silhouette 0.439179943933\n",
      "--------------------------------------------------------------------------------\n",
      "Clustering evaluation\n",
      "Number of clusters 7\n",
      "Number of distinct families 7\n",
      "Adjusted Rand index: 0.187287774316\n",
      "Adjusted Mutual Information: 0.350897042616\n",
      "Fowlkes-Mallows: 0.487798653823\n",
      "Homogeneity: 0.356551515741\n",
      "Completeness: 0.756058290288\n",
      "BCubed Precision: 0.895699958529\n",
      "BCubed Recall: 0.412230595165\n",
      "BCubed FScore: 0.564609376164\n",
      "Silhouette 0.4409969413\n",
      "--------------------------------------------------------------------------------\n",
      "Clustering evaluation\n",
      "Number of clusters 7\n",
      "Number of distinct families 7\n",
      "Adjusted Rand index: 0.187287774316\n",
      "Adjusted Mutual Information: 0.350897042616\n",
      "Fowlkes-Mallows: 0.487798653823\n",
      "Homogeneity: 0.356551515741\n",
      "Completeness: 0.756058290288\n",
      "BCubed Precision: 0.895699958529\n",
      "BCubed Recall: 0.412230595165\n",
      "BCubed FScore: 0.564609376164\n",
      "Silhouette 0.4409969413\n",
      "--------------------------------------------------------------------------------\n",
      "Clustering evaluation\n",
      "Number of clusters 7\n",
      "Number of distinct families 7\n",
      "Adjusted Rand index: 0.187287774316\n",
      "Adjusted Mutual Information: 0.350897042616\n",
      "Fowlkes-Mallows: 0.487798653823\n",
      "Homogeneity: 0.356551515741\n",
      "Completeness: 0.756058290288\n",
      "BCubed Precision: 0.895699958529\n",
      "BCubed Recall: 0.412230595165\n",
      "BCubed FScore: 0.564609376164\n",
      "Silhouette 0.4409969413\n",
      "--------------------------------------------------------------------------------\n",
      "Clustering evaluation\n",
      "Number of clusters 7\n",
      "Number of distinct families 7\n",
      "Adjusted Rand index: 0.187287774316\n",
      "Adjusted Mutual Information: 0.350897042616\n",
      "Fowlkes-Mallows: 0.487798653823\n",
      "Homogeneity: 0.356551515741\n",
      "Completeness: 0.756058290288\n",
      "BCubed Precision: 0.895699958529\n",
      "BCubed Recall: 0.412230595165\n",
      "BCubed FScore: 0.564609376164\n",
      "Silhouette 0.4409969413\n",
      "--------------------------------------------------------------------------------\n",
      "Clustering evaluation\n",
      "Number of clusters 7\n",
      "Number of distinct families 7\n",
      "Adjusted Rand index: 0.187287774316\n",
      "Adjusted Mutual Information: 0.350897042616\n",
      "Fowlkes-Mallows: 0.487798653823\n",
      "Homogeneity: 0.356551515741\n",
      "Completeness: 0.756058290288\n",
      "BCubed Precision: 0.895699958529\n",
      "BCubed Recall: 0.412230595165\n",
      "BCubed FScore: 0.564609376164\n",
      "Silhouette 0.4409969413\n",
      "--------------------------------------------------------------------------------\n",
      "Clustering evaluation\n",
      "Number of clusters 7\n",
      "Number of distinct families 7\n",
      "Adjusted Rand index: 0.187287774316\n",
      "Adjusted Mutual Information: 0.350897042616\n",
      "Fowlkes-Mallows: 0.487798653823\n",
      "Homogeneity: 0.356551515741\n",
      "Completeness: 0.756058290288\n",
      "BCubed Precision: 0.895699958529\n",
      "BCubed Recall: 0.412230595165\n",
      "BCubed FScore: 0.564609376164\n",
      "Silhouette 0.4409969413\n",
      "--------------------------------------------------------------------------------\n",
      "Clustering evaluation\n",
      "Number of clusters 7\n",
      "Number of distinct families 7\n",
      "Adjusted Rand index: 0.187287774316\n",
      "Adjusted Mutual Information: 0.350897042616\n",
      "Fowlkes-Mallows: 0.487798653823\n",
      "Homogeneity: 0.356551515741\n",
      "Completeness: 0.756058290288\n",
      "BCubed Precision: 0.895699958529\n",
      "BCubed Recall: 0.412230595165\n",
      "BCubed FScore: 0.564609376164\n",
      "Silhouette 0.4409969413\n",
      "--------------------------------------------------------------------------------\n",
      "Clustering evaluation\n",
      "Number of clusters 7\n",
      "Number of distinct families 7\n",
      "Adjusted Rand index: 0.187287774316\n",
      "Adjusted Mutual Information: 0.350897042616\n",
      "Fowlkes-Mallows: 0.487798653823\n",
      "Homogeneity: 0.356551515741\n",
      "Completeness: 0.756058290288\n",
      "BCubed Precision: 0.895699958529\n",
      "BCubed Recall: 0.412230595165\n",
      "BCubed FScore: 0.564609376164\n",
      "Silhouette 0.4409969413\n",
      "--------------------------------------------------------------------------------\n",
      "Clustering evaluation\n",
      "Number of clusters 7\n",
      "Number of distinct families 7\n",
      "Adjusted Rand index: 0.0743565881082\n",
      "Adjusted Mutual Information: 0.174538078193\n",
      "Fowlkes-Mallows: 0.436267023509\n",
      "Homogeneity: 0.180696909029\n",
      "Completeness: 0.686366498708\n",
      "BCubed Precision: 0.921853755272\n",
      "BCubed Recall: 0.289389646126\n",
      "BCubed FScore: 0.440497643513\n",
      "Silhouette 0.62455324242\n",
      "--------------------------------------------------------------------------------\n",
      "Clustering evaluation\n",
      "Number of clusters 7\n",
      "Number of distinct families 7\n",
      "Adjusted Rand index: 0.0743565881082\n",
      "Adjusted Mutual Information: 0.174538078193\n",
      "Fowlkes-Mallows: 0.436267023509\n",
      "Homogeneity: 0.180696909029\n",
      "Completeness: 0.686366498708\n",
      "BCubed Precision: 0.921853755272\n",
      "BCubed Recall: 0.289389646126\n",
      "BCubed FScore: 0.440497643513\n",
      "Silhouette 0.62455324242\n",
      "--------------------------------------------------------------------------------\n",
      "Clustering evaluation\n",
      "Number of clusters 7\n",
      "Number of distinct families 7\n",
      "Adjusted Rand index: 0.0743565881082\n",
      "Adjusted Mutual Information: 0.174538078193\n",
      "Fowlkes-Mallows: 0.436267023509\n",
      "Homogeneity: 0.180696909029\n",
      "Completeness: 0.686366498708\n",
      "BCubed Precision: 0.921853755272\n",
      "BCubed Recall: 0.289389646126\n",
      "BCubed FScore: 0.440497643513\n",
      "Silhouette 0.62455324242\n",
      "--------------------------------------------------------------------------------\n",
      "Clustering evaluation\n",
      "Number of clusters 7\n",
      "Number of distinct families 7\n",
      "Adjusted Rand index: 0.0743565881082\n",
      "Adjusted Mutual Information: 0.174538078193\n",
      "Fowlkes-Mallows: 0.436267023509\n",
      "Homogeneity: 0.180696909029\n",
      "Completeness: 0.686366498708\n",
      "BCubed Precision: 0.921853755272\n",
      "BCubed Recall: 0.289389646126\n",
      "BCubed FScore: 0.440497643513\n",
      "Silhouette 0.62455324242\n",
      "--------------------------------------------------------------------------------\n",
      "Clustering evaluation\n",
      "Number of clusters 7\n",
      "Number of distinct families 7\n",
      "Adjusted Rand index: 0.0743565881082\n",
      "Adjusted Mutual Information: 0.174538078193\n",
      "Fowlkes-Mallows: 0.436267023509\n",
      "Homogeneity: 0.180696909029\n",
      "Completeness: 0.686366498708\n",
      "BCubed Precision: 0.921853755272\n",
      "BCubed Recall: 0.289389646126\n",
      "BCubed FScore: 0.440497643513\n",
      "Silhouette 0.62455324242\n",
      "--------------------------------------------------------------------------------\n",
      "Clustering evaluation\n",
      "Number of clusters 7\n",
      "Number of distinct families 7\n",
      "Adjusted Rand index: 0.0743565881082\n",
      "Adjusted Mutual Information: 0.174538078193\n",
      "Fowlkes-Mallows: 0.436267023509\n",
      "Homogeneity: 0.180696909029\n",
      "Completeness: 0.686366498708\n",
      "BCubed Precision: 0.921853755272\n",
      "BCubed Recall: 0.289389646126\n",
      "BCubed FScore: 0.440497643513\n",
      "Silhouette 0.62455324242\n",
      "--------------------------------------------------------------------------------\n",
      "Clustering evaluation\n",
      "Number of clusters 7\n",
      "Number of distinct families 7\n",
      "Adjusted Rand index: 0.0743565881082\n",
      "Adjusted Mutual Information: 0.174538078193\n",
      "Fowlkes-Mallows: 0.436267023509\n",
      "Homogeneity: 0.180696909029\n",
      "Completeness: 0.686366498708\n",
      "BCubed Precision: 0.921853755272\n",
      "BCubed Recall: 0.289389646126\n",
      "BCubed FScore: 0.440497643513\n",
      "Silhouette 0.62455324242\n",
      "--------------------------------------------------------------------------------\n",
      "Clustering evaluation\n",
      "Number of clusters 7\n",
      "Number of distinct families 7\n",
      "Adjusted Rand index: 0.0743565881082\n",
      "Adjusted Mutual Information: 0.174538078193\n",
      "Fowlkes-Mallows: 0.436267023509\n",
      "Homogeneity: 0.180696909029\n",
      "Completeness: 0.686366498708\n",
      "BCubed Precision: 0.921853755272\n",
      "BCubed Recall: 0.289389646126\n",
      "BCubed FScore: 0.440497643513\n",
      "Silhouette 0.62455324242\n",
      "--------------------------------------------------------------------------------\n",
      "Clustering evaluation\n",
      "Number of clusters 7\n",
      "Number of distinct families 7\n",
      "Adjusted Rand index: 0.0699865631979\n",
      "Adjusted Mutual Information: 0.169367544734\n",
      "Fowlkes-Mallows: 0.434114875829\n",
      "Homogeneity: 0.176221852586\n",
      "Completeness: 0.634617028716\n",
      "BCubed Precision: 0.911387631976\n",
      "BCubed Recall: 0.285235501825\n",
      "BCubed FScore: 0.434489525099\n",
      "Silhouette 0.607199979635\n"
     ]
    },
    {
     "name": "stdout",
     "output_type": "stream",
     "text": [
      "--------------------------------------------------------------------------------\n",
      "Clustering evaluation\n",
      "Number of clusters 7\n",
      "Number of distinct families 7\n",
      "Adjusted Rand index: 0.0699865631979\n",
      "Adjusted Mutual Information: 0.169367544734\n",
      "Fowlkes-Mallows: 0.434114875829\n",
      "Homogeneity: 0.176221852586\n",
      "Completeness: 0.634617028716\n",
      "BCubed Precision: 0.911387631976\n",
      "BCubed Recall: 0.285235501825\n",
      "BCubed FScore: 0.434489525099\n",
      "Silhouette 0.607199979635\n",
      "--------------------------------------------------------------------------------\n",
      "Clustering evaluation\n",
      "Number of clusters 7\n",
      "Number of distinct families 7\n",
      "Adjusted Rand index: 0.0699865631979\n",
      "Adjusted Mutual Information: 0.169367544734\n",
      "Fowlkes-Mallows: 0.434114875829\n",
      "Homogeneity: 0.176221852586\n",
      "Completeness: 0.634617028716\n",
      "BCubed Precision: 0.911387631976\n",
      "BCubed Recall: 0.285235501825\n",
      "BCubed FScore: 0.434489525099\n",
      "Silhouette 0.607199979635\n",
      "--------------------------------------------------------------------------------\n",
      "Clustering evaluation\n",
      "Number of clusters 7\n",
      "Number of distinct families 7\n",
      "Adjusted Rand index: 0.0699865631979\n",
      "Adjusted Mutual Information: 0.169367544734\n",
      "Fowlkes-Mallows: 0.434114875829\n",
      "Homogeneity: 0.176221852586\n",
      "Completeness: 0.634617028716\n",
      "BCubed Precision: 0.911387631976\n",
      "BCubed Recall: 0.285235501825\n",
      "BCubed FScore: 0.434489525099\n",
      "Silhouette 0.607199979635\n",
      "--------------------------------------------------------------------------------\n",
      "Clustering evaluation\n",
      "Number of clusters 7\n",
      "Number of distinct families 7\n",
      "Adjusted Rand index: 0.0699865631979\n",
      "Adjusted Mutual Information: 0.169367544734\n",
      "Fowlkes-Mallows: 0.434114875829\n",
      "Homogeneity: 0.176221852586\n",
      "Completeness: 0.634617028716\n",
      "BCubed Precision: 0.911387631976\n",
      "BCubed Recall: 0.285235501825\n",
      "BCubed FScore: 0.434489525099\n",
      "Silhouette 0.607199979635\n",
      "--------------------------------------------------------------------------------\n",
      "Clustering evaluation\n",
      "Number of clusters 7\n",
      "Number of distinct families 7\n",
      "Adjusted Rand index: 0.0699865631979\n",
      "Adjusted Mutual Information: 0.169367544734\n",
      "Fowlkes-Mallows: 0.434114875829\n",
      "Homogeneity: 0.176221852586\n",
      "Completeness: 0.634617028716\n",
      "BCubed Precision: 0.911387631976\n",
      "BCubed Recall: 0.285235501825\n",
      "BCubed FScore: 0.434489525099\n",
      "Silhouette 0.607199979635\n",
      "--------------------------------------------------------------------------------\n",
      "Clustering evaluation\n",
      "Number of clusters 7\n",
      "Number of distinct families 7\n",
      "Adjusted Rand index: 0.0699865631979\n",
      "Adjusted Mutual Information: 0.169367544734\n",
      "Fowlkes-Mallows: 0.434114875829\n",
      "Homogeneity: 0.176221852586\n",
      "Completeness: 0.634617028716\n",
      "BCubed Precision: 0.911387631976\n",
      "BCubed Recall: 0.285235501825\n",
      "BCubed FScore: 0.434489525099\n",
      "Silhouette 0.607199979635\n",
      "--------------------------------------------------------------------------------\n",
      "Clustering evaluation\n",
      "Number of clusters 7\n",
      "Number of distinct families 7\n",
      "Adjusted Rand index: 0.0699865631979\n",
      "Adjusted Mutual Information: 0.169367544734\n",
      "Fowlkes-Mallows: 0.434114875829\n",
      "Homogeneity: 0.176221852586\n",
      "Completeness: 0.634617028716\n",
      "BCubed Precision: 0.911387631976\n",
      "BCubed Recall: 0.285235501825\n",
      "BCubed FScore: 0.434489525099\n",
      "Silhouette 0.607199979635\n"
     ]
    }
   ],
   "source": [
    "to_plot_f, to_plot_s, clusters = test_params(data_matrix_p, numerical_labels, config, thresholds, branching_factors)"
   ]
  },
  {
   "cell_type": "code",
   "execution_count": 15,
   "metadata": {},
   "outputs": [
    {
     "data": {
      "application/vnd.plotly.v1+json": {
       "data": [
        {
         "type": "surface",
         "x": [
          50,
          100,
          150,
          300,
          500,
          1000,
          2000,
          3000
         ],
         "y": [
          50,
          100,
          150,
          300,
          500,
          1000,
          2000,
          3000
         ],
         "z": [
          [
           0.7185057299564905,
           0.7185057299564905,
           0.7185057299564905,
           0.7185057299564905,
           0.7185057299564905,
           0.7185057299564905,
           0.7185057299564905,
           0.7185057299564905
          ],
          [
           0.7185057299564905,
           0.7185057299564905,
           0.7185057299564905,
           0.7185057299564905,
           0.7185057299564905,
           0.7185057299564905,
           0.7185057299564905,
           0.7185057299564905
          ],
          [
           0.7185057299564905,
           0.7185057299564905,
           0.7185057299564905,
           0.6126275003043774,
           0.6126275003043774,
           0.6126275003043774,
           0.6126275003043774,
           0.6126275003043774
          ],
          [
           0.5709802775630564,
           0.5709802775630564,
           0.5709802775630564,
           0.5709802775630564,
           0.5709802775630564,
           0.5709802775630564,
           0.5709802775630564,
           0.5709802775630564
          ],
          [
           0.5709341384153761,
           0.5709341384153761,
           0.5709341384153761,
           0.5709341384153761,
           0.5709341384153761,
           0.5709341384153761,
           0.5709341384153761,
           0.5709341384153761
          ],
          [
           0.5646093761643787,
           0.5646093761643787,
           0.5646093761643787,
           0.5646093761643787,
           0.5646093761643787,
           0.5646093761643787,
           0.5646093761643787,
           0.5646093761643787
          ],
          [
           0.44049764351259385,
           0.44049764351259385,
           0.44049764351259385,
           0.44049764351259385,
           0.44049764351259385,
           0.44049764351259385,
           0.44049764351259385,
           0.44049764351259385
          ],
          [
           0.4344895250992996,
           0.4344895250992996,
           0.4344895250992996,
           0.4344895250992996,
           0.4344895250992996,
           0.4344895250992996,
           0.4344895250992996,
           0.4344895250992996
          ]
         ]
        }
       ],
       "layout": {
        "title": "f1 scores"
       }
      },
      "text/html": [
       "<div id=\"394f18fa-c714-413b-8066-de5c99ccbabb\" style=\"height: 525px; width: 100%;\" class=\"plotly-graph-div\"></div><script type=\"text/javascript\">require([\"plotly\"], function(Plotly) { window.PLOTLYENV=window.PLOTLYENV || {};window.PLOTLYENV.BASE_URL=\"https://plot.ly\";Plotly.newPlot(\"394f18fa-c714-413b-8066-de5c99ccbabb\", [{\"type\": \"surface\", \"x\": [50, 100, 150, 300, 500, 1000, 2000, 3000], \"y\": [50, 100, 150, 300, 500, 1000, 2000, 3000], \"z\": [[0.7185057299564905, 0.7185057299564905, 0.7185057299564905, 0.7185057299564905, 0.7185057299564905, 0.7185057299564905, 0.7185057299564905, 0.7185057299564905], [0.7185057299564905, 0.7185057299564905, 0.7185057299564905, 0.7185057299564905, 0.7185057299564905, 0.7185057299564905, 0.7185057299564905, 0.7185057299564905], [0.7185057299564905, 0.7185057299564905, 0.7185057299564905, 0.6126275003043774, 0.6126275003043774, 0.6126275003043774, 0.6126275003043774, 0.6126275003043774], [0.5709802775630564, 0.5709802775630564, 0.5709802775630564, 0.5709802775630564, 0.5709802775630564, 0.5709802775630564, 0.5709802775630564, 0.5709802775630564], [0.5709341384153761, 0.5709341384153761, 0.5709341384153761, 0.5709341384153761, 0.5709341384153761, 0.5709341384153761, 0.5709341384153761, 0.5709341384153761], [0.5646093761643787, 0.5646093761643787, 0.5646093761643787, 0.5646093761643787, 0.5646093761643787, 0.5646093761643787, 0.5646093761643787, 0.5646093761643787], [0.44049764351259385, 0.44049764351259385, 0.44049764351259385, 0.44049764351259385, 0.44049764351259385, 0.44049764351259385, 0.44049764351259385, 0.44049764351259385], [0.4344895250992996, 0.4344895250992996, 0.4344895250992996, 0.4344895250992996, 0.4344895250992996, 0.4344895250992996, 0.4344895250992996, 0.4344895250992996]]}], {\"title\": \"f1 scores\"}, {\"showLink\": true, \"linkText\": \"Export to plot.ly\"})});</script>"
      ],
      "text/vnd.plotly.v1+html": [
       "<div id=\"394f18fa-c714-413b-8066-de5c99ccbabb\" style=\"height: 525px; width: 100%;\" class=\"plotly-graph-div\"></div><script type=\"text/javascript\">require([\"plotly\"], function(Plotly) { window.PLOTLYENV=window.PLOTLYENV || {};window.PLOTLYENV.BASE_URL=\"https://plot.ly\";Plotly.newPlot(\"394f18fa-c714-413b-8066-de5c99ccbabb\", [{\"type\": \"surface\", \"x\": [50, 100, 150, 300, 500, 1000, 2000, 3000], \"y\": [50, 100, 150, 300, 500, 1000, 2000, 3000], \"z\": [[0.7185057299564905, 0.7185057299564905, 0.7185057299564905, 0.7185057299564905, 0.7185057299564905, 0.7185057299564905, 0.7185057299564905, 0.7185057299564905], [0.7185057299564905, 0.7185057299564905, 0.7185057299564905, 0.7185057299564905, 0.7185057299564905, 0.7185057299564905, 0.7185057299564905, 0.7185057299564905], [0.7185057299564905, 0.7185057299564905, 0.7185057299564905, 0.6126275003043774, 0.6126275003043774, 0.6126275003043774, 0.6126275003043774, 0.6126275003043774], [0.5709802775630564, 0.5709802775630564, 0.5709802775630564, 0.5709802775630564, 0.5709802775630564, 0.5709802775630564, 0.5709802775630564, 0.5709802775630564], [0.5709341384153761, 0.5709341384153761, 0.5709341384153761, 0.5709341384153761, 0.5709341384153761, 0.5709341384153761, 0.5709341384153761, 0.5709341384153761], [0.5646093761643787, 0.5646093761643787, 0.5646093761643787, 0.5646093761643787, 0.5646093761643787, 0.5646093761643787, 0.5646093761643787, 0.5646093761643787], [0.44049764351259385, 0.44049764351259385, 0.44049764351259385, 0.44049764351259385, 0.44049764351259385, 0.44049764351259385, 0.44049764351259385, 0.44049764351259385], [0.4344895250992996, 0.4344895250992996, 0.4344895250992996, 0.4344895250992996, 0.4344895250992996, 0.4344895250992996, 0.4344895250992996, 0.4344895250992996]]}], {\"title\": \"f1 scores\"}, {\"showLink\": true, \"linkText\": \"Export to plot.ly\"})});</script>"
      ]
     },
     "metadata": {},
     "output_type": "display_data"
    },
    {
     "data": {
      "application/vnd.plotly.v1+json": {
       "data": [
        {
         "type": "surface",
         "x": [
          50,
          100,
          150,
          300,
          500,
          1000,
          2000,
          3000
         ],
         "y": [
          50,
          100,
          150,
          300,
          500,
          1000,
          2000,
          3000
         ],
         "z": [
          [
           0.5372441146637298,
           0.5372441146637298,
           0.5372441146637298,
           0.5372441146637298,
           0.5372441146637298,
           0.5372441146637298,
           0.5372441146637298,
           0.5372441146637298
          ],
          [
           0.5372441146637298,
           0.5372441146637298,
           0.5372441146637298,
           0.5372441146637298,
           0.5372441146637298,
           0.5372441146637298,
           0.5372441146637298,
           0.5372441146637298
          ],
          [
           0.5372441146637298,
           0.5372441146637298,
           0.5372441146637298,
           0.4490224774247464,
           0.4490224774247464,
           0.4490224774247464,
           0.4490224774247464,
           0.4490224774247464
          ],
          [
           0.43887372749293385,
           0.43887372749293385,
           0.43887372749293385,
           0.43887372749293385,
           0.43887372749293385,
           0.43887372749293385,
           0.43887372749293385,
           0.43887372749293385
          ],
          [
           0.43917994393273657,
           0.43917994393273657,
           0.43917994393273657,
           0.43917994393273657,
           0.43917994393273657,
           0.43917994393273657,
           0.43917994393273657,
           0.43917994393273657
          ],
          [
           0.4409969412996076,
           0.4409969412996076,
           0.4409969412996076,
           0.4409969412996076,
           0.4409969412996076,
           0.4409969412996076,
           0.4409969412996076,
           0.4409969412996076
          ],
          [
           0.6245532424197431,
           0.6245532424197431,
           0.6245532424197431,
           0.6245532424197431,
           0.6245532424197431,
           0.6245532424197431,
           0.6245532424197431,
           0.6245532424197431
          ],
          [
           0.6071999796345237,
           0.6071999796345237,
           0.6071999796345237,
           0.6071999796345237,
           0.6071999796345237,
           0.6071999796345237,
           0.6071999796345237,
           0.6071999796345237
          ]
         ]
        }
       ],
       "layout": {
        "title": "silhouette scores"
       }
      },
      "text/html": [
       "<div id=\"0cb36c73-ab8b-43ed-8fc7-77c0e7a42d49\" style=\"height: 525px; width: 100%;\" class=\"plotly-graph-div\"></div><script type=\"text/javascript\">require([\"plotly\"], function(Plotly) { window.PLOTLYENV=window.PLOTLYENV || {};window.PLOTLYENV.BASE_URL=\"https://plot.ly\";Plotly.newPlot(\"0cb36c73-ab8b-43ed-8fc7-77c0e7a42d49\", [{\"type\": \"surface\", \"x\": [50, 100, 150, 300, 500, 1000, 2000, 3000], \"y\": [50, 100, 150, 300, 500, 1000, 2000, 3000], \"z\": [[0.5372441146637298, 0.5372441146637298, 0.5372441146637298, 0.5372441146637298, 0.5372441146637298, 0.5372441146637298, 0.5372441146637298, 0.5372441146637298], [0.5372441146637298, 0.5372441146637298, 0.5372441146637298, 0.5372441146637298, 0.5372441146637298, 0.5372441146637298, 0.5372441146637298, 0.5372441146637298], [0.5372441146637298, 0.5372441146637298, 0.5372441146637298, 0.4490224774247464, 0.4490224774247464, 0.4490224774247464, 0.4490224774247464, 0.4490224774247464], [0.43887372749293385, 0.43887372749293385, 0.43887372749293385, 0.43887372749293385, 0.43887372749293385, 0.43887372749293385, 0.43887372749293385, 0.43887372749293385], [0.43917994393273657, 0.43917994393273657, 0.43917994393273657, 0.43917994393273657, 0.43917994393273657, 0.43917994393273657, 0.43917994393273657, 0.43917994393273657], [0.4409969412996076, 0.4409969412996076, 0.4409969412996076, 0.4409969412996076, 0.4409969412996076, 0.4409969412996076, 0.4409969412996076, 0.4409969412996076], [0.6245532424197431, 0.6245532424197431, 0.6245532424197431, 0.6245532424197431, 0.6245532424197431, 0.6245532424197431, 0.6245532424197431, 0.6245532424197431], [0.6071999796345237, 0.6071999796345237, 0.6071999796345237, 0.6071999796345237, 0.6071999796345237, 0.6071999796345237, 0.6071999796345237, 0.6071999796345237]]}], {\"title\": \"silhouette scores\"}, {\"showLink\": true, \"linkText\": \"Export to plot.ly\"})});</script>"
      ],
      "text/vnd.plotly.v1+html": [
       "<div id=\"0cb36c73-ab8b-43ed-8fc7-77c0e7a42d49\" style=\"height: 525px; width: 100%;\" class=\"plotly-graph-div\"></div><script type=\"text/javascript\">require([\"plotly\"], function(Plotly) { window.PLOTLYENV=window.PLOTLYENV || {};window.PLOTLYENV.BASE_URL=\"https://plot.ly\";Plotly.newPlot(\"0cb36c73-ab8b-43ed-8fc7-77c0e7a42d49\", [{\"type\": \"surface\", \"x\": [50, 100, 150, 300, 500, 1000, 2000, 3000], \"y\": [50, 100, 150, 300, 500, 1000, 2000, 3000], \"z\": [[0.5372441146637298, 0.5372441146637298, 0.5372441146637298, 0.5372441146637298, 0.5372441146637298, 0.5372441146637298, 0.5372441146637298, 0.5372441146637298], [0.5372441146637298, 0.5372441146637298, 0.5372441146637298, 0.5372441146637298, 0.5372441146637298, 0.5372441146637298, 0.5372441146637298, 0.5372441146637298], [0.5372441146637298, 0.5372441146637298, 0.5372441146637298, 0.4490224774247464, 0.4490224774247464, 0.4490224774247464, 0.4490224774247464, 0.4490224774247464], [0.43887372749293385, 0.43887372749293385, 0.43887372749293385, 0.43887372749293385, 0.43887372749293385, 0.43887372749293385, 0.43887372749293385, 0.43887372749293385], [0.43917994393273657, 0.43917994393273657, 0.43917994393273657, 0.43917994393273657, 0.43917994393273657, 0.43917994393273657, 0.43917994393273657, 0.43917994393273657], [0.4409969412996076, 0.4409969412996076, 0.4409969412996076, 0.4409969412996076, 0.4409969412996076, 0.4409969412996076, 0.4409969412996076, 0.4409969412996076], [0.6245532424197431, 0.6245532424197431, 0.6245532424197431, 0.6245532424197431, 0.6245532424197431, 0.6245532424197431, 0.6245532424197431, 0.6245532424197431], [0.6071999796345237, 0.6071999796345237, 0.6071999796345237, 0.6071999796345237, 0.6071999796345237, 0.6071999796345237, 0.6071999796345237, 0.6071999796345237]]}], {\"title\": \"silhouette scores\"}, {\"showLink\": true, \"linkText\": \"Export to plot.ly\"})});</script>"
      ]
     },
     "metadata": {},
     "output_type": "display_data"
    },
    {
     "data": {
      "application/vnd.plotly.v1+json": {
       "data": [
        {
         "type": "surface",
         "x": [
          50,
          100,
          150,
          300,
          500,
          1000,
          2000,
          3000
         ],
         "y": [
          50,
          100,
          150,
          300,
          500,
          1000,
          2000,
          3000
         ],
         "z": [
          [
           7,
           7,
           7,
           7,
           7,
           7,
           7,
           7
          ],
          [
           7,
           7,
           7,
           7,
           7,
           7,
           7,
           7
          ],
          [
           7,
           7,
           7,
           7,
           7,
           7,
           7,
           7
          ],
          [
           7,
           7,
           7,
           7,
           7,
           7,
           7,
           7
          ],
          [
           7,
           7,
           7,
           7,
           7,
           7,
           7,
           7
          ],
          [
           7,
           7,
           7,
           7,
           7,
           7,
           7,
           7
          ],
          [
           7,
           7,
           7,
           7,
           7,
           7,
           7,
           7
          ],
          [
           7,
           7,
           7,
           7,
           7,
           7,
           7,
           7
          ]
         ]
        }
       ],
       "layout": {
        "title": "clusters"
       }
      },
      "text/html": [
       "<div id=\"7ed2da1a-238f-4d4d-bd23-66a793f8f8d3\" style=\"height: 525px; width: 100%;\" class=\"plotly-graph-div\"></div><script type=\"text/javascript\">require([\"plotly\"], function(Plotly) { window.PLOTLYENV=window.PLOTLYENV || {};window.PLOTLYENV.BASE_URL=\"https://plot.ly\";Plotly.newPlot(\"7ed2da1a-238f-4d4d-bd23-66a793f8f8d3\", [{\"type\": \"surface\", \"x\": [50, 100, 150, 300, 500, 1000, 2000, 3000], \"y\": [50, 100, 150, 300, 500, 1000, 2000, 3000], \"z\": [[7.0, 7.0, 7.0, 7.0, 7.0, 7.0, 7.0, 7.0], [7.0, 7.0, 7.0, 7.0, 7.0, 7.0, 7.0, 7.0], [7.0, 7.0, 7.0, 7.0, 7.0, 7.0, 7.0, 7.0], [7.0, 7.0, 7.0, 7.0, 7.0, 7.0, 7.0, 7.0], [7.0, 7.0, 7.0, 7.0, 7.0, 7.0, 7.0, 7.0], [7.0, 7.0, 7.0, 7.0, 7.0, 7.0, 7.0, 7.0], [7.0, 7.0, 7.0, 7.0, 7.0, 7.0, 7.0, 7.0], [7.0, 7.0, 7.0, 7.0, 7.0, 7.0, 7.0, 7.0]]}], {\"title\": \"clusters\"}, {\"showLink\": true, \"linkText\": \"Export to plot.ly\"})});</script>"
      ],
      "text/vnd.plotly.v1+html": [
       "<div id=\"7ed2da1a-238f-4d4d-bd23-66a793f8f8d3\" style=\"height: 525px; width: 100%;\" class=\"plotly-graph-div\"></div><script type=\"text/javascript\">require([\"plotly\"], function(Plotly) { window.PLOTLYENV=window.PLOTLYENV || {};window.PLOTLYENV.BASE_URL=\"https://plot.ly\";Plotly.newPlot(\"7ed2da1a-238f-4d4d-bd23-66a793f8f8d3\", [{\"type\": \"surface\", \"x\": [50, 100, 150, 300, 500, 1000, 2000, 3000], \"y\": [50, 100, 150, 300, 500, 1000, 2000, 3000], \"z\": [[7.0, 7.0, 7.0, 7.0, 7.0, 7.0, 7.0, 7.0], [7.0, 7.0, 7.0, 7.0, 7.0, 7.0, 7.0, 7.0], [7.0, 7.0, 7.0, 7.0, 7.0, 7.0, 7.0, 7.0], [7.0, 7.0, 7.0, 7.0, 7.0, 7.0, 7.0, 7.0], [7.0, 7.0, 7.0, 7.0, 7.0, 7.0, 7.0, 7.0], [7.0, 7.0, 7.0, 7.0, 7.0, 7.0, 7.0, 7.0], [7.0, 7.0, 7.0, 7.0, 7.0, 7.0, 7.0, 7.0], [7.0, 7.0, 7.0, 7.0, 7.0, 7.0, 7.0, 7.0]]}], {\"title\": \"clusters\"}, {\"showLink\": true, \"linkText\": \"Export to plot.ly\"})});</script>"
      ]
     },
     "metadata": {},
     "output_type": "display_data"
    }
   ],
   "source": [
    "plot_surfaces(to_plot_f, to_plot_s, clusters, thresholds, branching_factors)"
   ]
  },
  {
   "cell_type": "markdown",
   "metadata": {},
   "source": [
    "Now let's see how it compares with the same algorithm applied to a data matrix obtained using Random Forest Classifiers for feature selection."
   ]
  },
  {
   "cell_type": "code",
   "execution_count": null,
   "metadata": {},
   "outputs": [],
   "source": [
    "data_matrix_r = np.loadtxt('data/matrix/rfc_128_1209.txt')"
   ]
  },
  {
   "cell_type": "code",
   "execution_count": null,
   "metadata": {},
   "outputs": [],
   "source": [
    "to_plot_f, to_plot_s, clusters = test_params(data_matrix_r, numerical_labels, config, thresholds, branching_factors)"
   ]
  },
  {
   "cell_type": "code",
   "execution_count": null,
   "metadata": {},
   "outputs": [],
   "source": [
    "plot_surfaces(to_plot_f, to_plot_s, clusters, thresholds, branching_factors)"
   ]
  },
  {
   "cell_type": "markdown",
   "metadata": {},
   "source": [
    "### 256 features\n"
   ]
  },
  {
   "cell_type": "code",
   "execution_count": 16,
   "metadata": {},
   "outputs": [],
   "source": [
    "data_matrix_p = np.loadtxt('data/matrix/pca_256_1209.txt')"
   ]
  },
  {
   "cell_type": "code",
   "execution_count": 17,
   "metadata": {},
   "outputs": [],
   "source": [
    "to_plot_f, to_plot_s, clusters = test_params(data_matrix_p, numerical_labels, config, thresholds, branching_factors)"
   ]
  },
  {
   "cell_type": "code",
   "execution_count": 18,
   "metadata": {},
   "outputs": [
    {
     "data": {
      "application/vnd.plotly.v1+json": {
       "data": [
        {
         "type": "surface",
         "x": [
          50,
          100,
          150,
          300,
          500,
          1000,
          2000,
          3000
         ],
         "y": [
          50,
          100,
          150,
          300,
          500,
          1000,
          2000,
          3000
         ],
         "z": [
          [
           0.7185057299564905,
           0.7185057299564905,
           0.7185057299564905,
           0.7185057299564905,
           0.7185057299564905,
           0.7185057299564905,
           0.7185057299564905,
           0.7185057299564905
          ],
          [
           0.7185057299564905,
           0.7185057299564905,
           0.7185057299564905,
           0.7185057299564905,
           0.7185057299564905,
           0.7185057299564905,
           0.7185057299564905,
           0.7185057299564905
          ],
          [
           0.7185057299564905,
           0.7185057299564905,
           0.7185057299564905,
           0.7185057299564905,
           0.7185057299564905,
           0.7185057299564905,
           0.7185057299564905,
           0.7185057299564905
          ],
          [
           0.7185057299564905,
           0.7185057299564905,
           0.7185057299564905,
           0.7185057299564905,
           0.7185057299564905,
           0.7185057299564905,
           0.7185057299564905,
           0.7185057299564905
          ],
          [
           0.5709802775630564,
           0.5709802775630564,
           0.5709802775630564,
           0.5709802775630564,
           0.5709802775630564,
           0.5709802775630564,
           0.5709802775630564,
           0.5709802775630564
          ],
          [
           0.5620602188722478,
           0.5620602188722478,
           0.5620602188722478,
           0.5620602188722478,
           0.5620602188722478,
           0.5620602188722478,
           0.5620602188722478,
           0.5620602188722478
          ],
          [
           0.43677790260810806,
           0.43677790260810806,
           0.43677790260810806,
           0.43677790260810806,
           0.43677790260810806,
           0.43677790260810806,
           0.43677790260810806,
           0.43677790260810806
          ],
          [
           0.43463450679126225,
           0.43463450679126225,
           0.43463450679126225,
           0.43463450679126225,
           0.43463450679126225,
           0.43463450679126225,
           0.43463450679126225,
           0.43463450679126225
          ]
         ]
        }
       ],
       "layout": {
        "title": "f1 scores"
       }
      },
      "text/html": [
       "<div id=\"1d260bc7-3099-4758-a4f9-b5ee9644ef48\" style=\"height: 525px; width: 100%;\" class=\"plotly-graph-div\"></div><script type=\"text/javascript\">require([\"plotly\"], function(Plotly) { window.PLOTLYENV=window.PLOTLYENV || {};window.PLOTLYENV.BASE_URL=\"https://plot.ly\";Plotly.newPlot(\"1d260bc7-3099-4758-a4f9-b5ee9644ef48\", [{\"type\": \"surface\", \"x\": [50, 100, 150, 300, 500, 1000, 2000, 3000], \"y\": [50, 100, 150, 300, 500, 1000, 2000, 3000], \"z\": [[0.7185057299564905, 0.7185057299564905, 0.7185057299564905, 0.7185057299564905, 0.7185057299564905, 0.7185057299564905, 0.7185057299564905, 0.7185057299564905], [0.7185057299564905, 0.7185057299564905, 0.7185057299564905, 0.7185057299564905, 0.7185057299564905, 0.7185057299564905, 0.7185057299564905, 0.7185057299564905], [0.7185057299564905, 0.7185057299564905, 0.7185057299564905, 0.7185057299564905, 0.7185057299564905, 0.7185057299564905, 0.7185057299564905, 0.7185057299564905], [0.7185057299564905, 0.7185057299564905, 0.7185057299564905, 0.7185057299564905, 0.7185057299564905, 0.7185057299564905, 0.7185057299564905, 0.7185057299564905], [0.5709802775630564, 0.5709802775630564, 0.5709802775630564, 0.5709802775630564, 0.5709802775630564, 0.5709802775630564, 0.5709802775630564, 0.5709802775630564], [0.5620602188722478, 0.5620602188722478, 0.5620602188722478, 0.5620602188722478, 0.5620602188722478, 0.5620602188722478, 0.5620602188722478, 0.5620602188722478], [0.43677790260810806, 0.43677790260810806, 0.43677790260810806, 0.43677790260810806, 0.43677790260810806, 0.43677790260810806, 0.43677790260810806, 0.43677790260810806], [0.43463450679126225, 0.43463450679126225, 0.43463450679126225, 0.43463450679126225, 0.43463450679126225, 0.43463450679126225, 0.43463450679126225, 0.43463450679126225]]}], {\"title\": \"f1 scores\"}, {\"showLink\": true, \"linkText\": \"Export to plot.ly\"})});</script>"
      ],
      "text/vnd.plotly.v1+html": [
       "<div id=\"1d260bc7-3099-4758-a4f9-b5ee9644ef48\" style=\"height: 525px; width: 100%;\" class=\"plotly-graph-div\"></div><script type=\"text/javascript\">require([\"plotly\"], function(Plotly) { window.PLOTLYENV=window.PLOTLYENV || {};window.PLOTLYENV.BASE_URL=\"https://plot.ly\";Plotly.newPlot(\"1d260bc7-3099-4758-a4f9-b5ee9644ef48\", [{\"type\": \"surface\", \"x\": [50, 100, 150, 300, 500, 1000, 2000, 3000], \"y\": [50, 100, 150, 300, 500, 1000, 2000, 3000], \"z\": [[0.7185057299564905, 0.7185057299564905, 0.7185057299564905, 0.7185057299564905, 0.7185057299564905, 0.7185057299564905, 0.7185057299564905, 0.7185057299564905], [0.7185057299564905, 0.7185057299564905, 0.7185057299564905, 0.7185057299564905, 0.7185057299564905, 0.7185057299564905, 0.7185057299564905, 0.7185057299564905], [0.7185057299564905, 0.7185057299564905, 0.7185057299564905, 0.7185057299564905, 0.7185057299564905, 0.7185057299564905, 0.7185057299564905, 0.7185057299564905], [0.7185057299564905, 0.7185057299564905, 0.7185057299564905, 0.7185057299564905, 0.7185057299564905, 0.7185057299564905, 0.7185057299564905, 0.7185057299564905], [0.5709802775630564, 0.5709802775630564, 0.5709802775630564, 0.5709802775630564, 0.5709802775630564, 0.5709802775630564, 0.5709802775630564, 0.5709802775630564], [0.5620602188722478, 0.5620602188722478, 0.5620602188722478, 0.5620602188722478, 0.5620602188722478, 0.5620602188722478, 0.5620602188722478, 0.5620602188722478], [0.43677790260810806, 0.43677790260810806, 0.43677790260810806, 0.43677790260810806, 0.43677790260810806, 0.43677790260810806, 0.43677790260810806, 0.43677790260810806], [0.43463450679126225, 0.43463450679126225, 0.43463450679126225, 0.43463450679126225, 0.43463450679126225, 0.43463450679126225, 0.43463450679126225, 0.43463450679126225]]}], {\"title\": \"f1 scores\"}, {\"showLink\": true, \"linkText\": \"Export to plot.ly\"})});</script>"
      ]
     },
     "metadata": {},
     "output_type": "display_data"
    },
    {
     "data": {
      "application/vnd.plotly.v1+json": {
       "data": [
        {
         "type": "surface",
         "x": [
          50,
          100,
          150,
          300,
          500,
          1000,
          2000,
          3000
         ],
         "y": [
          50,
          100,
          150,
          300,
          500,
          1000,
          2000,
          3000
         ],
         "z": [
          [
           0.4892905282657825,
           0.4892905282657825,
           0.4892905282657825,
           0.4892905282657825,
           0.4892905282657825,
           0.4892905282657825,
           0.4892905282657825,
           0.4892905282657825
          ],
          [
           0.4892905282657825,
           0.4892905282657825,
           0.4892905282657825,
           0.4892905282657825,
           0.4892905282657825,
           0.4892905282657825,
           0.4892905282657825,
           0.4892905282657825
          ],
          [
           0.4892905282657825,
           0.4892905282657825,
           0.4892905282657825,
           0.4892905282657825,
           0.4892905282657825,
           0.4892905282657825,
           0.4892905282657825,
           0.4892905282657825
          ],
          [
           0.4892905282657825,
           0.4892905282657825,
           0.4892905282657825,
           0.4892905282657825,
           0.4892905282657825,
           0.4892905282657825,
           0.4892905282657825,
           0.4892905282657825
          ],
          [
           0.40952359364392055,
           0.40952359364392055,
           0.40952359364392055,
           0.40952359364392055,
           0.40952359364392055,
           0.40952359364392055,
           0.40952359364392055,
           0.40952359364392055
          ],
          [
           0.40904173747058464,
           0.40904173747058464,
           0.40904173747058464,
           0.40904173747058464,
           0.40904173747058464,
           0.40904173747058464,
           0.40904173747058464,
           0.40904173747058464
          ],
          [
           0.600052025966977,
           0.600052025966977,
           0.600052025966977,
           0.600052025966977,
           0.600052025966977,
           0.600052025966977,
           0.600052025966977,
           0.600052025966977
          ],
          [
           0.5588718311968162,
           0.5588718311968162,
           0.5588718311968162,
           0.5588718311968162,
           0.5588718311968162,
           0.5588718311968162,
           0.5588718311968162,
           0.5588718311968162
          ]
         ]
        }
       ],
       "layout": {
        "title": "silhouette scores"
       }
      },
      "text/html": [
       "<div id=\"fa68d277-ea8a-47e5-889a-6cd75826c0f7\" style=\"height: 525px; width: 100%;\" class=\"plotly-graph-div\"></div><script type=\"text/javascript\">require([\"plotly\"], function(Plotly) { window.PLOTLYENV=window.PLOTLYENV || {};window.PLOTLYENV.BASE_URL=\"https://plot.ly\";Plotly.newPlot(\"fa68d277-ea8a-47e5-889a-6cd75826c0f7\", [{\"type\": \"surface\", \"x\": [50, 100, 150, 300, 500, 1000, 2000, 3000], \"y\": [50, 100, 150, 300, 500, 1000, 2000, 3000], \"z\": [[0.4892905282657825, 0.4892905282657825, 0.4892905282657825, 0.4892905282657825, 0.4892905282657825, 0.4892905282657825, 0.4892905282657825, 0.4892905282657825], [0.4892905282657825, 0.4892905282657825, 0.4892905282657825, 0.4892905282657825, 0.4892905282657825, 0.4892905282657825, 0.4892905282657825, 0.4892905282657825], [0.4892905282657825, 0.4892905282657825, 0.4892905282657825, 0.4892905282657825, 0.4892905282657825, 0.4892905282657825, 0.4892905282657825, 0.4892905282657825], [0.4892905282657825, 0.4892905282657825, 0.4892905282657825, 0.4892905282657825, 0.4892905282657825, 0.4892905282657825, 0.4892905282657825, 0.4892905282657825], [0.40952359364392055, 0.40952359364392055, 0.40952359364392055, 0.40952359364392055, 0.40952359364392055, 0.40952359364392055, 0.40952359364392055, 0.40952359364392055], [0.40904173747058464, 0.40904173747058464, 0.40904173747058464, 0.40904173747058464, 0.40904173747058464, 0.40904173747058464, 0.40904173747058464, 0.40904173747058464], [0.600052025966977, 0.600052025966977, 0.600052025966977, 0.600052025966977, 0.600052025966977, 0.600052025966977, 0.600052025966977, 0.600052025966977], [0.5588718311968162, 0.5588718311968162, 0.5588718311968162, 0.5588718311968162, 0.5588718311968162, 0.5588718311968162, 0.5588718311968162, 0.5588718311968162]]}], {\"title\": \"silhouette scores\"}, {\"showLink\": true, \"linkText\": \"Export to plot.ly\"})});</script>"
      ],
      "text/vnd.plotly.v1+html": [
       "<div id=\"fa68d277-ea8a-47e5-889a-6cd75826c0f7\" style=\"height: 525px; width: 100%;\" class=\"plotly-graph-div\"></div><script type=\"text/javascript\">require([\"plotly\"], function(Plotly) { window.PLOTLYENV=window.PLOTLYENV || {};window.PLOTLYENV.BASE_URL=\"https://plot.ly\";Plotly.newPlot(\"fa68d277-ea8a-47e5-889a-6cd75826c0f7\", [{\"type\": \"surface\", \"x\": [50, 100, 150, 300, 500, 1000, 2000, 3000], \"y\": [50, 100, 150, 300, 500, 1000, 2000, 3000], \"z\": [[0.4892905282657825, 0.4892905282657825, 0.4892905282657825, 0.4892905282657825, 0.4892905282657825, 0.4892905282657825, 0.4892905282657825, 0.4892905282657825], [0.4892905282657825, 0.4892905282657825, 0.4892905282657825, 0.4892905282657825, 0.4892905282657825, 0.4892905282657825, 0.4892905282657825, 0.4892905282657825], [0.4892905282657825, 0.4892905282657825, 0.4892905282657825, 0.4892905282657825, 0.4892905282657825, 0.4892905282657825, 0.4892905282657825, 0.4892905282657825], [0.4892905282657825, 0.4892905282657825, 0.4892905282657825, 0.4892905282657825, 0.4892905282657825, 0.4892905282657825, 0.4892905282657825, 0.4892905282657825], [0.40952359364392055, 0.40952359364392055, 0.40952359364392055, 0.40952359364392055, 0.40952359364392055, 0.40952359364392055, 0.40952359364392055, 0.40952359364392055], [0.40904173747058464, 0.40904173747058464, 0.40904173747058464, 0.40904173747058464, 0.40904173747058464, 0.40904173747058464, 0.40904173747058464, 0.40904173747058464], [0.600052025966977, 0.600052025966977, 0.600052025966977, 0.600052025966977, 0.600052025966977, 0.600052025966977, 0.600052025966977, 0.600052025966977], [0.5588718311968162, 0.5588718311968162, 0.5588718311968162, 0.5588718311968162, 0.5588718311968162, 0.5588718311968162, 0.5588718311968162, 0.5588718311968162]]}], {\"title\": \"silhouette scores\"}, {\"showLink\": true, \"linkText\": \"Export to plot.ly\"})});</script>"
      ]
     },
     "metadata": {},
     "output_type": "display_data"
    },
    {
     "data": {
      "application/vnd.plotly.v1+json": {
       "data": [
        {
         "type": "surface",
         "x": [
          50,
          100,
          150,
          300,
          500,
          1000,
          2000,
          3000
         ],
         "y": [
          50,
          100,
          150,
          300,
          500,
          1000,
          2000,
          3000
         ],
         "z": [
          [
           7,
           7,
           7,
           7,
           7,
           7,
           7,
           7
          ],
          [
           7,
           7,
           7,
           7,
           7,
           7,
           7,
           7
          ],
          [
           7,
           7,
           7,
           7,
           7,
           7,
           7,
           7
          ],
          [
           7,
           7,
           7,
           7,
           7,
           7,
           7,
           7
          ],
          [
           7,
           7,
           7,
           7,
           7,
           7,
           7,
           7
          ],
          [
           7,
           7,
           7,
           7,
           7,
           7,
           7,
           7
          ],
          [
           7,
           7,
           7,
           7,
           7,
           7,
           7,
           7
          ],
          [
           7,
           7,
           7,
           7,
           7,
           7,
           7,
           7
          ]
         ]
        }
       ],
       "layout": {
        "title": "clusters"
       }
      },
      "text/html": [
       "<div id=\"d778c42e-6d71-4956-81ba-27e2d7beb38f\" style=\"height: 525px; width: 100%;\" class=\"plotly-graph-div\"></div><script type=\"text/javascript\">require([\"plotly\"], function(Plotly) { window.PLOTLYENV=window.PLOTLYENV || {};window.PLOTLYENV.BASE_URL=\"https://plot.ly\";Plotly.newPlot(\"d778c42e-6d71-4956-81ba-27e2d7beb38f\", [{\"type\": \"surface\", \"x\": [50, 100, 150, 300, 500, 1000, 2000, 3000], \"y\": [50, 100, 150, 300, 500, 1000, 2000, 3000], \"z\": [[7.0, 7.0, 7.0, 7.0, 7.0, 7.0, 7.0, 7.0], [7.0, 7.0, 7.0, 7.0, 7.0, 7.0, 7.0, 7.0], [7.0, 7.0, 7.0, 7.0, 7.0, 7.0, 7.0, 7.0], [7.0, 7.0, 7.0, 7.0, 7.0, 7.0, 7.0, 7.0], [7.0, 7.0, 7.0, 7.0, 7.0, 7.0, 7.0, 7.0], [7.0, 7.0, 7.0, 7.0, 7.0, 7.0, 7.0, 7.0], [7.0, 7.0, 7.0, 7.0, 7.0, 7.0, 7.0, 7.0], [7.0, 7.0, 7.0, 7.0, 7.0, 7.0, 7.0, 7.0]]}], {\"title\": \"clusters\"}, {\"showLink\": true, \"linkText\": \"Export to plot.ly\"})});</script>"
      ],
      "text/vnd.plotly.v1+html": [
       "<div id=\"d778c42e-6d71-4956-81ba-27e2d7beb38f\" style=\"height: 525px; width: 100%;\" class=\"plotly-graph-div\"></div><script type=\"text/javascript\">require([\"plotly\"], function(Plotly) { window.PLOTLYENV=window.PLOTLYENV || {};window.PLOTLYENV.BASE_URL=\"https://plot.ly\";Plotly.newPlot(\"d778c42e-6d71-4956-81ba-27e2d7beb38f\", [{\"type\": \"surface\", \"x\": [50, 100, 150, 300, 500, 1000, 2000, 3000], \"y\": [50, 100, 150, 300, 500, 1000, 2000, 3000], \"z\": [[7.0, 7.0, 7.0, 7.0, 7.0, 7.0, 7.0, 7.0], [7.0, 7.0, 7.0, 7.0, 7.0, 7.0, 7.0, 7.0], [7.0, 7.0, 7.0, 7.0, 7.0, 7.0, 7.0, 7.0], [7.0, 7.0, 7.0, 7.0, 7.0, 7.0, 7.0, 7.0], [7.0, 7.0, 7.0, 7.0, 7.0, 7.0, 7.0, 7.0], [7.0, 7.0, 7.0, 7.0, 7.0, 7.0, 7.0, 7.0], [7.0, 7.0, 7.0, 7.0, 7.0, 7.0, 7.0, 7.0], [7.0, 7.0, 7.0, 7.0, 7.0, 7.0, 7.0, 7.0]]}], {\"title\": \"clusters\"}, {\"showLink\": true, \"linkText\": \"Export to plot.ly\"})});</script>"
      ]
     },
     "metadata": {},
     "output_type": "display_data"
    }
   ],
   "source": [
    "plot_surfaces(to_plot_f, to_plot_s, clusters, thresholds, branching_factors)"
   ]
  },
  {
   "cell_type": "markdown",
   "metadata": {},
   "source": [
    "Now let's see how it compares with the same algorithm applied to a data matrix obtained using Random Forest Classifiers for feature selection."
   ]
  },
  {
   "cell_type": "code",
   "execution_count": null,
   "metadata": {},
   "outputs": [],
   "source": [
    "data_matrix_r = np.loadtxt('data/matrix/rfc_256_1209.txt')"
   ]
  },
  {
   "cell_type": "markdown",
   "metadata": {},
   "source": [
    "### 512 features"
   ]
  },
  {
   "cell_type": "code",
   "execution_count": 19,
   "metadata": {},
   "outputs": [],
   "source": [
    "data_matrix_p = np.loadtxt('data/matrix/pca_512_1209.txt')"
   ]
  },
  {
   "cell_type": "code",
   "execution_count": 20,
   "metadata": {
    "scrolled": false
   },
   "outputs": [],
   "source": [
    "to_plot_f, to_plot_s, clusters = test_params(data_matrix_p, numerical_labels, config, thresholds, branching_factors)"
   ]
  },
  {
   "cell_type": "code",
   "execution_count": 21,
   "metadata": {},
   "outputs": [
    {
     "data": {
      "application/vnd.plotly.v1+json": {
       "data": [
        {
         "type": "surface",
         "x": [
          50,
          100,
          150,
          300,
          500,
          1000,
          2000,
          3000
         ],
         "y": [
          50,
          100,
          150,
          300,
          500,
          1000,
          2000,
          3000
         ],
         "z": [
          [
           0.737208840588148,
           0.737208840588148,
           0.7367552833480521,
           0.737208840588148,
           0.737208840588148,
           0.737208840588148,
           0.737208840588148,
           0.737208840588148
          ],
          [
           0.737208840588148,
           0.737208840588148,
           0.737208840588148,
           0.737208840588148,
           0.737208840588148,
           0.737208840588148,
           0.737208840588148,
           0.737208840588148
          ],
          [
           0.7185057299564905,
           0.7185057299564905,
           0.7185057299564905,
           0.7185057299564905,
           0.7185057299564905,
           0.7185057299564905,
           0.7185057299564905,
           0.7185057299564905
          ],
          [
           0.7185057299564905,
           0.7185057299564905,
           0.7185057299564905,
           0.7185057299564905,
           0.7185057299564905,
           0.7185057299564905,
           0.7185057299564905,
           0.7185057299564905
          ],
          [
           0.7185057299564905,
           0.7185057299564905,
           0.7185057299564905,
           0.7185057299564905,
           0.7185057299564905,
           0.7185057299564905,
           0.7185057299564905,
           0.7185057299564905
          ],
          [
           0.5696470619874919,
           0.5683664723722438,
           0.5683664723722438,
           0.5683664723722438,
           0.5683664723722438,
           0.5683664723722438,
           0.5683664723722438,
           0.5683664723722438
          ],
          [
           0.4378060508945938,
           0.4378060508945938,
           0.4378060508945938,
           0.4378060508945938,
           0.4378060508945938,
           0.4378060508945938,
           0.4378060508945938,
           0.4378060508945938
          ],
          [
           0.4347998220568208,
           0.4347998220568208,
           0.4347998220568208,
           0.4347998220568208,
           0.4347998220568208,
           0.4347998220568208,
           0.4347998220568208,
           0.4347998220568208
          ]
         ]
        }
       ],
       "layout": {
        "title": "f1 scores"
       }
      },
      "text/html": [
       "<div id=\"e1f33f51-305d-4da6-929e-4b78fe79dcd5\" style=\"height: 525px; width: 100%;\" class=\"plotly-graph-div\"></div><script type=\"text/javascript\">require([\"plotly\"], function(Plotly) { window.PLOTLYENV=window.PLOTLYENV || {};window.PLOTLYENV.BASE_URL=\"https://plot.ly\";Plotly.newPlot(\"e1f33f51-305d-4da6-929e-4b78fe79dcd5\", [{\"type\": \"surface\", \"x\": [50, 100, 150, 300, 500, 1000, 2000, 3000], \"y\": [50, 100, 150, 300, 500, 1000, 2000, 3000], \"z\": [[0.737208840588148, 0.737208840588148, 0.7367552833480521, 0.737208840588148, 0.737208840588148, 0.737208840588148, 0.737208840588148, 0.737208840588148], [0.737208840588148, 0.737208840588148, 0.737208840588148, 0.737208840588148, 0.737208840588148, 0.737208840588148, 0.737208840588148, 0.737208840588148], [0.7185057299564905, 0.7185057299564905, 0.7185057299564905, 0.7185057299564905, 0.7185057299564905, 0.7185057299564905, 0.7185057299564905, 0.7185057299564905], [0.7185057299564905, 0.7185057299564905, 0.7185057299564905, 0.7185057299564905, 0.7185057299564905, 0.7185057299564905, 0.7185057299564905, 0.7185057299564905], [0.7185057299564905, 0.7185057299564905, 0.7185057299564905, 0.7185057299564905, 0.7185057299564905, 0.7185057299564905, 0.7185057299564905, 0.7185057299564905], [0.5696470619874919, 0.5683664723722438, 0.5683664723722438, 0.5683664723722438, 0.5683664723722438, 0.5683664723722438, 0.5683664723722438, 0.5683664723722438], [0.4378060508945938, 0.4378060508945938, 0.4378060508945938, 0.4378060508945938, 0.4378060508945938, 0.4378060508945938, 0.4378060508945938, 0.4378060508945938], [0.4347998220568208, 0.4347998220568208, 0.4347998220568208, 0.4347998220568208, 0.4347998220568208, 0.4347998220568208, 0.4347998220568208, 0.4347998220568208]]}], {\"title\": \"f1 scores\"}, {\"showLink\": true, \"linkText\": \"Export to plot.ly\"})});</script>"
      ],
      "text/vnd.plotly.v1+html": [
       "<div id=\"e1f33f51-305d-4da6-929e-4b78fe79dcd5\" style=\"height: 525px; width: 100%;\" class=\"plotly-graph-div\"></div><script type=\"text/javascript\">require([\"plotly\"], function(Plotly) { window.PLOTLYENV=window.PLOTLYENV || {};window.PLOTLYENV.BASE_URL=\"https://plot.ly\";Plotly.newPlot(\"e1f33f51-305d-4da6-929e-4b78fe79dcd5\", [{\"type\": \"surface\", \"x\": [50, 100, 150, 300, 500, 1000, 2000, 3000], \"y\": [50, 100, 150, 300, 500, 1000, 2000, 3000], \"z\": [[0.737208840588148, 0.737208840588148, 0.7367552833480521, 0.737208840588148, 0.737208840588148, 0.737208840588148, 0.737208840588148, 0.737208840588148], [0.737208840588148, 0.737208840588148, 0.737208840588148, 0.737208840588148, 0.737208840588148, 0.737208840588148, 0.737208840588148, 0.737208840588148], [0.7185057299564905, 0.7185057299564905, 0.7185057299564905, 0.7185057299564905, 0.7185057299564905, 0.7185057299564905, 0.7185057299564905, 0.7185057299564905], [0.7185057299564905, 0.7185057299564905, 0.7185057299564905, 0.7185057299564905, 0.7185057299564905, 0.7185057299564905, 0.7185057299564905, 0.7185057299564905], [0.7185057299564905, 0.7185057299564905, 0.7185057299564905, 0.7185057299564905, 0.7185057299564905, 0.7185057299564905, 0.7185057299564905, 0.7185057299564905], [0.5696470619874919, 0.5683664723722438, 0.5683664723722438, 0.5683664723722438, 0.5683664723722438, 0.5683664723722438, 0.5683664723722438, 0.5683664723722438], [0.4378060508945938, 0.4378060508945938, 0.4378060508945938, 0.4378060508945938, 0.4378060508945938, 0.4378060508945938, 0.4378060508945938, 0.4378060508945938], [0.4347998220568208, 0.4347998220568208, 0.4347998220568208, 0.4347998220568208, 0.4347998220568208, 0.4347998220568208, 0.4347998220568208, 0.4347998220568208]]}], {\"title\": \"f1 scores\"}, {\"showLink\": true, \"linkText\": \"Export to plot.ly\"})});</script>"
      ]
     },
     "metadata": {},
     "output_type": "display_data"
    },
    {
     "data": {
      "application/vnd.plotly.v1+json": {
       "data": [
        {
         "type": "surface",
         "x": [
          50,
          100,
          150,
          300,
          500,
          1000,
          2000,
          3000
         ],
         "y": [
          50,
          100,
          150,
          300,
          500,
          1000,
          2000,
          3000
         ],
         "z": [
          [
           0.4217167768153777,
           0.4217167768153777,
           0.42208970388268,
           0.4217167768153777,
           0.4217167768153777,
           0.4217167768153777,
           0.4217167768153777,
           0.4217167768153777
          ],
          [
           0.4217167768153777,
           0.4217167768153777,
           0.4217167768153777,
           0.4217167768153777,
           0.4217167768153777,
           0.4217167768153777,
           0.4217167768153777,
           0.4217167768153777
          ],
          [
           0.432161017133757,
           0.432161017133757,
           0.432161017133757,
           0.432161017133757,
           0.432161017133757,
           0.432161017133757,
           0.432161017133757,
           0.432161017133757
          ],
          [
           0.432161017133757,
           0.432161017133757,
           0.432161017133757,
           0.432161017133757,
           0.432161017133757,
           0.432161017133757,
           0.432161017133757,
           0.432161017133757
          ],
          [
           0.432161017133757,
           0.432161017133757,
           0.432161017133757,
           0.432161017133757,
           0.432161017133757,
           0.432161017133757,
           0.432161017133757,
           0.432161017133757
          ],
          [
           0.37154618733943257,
           0.37115857295008114,
           0.37115857295008114,
           0.37115857295008114,
           0.37115857295008114,
           0.37115857295008114,
           0.37115857295008114,
           0.37115857295008114
          ],
          [
           0.5812058848399975,
           0.5812058848399975,
           0.5812058848399975,
           0.5812058848399975,
           0.5812058848399975,
           0.5812058848399975,
           0.5812058848399975,
           0.5812058848399975
          ],
          [
           0.5682742656593324,
           0.5682742656593324,
           0.5682742656593324,
           0.5682742656593324,
           0.5682742656593324,
           0.5682742656593324,
           0.5682742656593324,
           0.5682742656593324
          ]
         ]
        }
       ],
       "layout": {
        "title": "silhouette scores"
       }
      },
      "text/html": [
       "<div id=\"4b02ddee-3373-4af6-bcf0-e50ad63aa651\" style=\"height: 525px; width: 100%;\" class=\"plotly-graph-div\"></div><script type=\"text/javascript\">require([\"plotly\"], function(Plotly) { window.PLOTLYENV=window.PLOTLYENV || {};window.PLOTLYENV.BASE_URL=\"https://plot.ly\";Plotly.newPlot(\"4b02ddee-3373-4af6-bcf0-e50ad63aa651\", [{\"type\": \"surface\", \"x\": [50, 100, 150, 300, 500, 1000, 2000, 3000], \"y\": [50, 100, 150, 300, 500, 1000, 2000, 3000], \"z\": [[0.4217167768153777, 0.4217167768153777, 0.42208970388268, 0.4217167768153777, 0.4217167768153777, 0.4217167768153777, 0.4217167768153777, 0.4217167768153777], [0.4217167768153777, 0.4217167768153777, 0.4217167768153777, 0.4217167768153777, 0.4217167768153777, 0.4217167768153777, 0.4217167768153777, 0.4217167768153777], [0.432161017133757, 0.432161017133757, 0.432161017133757, 0.432161017133757, 0.432161017133757, 0.432161017133757, 0.432161017133757, 0.432161017133757], [0.432161017133757, 0.432161017133757, 0.432161017133757, 0.432161017133757, 0.432161017133757, 0.432161017133757, 0.432161017133757, 0.432161017133757], [0.432161017133757, 0.432161017133757, 0.432161017133757, 0.432161017133757, 0.432161017133757, 0.432161017133757, 0.432161017133757, 0.432161017133757], [0.37154618733943257, 0.37115857295008114, 0.37115857295008114, 0.37115857295008114, 0.37115857295008114, 0.37115857295008114, 0.37115857295008114, 0.37115857295008114], [0.5812058848399975, 0.5812058848399975, 0.5812058848399975, 0.5812058848399975, 0.5812058848399975, 0.5812058848399975, 0.5812058848399975, 0.5812058848399975], [0.5682742656593324, 0.5682742656593324, 0.5682742656593324, 0.5682742656593324, 0.5682742656593324, 0.5682742656593324, 0.5682742656593324, 0.5682742656593324]]}], {\"title\": \"silhouette scores\"}, {\"showLink\": true, \"linkText\": \"Export to plot.ly\"})});</script>"
      ],
      "text/vnd.plotly.v1+html": [
       "<div id=\"4b02ddee-3373-4af6-bcf0-e50ad63aa651\" style=\"height: 525px; width: 100%;\" class=\"plotly-graph-div\"></div><script type=\"text/javascript\">require([\"plotly\"], function(Plotly) { window.PLOTLYENV=window.PLOTLYENV || {};window.PLOTLYENV.BASE_URL=\"https://plot.ly\";Plotly.newPlot(\"4b02ddee-3373-4af6-bcf0-e50ad63aa651\", [{\"type\": \"surface\", \"x\": [50, 100, 150, 300, 500, 1000, 2000, 3000], \"y\": [50, 100, 150, 300, 500, 1000, 2000, 3000], \"z\": [[0.4217167768153777, 0.4217167768153777, 0.42208970388268, 0.4217167768153777, 0.4217167768153777, 0.4217167768153777, 0.4217167768153777, 0.4217167768153777], [0.4217167768153777, 0.4217167768153777, 0.4217167768153777, 0.4217167768153777, 0.4217167768153777, 0.4217167768153777, 0.4217167768153777, 0.4217167768153777], [0.432161017133757, 0.432161017133757, 0.432161017133757, 0.432161017133757, 0.432161017133757, 0.432161017133757, 0.432161017133757, 0.432161017133757], [0.432161017133757, 0.432161017133757, 0.432161017133757, 0.432161017133757, 0.432161017133757, 0.432161017133757, 0.432161017133757, 0.432161017133757], [0.432161017133757, 0.432161017133757, 0.432161017133757, 0.432161017133757, 0.432161017133757, 0.432161017133757, 0.432161017133757, 0.432161017133757], [0.37154618733943257, 0.37115857295008114, 0.37115857295008114, 0.37115857295008114, 0.37115857295008114, 0.37115857295008114, 0.37115857295008114, 0.37115857295008114], [0.5812058848399975, 0.5812058848399975, 0.5812058848399975, 0.5812058848399975, 0.5812058848399975, 0.5812058848399975, 0.5812058848399975, 0.5812058848399975], [0.5682742656593324, 0.5682742656593324, 0.5682742656593324, 0.5682742656593324, 0.5682742656593324, 0.5682742656593324, 0.5682742656593324, 0.5682742656593324]]}], {\"title\": \"silhouette scores\"}, {\"showLink\": true, \"linkText\": \"Export to plot.ly\"})});</script>"
      ]
     },
     "metadata": {},
     "output_type": "display_data"
    },
    {
     "data": {
      "application/vnd.plotly.v1+json": {
       "data": [
        {
         "type": "surface",
         "x": [
          50,
          100,
          150,
          300,
          500,
          1000,
          2000,
          3000
         ],
         "y": [
          50,
          100,
          150,
          300,
          500,
          1000,
          2000,
          3000
         ],
         "z": [
          [
           7,
           7,
           7,
           7,
           7,
           7,
           7,
           7
          ],
          [
           7,
           7,
           7,
           7,
           7,
           7,
           7,
           7
          ],
          [
           7,
           7,
           7,
           7,
           7,
           7,
           7,
           7
          ],
          [
           7,
           7,
           7,
           7,
           7,
           7,
           7,
           7
          ],
          [
           7,
           7,
           7,
           7,
           7,
           7,
           7,
           7
          ],
          [
           7,
           7,
           7,
           7,
           7,
           7,
           7,
           7
          ],
          [
           7,
           7,
           7,
           7,
           7,
           7,
           7,
           7
          ],
          [
           7,
           7,
           7,
           7,
           7,
           7,
           7,
           7
          ]
         ]
        }
       ],
       "layout": {
        "title": "clusters"
       }
      },
      "text/html": [
       "<div id=\"e76ff7ab-418e-43ec-ae10-d39a10028bfb\" style=\"height: 525px; width: 100%;\" class=\"plotly-graph-div\"></div><script type=\"text/javascript\">require([\"plotly\"], function(Plotly) { window.PLOTLYENV=window.PLOTLYENV || {};window.PLOTLYENV.BASE_URL=\"https://plot.ly\";Plotly.newPlot(\"e76ff7ab-418e-43ec-ae10-d39a10028bfb\", [{\"type\": \"surface\", \"x\": [50, 100, 150, 300, 500, 1000, 2000, 3000], \"y\": [50, 100, 150, 300, 500, 1000, 2000, 3000], \"z\": [[7.0, 7.0, 7.0, 7.0, 7.0, 7.0, 7.0, 7.0], [7.0, 7.0, 7.0, 7.0, 7.0, 7.0, 7.0, 7.0], [7.0, 7.0, 7.0, 7.0, 7.0, 7.0, 7.0, 7.0], [7.0, 7.0, 7.0, 7.0, 7.0, 7.0, 7.0, 7.0], [7.0, 7.0, 7.0, 7.0, 7.0, 7.0, 7.0, 7.0], [7.0, 7.0, 7.0, 7.0, 7.0, 7.0, 7.0, 7.0], [7.0, 7.0, 7.0, 7.0, 7.0, 7.0, 7.0, 7.0], [7.0, 7.0, 7.0, 7.0, 7.0, 7.0, 7.0, 7.0]]}], {\"title\": \"clusters\"}, {\"showLink\": true, \"linkText\": \"Export to plot.ly\"})});</script>"
      ],
      "text/vnd.plotly.v1+html": [
       "<div id=\"e76ff7ab-418e-43ec-ae10-d39a10028bfb\" style=\"height: 525px; width: 100%;\" class=\"plotly-graph-div\"></div><script type=\"text/javascript\">require([\"plotly\"], function(Plotly) { window.PLOTLYENV=window.PLOTLYENV || {};window.PLOTLYENV.BASE_URL=\"https://plot.ly\";Plotly.newPlot(\"e76ff7ab-418e-43ec-ae10-d39a10028bfb\", [{\"type\": \"surface\", \"x\": [50, 100, 150, 300, 500, 1000, 2000, 3000], \"y\": [50, 100, 150, 300, 500, 1000, 2000, 3000], \"z\": [[7.0, 7.0, 7.0, 7.0, 7.0, 7.0, 7.0, 7.0], [7.0, 7.0, 7.0, 7.0, 7.0, 7.0, 7.0, 7.0], [7.0, 7.0, 7.0, 7.0, 7.0, 7.0, 7.0, 7.0], [7.0, 7.0, 7.0, 7.0, 7.0, 7.0, 7.0, 7.0], [7.0, 7.0, 7.0, 7.0, 7.0, 7.0, 7.0, 7.0], [7.0, 7.0, 7.0, 7.0, 7.0, 7.0, 7.0, 7.0], [7.0, 7.0, 7.0, 7.0, 7.0, 7.0, 7.0, 7.0], [7.0, 7.0, 7.0, 7.0, 7.0, 7.0, 7.0, 7.0]]}], {\"title\": \"clusters\"}, {\"showLink\": true, \"linkText\": \"Export to plot.ly\"})});</script>"
      ]
     },
     "metadata": {},
     "output_type": "display_data"
    }
   ],
   "source": [
    "plot_surfaces(to_plot_f, to_plot_s, clusters, thresholds, branching_factors)"
   ]
  },
  {
   "cell_type": "code",
   "execution_count": null,
   "metadata": {},
   "outputs": [],
   "source": []
  },
  {
   "cell_type": "code",
   "execution_count": null,
   "metadata": {},
   "outputs": [],
   "source": [
    "data_matrix_r = np.loadtxt('data/matrix/rfc_512_1209.txt')"
   ]
  },
  {
   "cell_type": "code",
   "execution_count": null,
   "metadata": {},
   "outputs": [],
   "source": []
  }
 ],
 "metadata": {
  "kernelspec": {
   "display_name": "Python 3",
   "language": "python",
   "name": "python3"
  },
  "language_info": {
   "codemirror_mode": {
    "name": "ipython",
    "version": 3
   },
   "file_extension": ".py",
   "mimetype": "text/x-python",
   "name": "python",
   "nbconvert_exporter": "python",
   "pygments_lexer": "ipython3",
   "version": "3.6.3"
  }
 },
 "nbformat": 4,
 "nbformat_minor": 2
}
