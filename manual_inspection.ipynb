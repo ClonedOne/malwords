{
 "cells": [
  {
   "cell_type": "markdown",
   "metadata": {
    "collapsed": true
   },
   "source": [
    "# Inspecting the content of possibly misclassified samples\n",
    "\n",
    "\n",
    "After performin the clustering phase we compared the results with a baseline clustering provided by AV labels. \n",
    "\n",
    "From this comparison it was clear that there were some malware families which where classified in the same way by both our clustering and the AVs.\n",
    "\n",
    "At the same time, however, there are groups of samples which result close in our feature space while being cathegorized as belonging to different families by the AVs.\n",
    "\n",
    "We would like to inspect this samples to better understand why they were classified differently from the AV baseline.\n",
    "\n",
    "Let's start by importing some useful packages."
   ]
  },
  {
   "cell_type": "code",
   "execution_count": 1,
   "metadata": {
    "collapsed": true
   },
   "outputs": [],
   "source": [
    "%load_ext autoreload\n",
    "%autoreload 2"
   ]
  },
  {
   "cell_type": "code",
   "execution_count": 17,
   "metadata": {
    "collapsed": true
   },
   "outputs": [],
   "source": [
    "from collections import defaultdict, Counter\n",
    "from utilities import db_manager\n",
    "from utilities import constants\n",
    "import plotly.offline as ply\n",
    "from pprint import pprint\n",
    "import pandas as pd\n",
    "import numpy as np\n",
    "import json\n",
    "import os"
   ]
  },
  {
   "cell_type": "code",
   "execution_count": 3,
   "metadata": {},
   "outputs": [
    {
     "data": {
      "text/html": [
       "<script>requirejs.config({paths: { 'plotly': ['https://cdn.plot.ly/plotly-latest.min']},});if(!window.Plotly) {{require(['plotly'],function(plotly) {window.Plotly=plotly;});}}</script>"
      ],
      "text/vnd.plotly.v1+html": [
       "<script>requirejs.config({paths: { 'plotly': ['https://cdn.plot.ly/plotly-latest.min']},});if(!window.Plotly) {{require(['plotly'],function(plotly) {window.Plotly=plotly;});}}</script>"
      ]
     },
     "metadata": {},
     "output_type": "display_data"
    }
   ],
   "source": [
    "config = json.load(open('config.json', 'r'))\n",
    "uuids_family = json.load(open(os.path.join(constants.dir_d, constants.json_labels), 'r'))\n",
    "words = json.load(open(os.path.join(constants.dir_d, constants.json_words), 'r'))\n",
    "ply.init_notebook_mode(connected=True)"
   ]
  },
  {
   "cell_type": "markdown",
   "metadata": {},
   "source": [
    "Next we load the labels and clustering results files"
   ]
  },
  {
   "cell_type": "code",
   "execution_count": 18,
   "metadata": {
    "collapsed": true
   },
   "outputs": [],
   "source": [
    "labels = json.load(open('data/labels.json', 'r'))\n",
    "inv_labels = json.load(open('data/inverted_labels.json', 'r'))\n",
    "\n",
    "clustering = json.load(open('data/d_clusterings/clustering_hdbscan_cosine_1209.json', 'r'))\n",
    "uuid_md5 = db_manager.acquire_malware_file_dict_full(config['dir_db'])"
   ]
  },
  {
   "cell_type": "code",
   "execution_count": 5,
   "metadata": {},
   "outputs": [
    {
     "name": "stdout",
     "output_type": "stream",
     "text": [
      "Cluster -1:\n",
      "[('eorezo', 79), ('bladabindi', 35), ('flystudio', 6), ('neshta', 2), ('lamer', 1)]\n",
      "\n",
      "Cluster 0:\n",
      "[('mydoom', 146)]\n",
      "\n",
      "Cluster 1:\n",
      "[('lamer', 131), ('eorezo', 6)]\n",
      "\n",
      "Cluster 2:\n",
      "[('neshta', 222), ('flystudio', 1)]\n",
      "\n",
      "Cluster 3:\n",
      "[('eorezo', 108)]\n",
      "\n",
      "Cluster 4:\n",
      "[('flystudio', 79), ('gepys', 76), ('eorezo', 73), ('bladabindi', 53), ('neshta', 6), ('lamer', 4)]\n",
      "\n",
      "Cluster 5:\n",
      "[('bladabindi', 181)]\n",
      "\n"
     ]
    }
   ],
   "source": [
    "clust_compositions = {i: Counter() for i in sorted(set(clustering.values()))}\n",
    "\n",
    "for i in clustering:\n",
    "    clust_compositions[clustering[i]][labels[i]] += 1\n",
    "\n",
    "for clu in sorted(clust_compositions.keys()):\n",
    "    print('Cluster {}:'.format(clu))\n",
    "    print(clust_compositions[clu].most_common())\n",
    "    print()"
   ]
  },
  {
   "cell_type": "code",
   "execution_count": 6,
   "metadata": {
    "collapsed": true
   },
   "outputs": [],
   "source": [
    "inverted_clustering = defaultdict(list)\n",
    "for i in clustering:\n",
    "    inverted_clustering[clustering[i]].append(i)"
   ]
  },
  {
   "cell_type": "markdown",
   "metadata": {},
   "source": [
    "Let's isolate the noise cluster, i.e. the samples which the algorithm was unable to fit in a cluster."
   ]
  },
  {
   "cell_type": "code",
   "execution_count": 7,
   "metadata": {
    "collapsed": true
   },
   "outputs": [],
   "source": [
    "noise = inverted_clustering[-1]"
   ]
  },
  {
   "cell_type": "markdown",
   "metadata": {},
   "source": [
    "This cluster seems composed primarily by samples of the Eorezo and Bladabindi families."
   ]
  },
  {
   "cell_type": "code",
   "execution_count": 24,
   "metadata": {},
   "outputs": [
    {
     "name": "stdout",
     "output_type": "stream",
     "text": [
      "{'000582b2-0933-44f3-8a8e-c0e3c08d2ab1': 'e1f2df81e63964ef69e9e7aba104d835',\n",
      " '006953d6-8a8a-4938-bda1-987733b970cd': 'a465f50359ed35b76ac4129572cdbb49',\n",
      " '00a2434b-6852-4e50-8b5c-bf5cc1da5ec1': '31dd6a383d56a2757e000fad6a846be6',\n",
      " '00b47107-48c5-47aa-8673-4e15b61b1846': '64e8e7fc62100153cc430d109cda894d',\n",
      " '02f02dd2-1a8d-4831-94a0-e7476f30c73d': '2e844dbc08b830da3f53c4ebe03aca0d'}\n",
      "{'0423c18b-8250-4299-a947-0bbd707b0d67': 'de5f7e8141606ffc2e076081304612cc',\n",
      " '0e8a702a-5a33-4de0-8de1-c3fcbeae6e48': 'd89ca9abc03cad0380f726031b093e55',\n",
      " '103443a4-ff58-4996-8c25-8d06e52ce551': '35ee1936b2f5a7377ba02968904138b8',\n",
      " '10d811b1-2603-4e26-8311-3b94d2f78ad9': 'aa25b0c7ffe281c7c3d998a6d74bbb18',\n",
      " '1dc440ca-0f47-4daf-a45c-5c9c7111da31': '0115fecdde4942bbf7bfc18b1d4f8e16'}\n"
     ]
    }
   ],
   "source": [
    "noise_e = []\n",
    "noise_b = []\n",
    "\n",
    "for uuid in noise:\n",
    "    if uuids_family[uuid] == 'eorezo':\n",
    "        noise_e.append(uuid)\n",
    "    elif uuids_family[uuid] == 'bladabindi':\n",
    "        noise_b.append(uuid)\n",
    "\n",
    "noise_e = sorted(noise_e)\n",
    "noise_b = sorted(noise_b)\n",
    "\n",
    "pprint(dict(zip(noise_e[:5], [uuid_md5[i] for i in noise_e[:5]])))\n",
    "pprint(dict(zip(noise_b[:5], [uuid_md5[i] for i in noise_b[:5]])))"
   ]
  },
  {
   "cell_type": "markdown",
   "metadata": {},
   "source": [
    "Similarly for cluster number 4"
   ]
  },
  {
   "cell_type": "code",
   "execution_count": 9,
   "metadata": {
    "collapsed": true
   },
   "outputs": [],
   "source": [
    "clus4 = inverted_clustering[4]"
   ]
  },
  {
   "cell_type": "markdown",
   "metadata": {},
   "source": [
    "This time it seems this cluster should have been populated primarily by the Flystudio or the Gepys family. However a large number of samples from both Eorezo and Bladabindi are included in this cluster."
   ]
  },
  {
   "cell_type": "code",
   "execution_count": 23,
   "metadata": {},
   "outputs": [
    {
     "name": "stdout",
     "output_type": "stream",
     "text": [
      "{'0413eaa7-5431-4d2b-9510-0781508eae02': '70d3f98ae704c3a7da2c6bf0f8c6011b',\n",
      " '09321ff0-764d-4200-adc4-8fba0627e6ae': 'c32a2349dddb3b2e669ec9ed5682cb19',\n",
      " '09b85bd8-d4ea-4d64-8363-facad113e7b4': '274451d66afddf086b08af6db8194351',\n",
      " '0ab68dc8-fbd9-4e30-8f26-9c975243bb77': 'ea28714f03114500fecae3f62aab3b92',\n",
      " '0b858225-9f9b-426b-8a18-479d8b653c40': '6258c392004d6e3849568cd7eeff72ee'}\n",
      "{'059fed1d-1577-4bd3-a380-bdf3adb278e8': '1a01428174cf815e9fe0aea2376bfcd4',\n",
      " '071aa948-8a20-423d-84a8-17d312cd5f28': 'f4c2472146ad8bc9483540915974cda1',\n",
      " '1afaa51d-37d3-4b21-b824-a86cd14b62f2': 'e46fa26f56702e409d2903d65b6dc58a',\n",
      " '1c410f27-6b28-4ead-b2d1-53fcf3132394': '000629bbe2e985767e9341c888752d94',\n",
      " '1f1ab0e7-d53c-4a88-9ac1-c58197d42302': '0f429f9a0a4fb54b6ad392281e767d96'}\n",
      "{'00b4a2aa-3216-435a-80b2-1db8b9c186ca': '620302b9900b549529044523be00d220',\n",
      " '062abbb2-324e-49b5-952d-a11716763e2f': 'a9aa361091e254695aaf727121646c8c',\n",
      " '0baaa6fa-ef83-4632-8786-03f77ef83920': 'ef24cc2566463f62c465acd04ac43780',\n",
      " '201194a3-ecc7-44d4-9cee-337b1df9bcfe': '29940acf555398e04e0e290b8fab91f6',\n",
      " '27738e13-4be3-4e3d-b2c9-de5b2d6d1e8d': 'c0f350c3f8f3e7da310cebc7d88e0318'}\n",
      "{'001cad0a-7a37-46f7-ae1c-685bf5d8afeb': 'acdc3de4119a1d2938216383e2dbd6d5',\n",
      " '01f52aa8-5270-4943-9374-9a73e7fc8ebf': '0844c5e99a7280ec78eb0e26e424e184',\n",
      " '04257c7c-45c3-454a-81ca-b8e6a4743a4b': 'f52af2cdff94004e410e5dfe4ebad10b',\n",
      " '06092391-ca9b-46a8-a482-e5684f5bc19d': 'e4a39c940829254e042c7a9e3b9f583b',\n",
      " '0dc9d28a-931d-4bb5-9075-1ddba2440961': '0a8c24682f40f0b5b7b8cbc41d444942'}\n"
     ]
    }
   ],
   "source": [
    "clus4_e = []\n",
    "clus4_b = []\n",
    "clus4_g = []\n",
    "clus4_f = []\n",
    "\n",
    "for uuid in clus4:\n",
    "    if uuids_family[uuid] == 'eorezo':\n",
    "        clus4_e.append(uuid)\n",
    "    elif uuids_family[uuid] == 'bladabindi':\n",
    "        clus4_b.append(uuid)\n",
    "    elif uuids_family[uuid] == 'gepys':\n",
    "        clus4_g.append(uuid)\n",
    "    elif uuids_family[uuid] == 'flystudio':\n",
    "        clus4_f.append(uuid)\n",
    "\n",
    "\n",
    "clus4_e = sorted(clus4_e)\n",
    "clus4_b = sorted(clus4_b)\n",
    "clus4_g = sorted(clus4_g)\n",
    "clus4_f = sorted(clus4_f)\n",
    "\n",
    "pprint(dict(zip(clus4_e[:5], [uuid_md5[i] for i in clus4_e[:5]])))\n",
    "pprint(dict(zip(clus4_b[:5], [uuid_md5[i] for i in clus4_b[:5]])))\n",
    "pprint(dict(zip(clus4_g[:5], [uuid_md5[i] for i in clus4_g[:5]])))\n",
    "pprint(dict(zip(clus4_f[:5], [uuid_md5[i] for i in clus4_f[:5]])))"
   ]
  },
  {
   "cell_type": "markdown",
   "metadata": {
    "collapsed": true
   },
   "source": [
    "Having isolated 5 samples for each 'misclassified' group we can try to inspect each of them individually. Let's start by printing the top ten words (ordered alphabetically) for each sample."
   ]
  },
  {
   "cell_type": "code",
   "execution_count": 11,
   "metadata": {
    "collapsed": true
   },
   "outputs": [],
   "source": [
    "def top_words(config, sample):\n",
    "    tf_idf_file = os.path.join(config['dir_store'], sample)\n",
    "    tf_idf = Counter(json.load(open(tf_idf_file, 'r')))\n",
    "    print(sorted([i[0] for i in tf_idf.most_common(20)]))"
   ]
  },
  {
   "cell_type": "code",
   "execution_count": 12,
   "metadata": {
    "collapsed": true
   },
   "outputs": [],
   "source": [
    "def top_words_grp(config, grp):\n",
    "    for sample in grp:\n",
    "        print(sample)\n",
    "        top_words(config, sample)\n",
    "        print()"
   ]
  },
  {
   "cell_type": "code",
   "execution_count": 13,
   "metadata": {},
   "outputs": [
    {
     "name": "stdout",
     "output_type": "stream",
     "text": [
      "--------------------------------------------------------------------------------\n",
      "eorezo\n",
      "0413eaa7-5431-4d2b-9510-0781508eae02\n",
      "['ALLNORMAL', 'BARRESE', 'BOFFICE', 'BONCONTE', 'BONPANE', 'BORANI', 'ETUTOR', 'KEYBAORD', 'LEWINTER', 'MONCHAN', 'MONPRESS', 'MOUSEMAN', 'MYDOCK', 'NDWANDWA', 'TERAZ', 'TERCHUN', 'TIPBACK', 'TONACH', 'USAFTER', 'YOUAND']\n",
      "\n",
      "09321ff0-764d-4200-adc4-8fba0627e6ae\n",
      "['29WIND', 'ALTMORE', 'COLLAPSER', 'F85CM', 'FOROCOCHES', 'GADIRE', 'GADOGADO', 'GIBINA', 'JUNSELE', 'KAUPPALEHTI', 'LNTERNET', 'MIGRATEDIN', 'MYSWITZERLAND', 'NIEUWSBLAD', 'PEERFACTOR', 'PROMICROSOFT', 'REPRESENTD', 'TANOTO', 'UNAVAILABLETHE', 'VOYAGESSNCFCOM']\n",
      "\n",
      "09b85bd8-d4ea-4d64-8363-facad113e7b4\n",
      "['1REGULAR', 'ALLNORMAL', 'BARCOMB', 'BARRESE', 'BOFFICE', 'BONCONTE', 'BONKEY', 'BONPANE', 'ETUTOR', 'KALINGAR', 'LEWINTER', 'MONCHAN', 'MONPRESS', 'NUHASH', 'TECDOC', 'TERAZ', 'TERCHUN', 'TIPBACK', 'TONACH', 'USAFTER']\n",
      "\n",
      "0ab68dc8-fbd9-4e30-8f26-9c975243bb77\n",
      "['4X800', 'A4800', 'AKOAH', 'DESTEM', 'FRUUX', 'GH800', 'GIDGETS', 'INSTRUCTS', 'JSSIP', 'LEARSY', 'MV800', 'NZIRE', 'PALLAN', 'PW800', 'U1800', 'V9800', 'WJJAY', 'XM800', 'YASIR', 'ZINKE']\n",
      "\n",
      "0b858225-9f9b-426b-8a18-479d8b653c40\n",
      "['48X96', '4ARUN', '85DPC', 'ANATMAN', 'ANYMAL', 'CMMI5', 'D18GE', 'GABAGABA', 'GERRETSE', 'GWISG', 'HAIHAK', 'HK901', 'HR3961', 'JERMER', 'LEAVIS', 'LWLEFT', 'SAPMAP', 'SECORD', 'SUKASUKA', 'XR002']\n",
      "\n",
      "--------------------------------------------------------------------------------\n",
      "bladabindi\n",
      "059fed1d-1577-4bd3-a380-bdf3adb278e8\n",
      "['132PS', '3CONTACT', '4CONTACT', 'AININA', 'CATARG', 'CICHA', 'EDATHA', 'EKEBO', 'EKEGO', 'HAMAL', 'HAMIN', 'NAZAD', 'OBTAINING', 'PACKAGING', 'POSABLE', 'QUALITYS', 'RIURIK', 'TELIGA', 'URSUL', 'V4030']\n",
      "\n",
      "071aa948-8a20-423d-84a8-17d312cd5f28\n",
      "['3CONTACT', '4CONTACT', 'AJMAL', 'AQILA', 'BAJHA', 'CICAE', 'EDATHA', 'GAJDA', 'HAJDA', 'HAJTA', 'ISTANDARD', 'IUPGRADE', 'IVAJA', 'LAJTA', 'OBTAINING', 'STRANSFER', 'URSUL', 'USBUILD', 'USONLY', 'V4030']\n",
      "\n",
      "1afaa51d-37d3-4b21-b824-a86cd14b62f2\n",
      "['10X102', '1HORIZONTAL', '3VALUED', '3VECTOR', '40X40M', 'BEHAVIORS4', 'BOARMAN', 'CHIACHIA', 'CONFIGURD', 'GLOBAL14', 'KAKAWA', 'LEXPANSION', 'MACPAC', 'MINVARIANT', 'POLICIES5', 'REYMES', 'TENNEN', 'VISIBILY', 'VXIPXI', 'X86ARCHITECTURE']\n",
      "\n",
      "1c410f27-6b28-4ead-b2d1-53fcf3132394\n",
      "['1CULTURE', 'AESCRYPT', 'AMICAS', 'APPBASED', 'AURENE', 'EMETERS', 'ERNEGATIVE', 'GETCOS', 'ILLESY', 'ITPROCESSES', 'LENGTENG', 'MAPLESTORY', 'PATATS', 'PIPHER', 'PLUCIDA', 'REFLECTION', 'TARAPAN', 'TASSERRI', 'TOLOTOLO', 'TSHATSHA']\n",
      "\n",
      "1f1ab0e7-d53c-4a88-9ac1-c58197d42302\n",
      "['3CONTACT', '4CONTACT', '9K111', '9K333', 'AININA', 'ASW1X', 'BURMU', 'DEKOW', 'DIKER', 'E1822', 'EDATHA', 'FSGPF', 'HIKER', 'MFGCO', 'OBTAINING', 'PIKHA', 'RAFHA', 'TELIGA', 'URSUL', 'V4030']\n",
      "\n",
      "--------------------------------------------------------------------------------\n",
      "gepys\n",
      "00b4a2aa-3216-435a-80b2-1db8b9c186ca\n",
      "['AGAGIA', 'ARANNA', 'COTCOM', 'DDG66', 'DUPUPP', 'DZYAN', 'KCACS', 'KUYAY', 'MHAC7', 'NYAKS', 'PA61B', 'RGYAN', 'RYLKA', 'SERENABLE', 'SETCASES', 'SVAVAR', 'UWILA', 'V10V12', 'VAC7P', 'VARSAD']\n",
      "\n",
      "062abbb2-324e-49b5-952d-a11716763e2f\n",
      "['ARILLA', 'ATF66', 'BUKUKU', 'BULULU', 'CIFA4', 'CLIA4', 'DADALE', 'DDS11', 'FIRIRI', 'HCNHNH', 'LUPOPO', 'MYKES', 'OBFC1', 'P1XQR', 'PALELE', 'QAZAZA', 'SCIUTA', 'TRELLA', 'WENENE', 'XHOEX']\n",
      "\n",
      "0baaa6fa-ef83-4632-8786-03f77ef83920\n",
      "['ABABII', 'AGANAN', 'AIYAYA', 'AMAMRA', 'ARAQQA', 'BAJAJS', 'GAGANN', 'HALALI', 'INKOKO', 'KAJAJI', 'LPT49', 'MELELA', 'MURARA', 'P304B', 'PCCPCE', 'PCEPCC', 'TUTURA', 'VRAJA', 'WAJAJ', 'ZTZ99']\n",
      "\n",
      "201194a3-ecc7-44d4-9cee-337b1df9bcfe\n",
      "['2LPCD', '6ROLE', 'CSHSES', 'EGUNGUN', 'GIZIO', 'HASNAS', 'HCSH1', 'HCSH2', 'MURGI', 'NYTRO', 'PZ35T', 'RASNAS', 'REINCE', 'SETCASES', 'TB500', 'TMCO6', 'TROADE', 'UM592', 'VATX3', 'VSIG4']\n",
      "\n",
      "27738e13-4be3-4e3d-b2c9-de5b2d6d1e8d\n",
      "['9LLEF', 'BOUJU', 'DOKK1', 'FOX8S', 'FROHN', 'GALILI', 'HOXB8', 'KUZHI', 'MVLSZ', 'NEASE', 'PYAUK', 'QUAZI', 'SETCASES', 'TUWIA', 'TUWIM', 'UTU58', 'VROUZ', 'WNUAS', 'WRILY', 'YOSUF']\n",
      "\n",
      "--------------------------------------------------------------------------------\n",
      "flystudio\n",
      "001cad0a-7a37-46f7-ae1c-685bf5d8afeb\n",
      "['12SHIFT', 'ATTACHABLE', 'CANCELATION', 'CHUNKING', 'CRAMMD5', 'DIFFICULTYS', 'DONGFANG', 'ENDNUMBER', 'INMESSAGES', 'JINSHAN', 'LARGEFILE', 'LOCKRELEASE', 'NONCEREAL', 'PENALIZED', 'PENDAPAT', 'PIPELINING', 'REFERENTIA', 'REFERENTIAL', 'UNRECOGNISED', 'USPECIFIED']\n",
      "\n",
      "01f52aa8-5270-4943-9374-9a73e7fc8ebf\n",
      "['113HA', '2LIGA', '3LIGA', 'DUGGEE', 'ENAKE', 'GALPON', 'GH14A', 'HUGGE', 'INVALIDE', 'JUGGE', 'LAVNI', 'MCCOMMON', 'NCCDC', 'NOWUS', 'NVAPI', 'ORCONTE', 'REFLY', 'TBHBL', 'TEVATIA', 'VALIDE']\n",
      "\n",
      "04257c7c-45c3-454a-81ca-b8e6a4743a4b\n",
      "['BURIR', 'CEQAS', 'CYPIS', 'D1433', 'DIJEI', 'FKQCW', 'HERUR', 'KRCWS', 'MEIRC', 'NRCWE', 'NZARC', 'QEZEL', 'R9750', 'ROOAD', 'SAMID', 'SERTER', 'TIRQI', 'VOSEO', 'WIRKY', 'YIJIU']\n",
      "\n",
      "06092391-ca9b-46a8-a482-e5684f5bc19d\n",
      "['CPSIS', 'DUGGEE', 'IKERNE', 'ISSPS', 'ISTIA', 'ITILL', 'ITTYS', 'LVAAP', 'ONGAR', 'OSIAS', 'SILLS', 'SIPPL', 'SIRRS', 'SITTS', 'SITTY', 'TIFFT', 'TYSIS', 'UDRID', 'VVOWL', 'YAKER']\n",
      "\n",
      "0dc9d28a-931d-4bb5-9075-1ddba2440961\n",
      "['COLOUR', 'DCELLS', 'DDATED', 'GWDDW', 'HUGEE', 'JSESSIONS', 'K1300', 'KRYKA', 'KWMWD', 'LEXELL', 'NFENTE', 'NWASW', 'NWFAS', 'NWRLS', 'ORACOM', 'SHERSHELL', 'TDFPS', 'TEAYS', 'XVXVII', 'ZOLOTO']\n",
      "\n"
     ]
    }
   ],
   "source": [
    "print('-' * 80)\n",
    "print('eorezo')\n",
    "top_words_grp(config, clus4_e[:5])\n",
    "\n",
    "print('-' * 80)\n",
    "print('bladabindi')\n",
    "top_words_grp(config, clus4_b[:5])\n",
    "\n",
    "print('-' * 80)\n",
    "print('gepys')\n",
    "top_words_grp(config, clus4_g[:5])\n",
    "\n",
    "print('-' * 80)\n",
    "print('flystudio')\n",
    "top_words_grp(config, clus4_f[:5])\n"
   ]
  },
  {
   "cell_type": "markdown",
   "metadata": {
    "collapsed": true
   },
   "source": [
    "### Looking at VirusTotal data\n",
    "\n",
    "Now that we have isolated some problematic samples, let's look at the realted VirusTotal report."
   ]
  },
  {
   "cell_type": "code",
   "execution_count": 16,
   "metadata": {
    "scrolled": false
   },
   "outputs": [
    {
     "name": "stdout",
     "output_type": "stream",
     "text": [
      "Eorezo samples in cluster 4:  73\n",
      "None                 not-a-virus:AdWare.Win32.Eorezo.afob   Gen:Variant.Adware.Eorezo      None                \n",
      "Adware:Win32/EoRezo  not-a-virus:AdWare.Win32.Eorezo.ap     Gen:Variant.Zusy.192704        None                \n",
      "None                 None                                   Adware.Eorezo.BZ               None                \n",
      "None                 None                                   None                           None                \n",
      "None                 None                                   Adware.Eorezo.CB               None                \n",
      "None                 not-a-virus:AdWare.Win32.Agent.jgbe    Adware.Eorezo.CU               None                \n",
      "Adware:Win32/EoRezo  not-a-virus:AdWare.Win32.Eorezo.feyg   Gen:Variant.Adware.Eorezo      Win.Adware.Eorezo-525\n",
      "None                 None                                   None                           None                \n",
      "None                 None                                   None                           None                \n",
      "Adware:Win32/Eorezo  not-a-virus:AdWare.Win32.Eorezo.feyg   Adware.Eorezo.OV               Win.Adware.Eorezo-479\n",
      "None                 None                                   None                           None                \n",
      "None                 not-a-virus:HEUR:AdWare.Win32.Generic  Gen:Variant.Adware.Eorezo      None                \n",
      "Adware:Win32/EoRezo  not-a-virus:AdWare.Win32.Eorezo.afob   Gen:Variant.Adware.Eorezo      Win.Adware.Eorezo-272\n",
      "Adware:Win32/EoRezo  not-a-virus:AdWare.Win32.Eorezo.brqa   Adware.Eorezo.OV               Win.Adware.Eorezo-406\n",
      "None                 None                                   None                           None                \n",
      "None                 None                                   None                           None                \n",
      "None                 None                                   None                           None                \n",
      "None                 None                                   None                           None                \n",
      "Adware:Win32/EoRezo  not-a-virus:AdWare.Win32.Eorezo.brqa   Adware.Eorezo.OV               Win.Adware.Eorezo-422\n",
      "None                 not-a-virus:AdWare.Win32.Eorezo.iur    Gen:Variant.Adware.Mikey.7302  None                \n",
      "None                 None                                   Adware.Eorezo.BZ               None                \n",
      "None                 None                                   None                           None                \n",
      "Adware:Win32/EoRezo  not-a-virus:AdWare.Win32.Eorezo.ggje   Gen:Variant.Application.Midie  None                \n",
      "Adware:Win32/EoRezo  not-a-virus:AdWare.Win32.Eorezo.brqa   Adware.Eorezo.DB               Win.Adware.Eorezo-422\n",
      "Adware:Win32/Eorezo  None                                   None                           None                \n",
      "None                 None                                   Gen:Variant.Adware.Eorezo      Win.Adware.Eorezo-361\n",
      "None                 None                                   Adware.Eorezo.BZ               None                \n",
      "None                 None                                   Adware.Eorezo.CB               None                \n",
      "Adware:Win32/EoRezo  not-a-virus:AdWare.Win32.Eorezo.afob   Gen:Variant.Adware.Eorezo      Win.Adware.Eorezo-200\n",
      "None                 None                                   None                           None                \n",
      "None                 None                                   None                           None                \n",
      "None                 None                                   Adware.Eorezo.CB               None                \n",
      "None                 not-a-virus:AdWare.Win32.Eorezo.afob   Adware.Eorezo.CV               Win.Adware.Eorezo-294\n",
      "None                 not-a-virus:AdWare.Win32.Eorezo.abnt   None                           Win.Adware.Eorezo-245\n",
      "Adware:Win32/EoRezo  None                                   None                           None                \n",
      "None                 not-a-virus:AdWare.Win32.Eorezo.atqt   Adware.Eorezo.CD               None                \n",
      "None                 None                                   Gen:Variant.Adware.Eorezo      None                \n",
      "Adware:Win32/EoRezo  not-a-virus:AdWare.Win32.Eorezo.afob   Gen:Variant.Adware.Eorezo      Win.Adware.Eorezo-258\n",
      "None                 None                                   None                           None                \n",
      "None                 None                                   Gen:Variant.Adware.Eorezo      None                \n",
      "None                 not-a-virus:AdWare.Win32.Eorezo.mjk    Adware.Eorezo.BZ               None                \n",
      "None                 not-a-virus:AdWare.Win32.Eorezo.emv    Adware.Eorezo.BR               Win.Adware.Eorezo-110\n",
      "None                 None                                   None                           None                \n",
      "None                 not-a-virus:AdWare.Win32.Eorezo.fkz    Adware.Eorezo.BZ               Win.Adware.Eorezo-222\n",
      "None                 not-a-virus:AdWare.Win32.Eorezo.brqa   Gen:Variant.Adware.Eorezo      Win.Adware.Eorezo-447\n",
      "None                 None                                   Adware.Eorezo.BZ               None                \n",
      "Adware:Win32/EoRezo  not-a-virus:AdWare.Win32.Eorezo.afob   Adware.Eorezo.CN               Win.Adware.Eorezo-270\n",
      "None                 None                                   None                           None                \n",
      "Adware:Win32/EoRezo  not-a-virus:AdWare.Win32.Eorezo.acjj   Gen:Variant.Adware.Eorezo      Win.Adware.Eorezo-258\n",
      "None                 None                                   None                           None                \n",
      "Adware:Win32/Eorezo  not-a-virus:AdWare.Win32.Eorezo.feyg   Adware.Eorezo.OV               Win.Adware.Eorezo-496\n",
      "None                 None                                   None                           None                \n",
      "None                 None                                   Adware.Eorezo.BZ               None                \n",
      "None                 None                                   None                           None                \n",
      "None                 not-a-virus:AdWare.Win32.Eorezo.afob   None                           None                \n",
      "Adware:Win32/EoRezo  None                                   Adware.Eorezo.CH               None                \n",
      "None                 None                                   None                           None                \n",
      "None                 None                                   Adware.Eorezo.BZ               None                \n",
      "None                 None                                   Gen:Variant.Adware.Mikey.7302  None                \n",
      "None                 not-a-virus:AdWare.Win32.Eorezo.allg   Adware.Eorezo.BZ               Win.Adware.Eorezo-222\n",
      "None                 None                                   None                           None                \n",
      "None                 None                                   None                           None                \n",
      "None                 None                                   None                           Win.Adware.Eorezo-159\n",
      "None                 None                                   None                           None                \n",
      "None                 None                                   None                           None                \n",
      "None                 None                                   None                           None                \n",
      "None                 None                                   None                           None                \n",
      "None                 None                                   None                           None                \n",
      "None                 None                                   None                           None                \n",
      "None                 not-a-virus:AdWare.Win32.Eorezo.beay   Adware.Eorezo.DA               Win.Adware.Eorezo-432\n",
      "Adware:Win32/EoRezo  not-a-virus:AdWare.Win32.Eorezo.afob   Adware.Eorezo.CR               Win.Adware.Eorezo-302\n",
      "None                 UDS:DangerousObject.Multi.Generic      Adware.Eorezo.BZ               Win.Adware.Eorezo-222\n",
      "None                 not-a-virus:AdWare.Win32.Eorezo.baxt   None                           None                \n"
     ]
    }
   ],
   "source": [
    "print('Eorezo samples in cluster 4: ', len(clus4_e))\n",
    "for uuid in clus4_e:\n",
    "    md5 = uuid_md5[uuid]\n",
    "    vt = json.load(open(os.path.join(config['dir_vt'], md5), 'r'))\n",
    "    ms_lab = vt['scans']['Microsoft']['result']\n",
    "    ks_lab = vt['scans']['Kaspersky']['result']\n",
    "    fs_lab = vt['scans']['F-Secure']['result']\n",
    "    ca_lab = vt['scans']['ClamAV']['result']\n",
    "    \n",
    "#     print('{:<20} {:<20} {:<20} {:<20}'.format(str(md5), str(ms_lab), str(ks_lab), str(fs_lab)))\n",
    "    print('{:<20} {:<38} {:<30} {:<20}'.format(str(ms_lab), str(ks_lab), str(fs_lab), str(ca_lab)))\n",
    "    "
   ]
  },
  {
   "cell_type": "code",
   "execution_count": null,
   "metadata": {
    "collapsed": true
   },
   "outputs": [],
   "source": []
  }
 ],
 "metadata": {
  "kernelspec": {
   "display_name": "Python 3",
   "language": "python",
   "name": "python3"
  },
  "language_info": {
   "codemirror_mode": {
    "name": "ipython",
    "version": 3
   },
   "file_extension": ".py",
   "mimetype": "text/x-python",
   "name": "python",
   "nbconvert_exporter": "python",
   "pygments_lexer": "ipython3",
   "version": "3.5.2"
  }
 },
 "nbformat": 4,
 "nbformat_minor": 2
}
