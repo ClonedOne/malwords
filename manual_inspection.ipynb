{
 "cells": [
  {
   "cell_type": "markdown",
   "metadata": {
    "collapsed": true
   },
   "source": [
    "# Inspecting the content of possibly misclassified samples\n",
    "\n",
    "\n",
    "After performin the clustering phase we compared the results with a baseline clustering provided by AV labels. \n",
    "\n",
    "From this comparison it was clear that there were some malware families which where classified in the same way by both our clustering and the AVs.\n",
    "\n",
    "At the same time, however, there are groups of samples which result close in our feature space while being cathegorized as belonging to different families by the AVs.\n",
    "\n",
    "We would like to inspect this samples to better understand why they were classified differently from the AV baseline.\n",
    "\n",
    "Let's start by importing some useful packages."
   ]
  },
  {
   "cell_type": "code",
   "execution_count": 1,
   "metadata": {},
   "outputs": [],
   "source": [
    "%load_ext autoreload\n",
    "%autoreload 2\n",
    "\n",
    "from collections import defaultdict, Counter\n",
    "from utilities import constants\n",
    "from pprint import pprint\n",
    "import plotly.offline as ply\n",
    "import pandas as pd\n",
    "import numpy as np\n",
    "import json\n",
    "import os"
   ]
  },
  {
   "cell_type": "code",
   "execution_count": 2,
   "metadata": {},
   "outputs": [
    {
     "data": {
      "text/html": [
       "<script>requirejs.config({paths: { 'plotly': ['https://cdn.plot.ly/plotly-latest.min']},});if(!window.Plotly) {{require(['plotly'],function(plotly) {window.Plotly=plotly;});}}</script>"
      ],
      "text/vnd.plotly.v1+html": [
       "<script>requirejs.config({paths: { 'plotly': ['https://cdn.plot.ly/plotly-latest.min']},});if(!window.Plotly) {{require(['plotly'],function(plotly) {window.Plotly=plotly;});}}</script>"
      ]
     },
     "metadata": {},
     "output_type": "display_data"
    }
   ],
   "source": [
    "config = json.load(open('config.json', 'r'))\n",
    "uuids_family = json.load(open(os.path.join(constants.dir_d, constants.json_labels), 'r'))\n",
    "words = json.load(open(os.path.join(constants.dir_d, constants.json_words), 'r'))\n",
    "ply.init_notebook_mode(connected=True)"
   ]
  },
  {
   "cell_type": "markdown",
   "metadata": {},
   "source": [
    "Next we load the labels and clustering results files"
   ]
  },
  {
   "cell_type": "code",
   "execution_count": 3,
   "metadata": {
    "collapsed": true
   },
   "outputs": [],
   "source": [
    "labels = json.load(open('data/labels.json', 'r'))\n",
    "inv_labels = json.load(open('data/inverted_labels.json', 'r'))\n",
    "\n",
    "clustering = json.load(open('data/d_clusterings/clustering_hdbscan_cosine_1209.json', 'r'))"
   ]
  },
  {
   "cell_type": "code",
   "execution_count": 4,
   "metadata": {},
   "outputs": [
    {
     "name": "stdout",
     "output_type": "stream",
     "text": [
      "Cluster -1:\n",
      "[('eorezo', 56), ('bladabindi', 54), ('flystudio', 15), ('gepys', 2), ('mydoom', 2), ('lamer', 2)]\n",
      "\n",
      "Cluster 0:\n",
      "[('neshta', 224)]\n",
      "\n",
      "Cluster 1:\n",
      "[('mydoom', 144), ('eorezo', 3), ('flystudio', 1)]\n",
      "\n",
      "Cluster 2:\n",
      "[('lamer', 131), ('eorezo', 1)]\n",
      "\n",
      "Cluster 3:\n",
      "[('eorezo', 108), ('bladabindi', 9)]\n",
      "\n",
      "Cluster 4:\n",
      "[('eorezo', 87), ('gepys', 74), ('flystudio', 62), ('bladabindi', 47), ('neshta', 6), ('lamer', 3)]\n",
      "\n",
      "Cluster 5:\n",
      "[('bladabindi', 159), ('eorezo', 11), ('flystudio', 8)]\n",
      "\n"
     ]
    }
   ],
   "source": [
    "clust_compositions = {i: Counter() for i in sorted(set(clustering.values()))}\n",
    "\n",
    "for i in clustering:\n",
    "    clust_compositions[clustering[i]][labels[i]] += 1\n",
    "\n",
    "for clu in sorted(clust_compositions.keys()):\n",
    "    print('Cluster {}:'.format(clu))\n",
    "    print(clust_compositions[clu].most_common())\n",
    "    print()"
   ]
  },
  {
   "cell_type": "code",
   "execution_count": 5,
   "metadata": {
    "collapsed": true
   },
   "outputs": [],
   "source": [
    "inverted_clustering = defaultdict(list)\n",
    "for i in clustering:\n",
    "    inverted_clustering[clustering[i]].append(i)"
   ]
  },
  {
   "cell_type": "markdown",
   "metadata": {},
   "source": [
    "Let's isolate the noise cluster, i.e. the samples which the algorithm was unable to fit in a cluster."
   ]
  },
  {
   "cell_type": "code",
   "execution_count": 6,
   "metadata": {
    "collapsed": true
   },
   "outputs": [],
   "source": [
    "noise = inverted_clustering[-1]"
   ]
  },
  {
   "cell_type": "markdown",
   "metadata": {},
   "source": [
    "This cluster seems composed primarily by samples of the Eorezo and Bladabindi families."
   ]
  },
  {
   "cell_type": "code",
   "execution_count": 7,
   "metadata": {},
   "outputs": [
    {
     "name": "stdout",
     "output_type": "stream",
     "text": [
      "['00b47107-48c5-47aa-8673-4e15b61b1846',\n",
      " '02f02dd2-1a8d-4831-94a0-e7476f30c73d',\n",
      " '0ae9bfe9-5d65-474d-908b-382a1e6dcdc6',\n",
      " '0b1d113a-e6b3-48c4-b3fe-a5548c0d0337',\n",
      " '0f9ff148-9084-4a08-a82e-009e7d92f1cf']\n",
      "['0248cc75-288b-43c0-94c8-e5aa466fcf5c',\n",
      " '0423c18b-8250-4299-a947-0bbd707b0d67',\n",
      " '0788d49d-4809-40a7-a334-bd56e41b1333',\n",
      " '0e8a702a-5a33-4de0-8de1-c3fcbeae6e48',\n",
      " '0fc9cf5a-1f75-4429-af1c-033d4821e096']\n"
     ]
    }
   ],
   "source": [
    "noise_e = []\n",
    "noise_b = []\n",
    "\n",
    "for uuid in noise:\n",
    "    if uuids_family[uuid] == 'eorezo':\n",
    "        noise_e.append(uuid)\n",
    "    elif uuids_family[uuid] == 'bladabindi':\n",
    "        noise_b.append(uuid)\n",
    "\n",
    "noise_e = sorted(noise_e)\n",
    "noise_b = sorted(noise_b)\n",
    "\n",
    "pprint(noise_e[:5])\n",
    "pprint(noise_b[:5])"
   ]
  },
  {
   "cell_type": "markdown",
   "metadata": {},
   "source": [
    "Similarly for cluster number 4"
   ]
  },
  {
   "cell_type": "code",
   "execution_count": 8,
   "metadata": {
    "collapsed": true
   },
   "outputs": [],
   "source": [
    "clus4 = inverted_clustering[4]"
   ]
  },
  {
   "cell_type": "markdown",
   "metadata": {},
   "source": [
    "This time it seems this cluster should have been populated primarily by the Flystudio or the Gepys family. However a large number of samples from both Eorezo and Bladabindi are included in this cluster."
   ]
  },
  {
   "cell_type": "code",
   "execution_count": 9,
   "metadata": {},
   "outputs": [
    {
     "name": "stdout",
     "output_type": "stream",
     "text": [
      "['006953d6-8a8a-4938-bda1-987733b970cd',\n",
      " '00a2434b-6852-4e50-8b5c-bf5cc1da5ec1',\n",
      " '0413eaa7-5431-4d2b-9510-0781508eae02',\n",
      " '0842d66d-8c15-405a-88ba-10a916bac7ea',\n",
      " '09b85bd8-d4ea-4d64-8363-facad113e7b4']\n",
      "['059fed1d-1577-4bd3-a380-bdf3adb278e8',\n",
      " '071aa948-8a20-423d-84a8-17d312cd5f28',\n",
      " '1c410f27-6b28-4ead-b2d1-53fcf3132394',\n",
      " '1f1ab0e7-d53c-4a88-9ac1-c58197d42302',\n",
      " '283cd153-36f2-4a05-ad78-d9df63d202a3']\n",
      "['00b4a2aa-3216-435a-80b2-1db8b9c186ca',\n",
      " '062abbb2-324e-49b5-952d-a11716763e2f',\n",
      " '0baaa6fa-ef83-4632-8786-03f77ef83920',\n",
      " '201194a3-ecc7-44d4-9cee-337b1df9bcfe',\n",
      " '27738e13-4be3-4e3d-b2c9-de5b2d6d1e8d']\n",
      "['0248cc75-288b-43c0-94c8-e5aa466fcf5c',\n",
      " '0423c18b-8250-4299-a947-0bbd707b0d67',\n",
      " '0788d49d-4809-40a7-a334-bd56e41b1333',\n",
      " '0e8a702a-5a33-4de0-8de1-c3fcbeae6e48',\n",
      " '0fc9cf5a-1f75-4429-af1c-033d4821e096']\n"
     ]
    }
   ],
   "source": [
    "clus4_e = []\n",
    "clus4_b = []\n",
    "clus4_g = []\n",
    "clus4_f = []\n",
    "\n",
    "for uuid in clus4:\n",
    "    if uuids_family[uuid] == 'eorezo':\n",
    "        clus4_e.append(uuid)\n",
    "    elif uuids_family[uuid] == 'bladabindi':\n",
    "        clus4_b.append(uuid)\n",
    "    elif uuids_family[uuid] == 'gepys':\n",
    "        clus4_g.append(uuid)\n",
    "    elif uuids_family[uuid] == 'flystudio':\n",
    "        clus4_f.append(uuid)\n",
    "\n",
    "\n",
    "clus4_e = sorted(clus4_e)\n",
    "clus4_b = sorted(clus4_b)\n",
    "clus4_g = sorted(clus4_g)\n",
    "clus4_f = sorted(clus4_f)\n",
    "\n",
    "pprint(clus4_e[:5])\n",
    "pprint(clus4_b[:5])\n",
    "pprint(clus4_g[:5])\n",
    "pprint(noise_b[:5])"
   ]
  },
  {
   "cell_type": "code",
   "execution_count": null,
   "metadata": {
    "collapsed": true
   },
   "outputs": [],
   "source": []
  },
  {
   "cell_type": "code",
   "execution_count": null,
   "metadata": {
    "collapsed": true
   },
   "outputs": [],
   "source": []
  }
 ],
 "metadata": {
  "kernelspec": {
   "display_name": "Python 3",
   "language": "python",
   "name": "python3"
  },
  "language_info": {
   "codemirror_mode": {
    "name": "ipython",
    "version": 3
   },
   "file_extension": ".py",
   "mimetype": "text/x-python",
   "name": "python",
   "nbconvert_exporter": "python",
   "pygments_lexer": "ipython3",
   "version": "3.5.2"
  }
 },
 "nbformat": 4,
 "nbformat_minor": 2
}
