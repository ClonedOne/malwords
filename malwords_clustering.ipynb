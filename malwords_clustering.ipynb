{
 "cells": [
  {
   "cell_type": "markdown",
   "metadata": {},
   "source": [
    "# HDBSCAN clustering result analysis\n",
    "\n",
    "Let's start by loading up some libraries and static data that may be useful in the next steps."
   ]
  },
  {
   "cell_type": "code",
   "execution_count": null,
   "metadata": {
    "collapsed": true
   },
   "outputs": [],
   "source": [
    "%load_ext autoreload\n",
    "%autoreload 2"
   ]
  },
  {
   "cell_type": "code",
   "execution_count": null,
   "metadata": {
    "collapsed": true
   },
   "outputs": [],
   "source": [
    "from visualization import vis_data, vis_cluster\n",
    "from collections import defaultdict, Counter\n",
    "from utilities import constants, evaluation\n",
    "from preprocessing import pp_action\n",
    "from clustering import clu_hdbscan\n",
    "import plotly.graph_objs as go\n",
    "import plotly.offline as ply\n",
    "import pandas as pd\n",
    "import numpy as np\n",
    "import json\n",
    "import os"
   ]
  },
  {
   "cell_type": "code",
   "execution_count": null,
   "metadata": {
    "collapsed": true
   },
   "outputs": [],
   "source": [
    "config = json.load(open('config.json', 'r'))\n",
    "uuids_family = json.load(open(os.path.join(constants.dir_d, constants.json_labels), 'r'))\n",
    "words = json.load(open(os.path.join(constants.dir_d, constants.json_words), 'r'))\n",
    "ply.init_notebook_mode(connected=True)"
   ]
  },
  {
   "cell_type": "code",
   "execution_count": null,
   "metadata": {
    "collapsed": true
   },
   "outputs": [],
   "source": [
    "min_sample_params = [50, 100, 200, 300]\n",
    "min_cluster_sizes = [50, 100, 200, 300]"
   ]
  },
  {
   "cell_type": "markdown",
   "metadata": {},
   "source": [
    "## Data selection\n",
    "\n",
    "Select a subset of the original dataset. Then the selected subset will be split into a training and a testing set.\n"
   ]
  },
  {
   "cell_type": "code",
   "execution_count": null,
   "metadata": {
    "collapsed": true,
    "scrolled": true
   },
   "outputs": [],
   "source": [
    "samples_data = pp_action.pre_process(config)\n",
    "pp_action.split_show_data(samples_data)"
   ]
  },
  {
   "cell_type": "code",
   "execution_count": null,
   "metadata": {
    "collapsed": true
   },
   "outputs": [],
   "source": [
    "uuids = samples_data.index[samples_data['selected'] == 1].tolist()\n",
    "numerical_labels = samples_data.fam_num[samples_data['selected'] == 1].tolist()"
   ]
  },
  {
   "cell_type": "markdown",
   "metadata": {},
   "source": [
    "## Utilities\n",
    "\n",
    "let's define a few helper fucntions\n"
   ]
  },
  {
   "cell_type": "code",
   "execution_count": null,
   "metadata": {
    "collapsed": true
   },
   "outputs": [],
   "source": [
    "def plot_surface(to_plot, a_x, a_y, title):\n",
    "    data = [go.Surface(x=a_x, y=a_y, z=to_plot)]\n",
    "    \n",
    "    layout = go.Layout(\n",
    "        title=title\n",
    "    )\n",
    "    \n",
    "    fig = go.Figure(data=data, layout=layout)\n",
    "    \n",
    "    ply.iplot(fig, filename=title)    "
   ]
  },
  {
   "cell_type": "code",
   "execution_count": null,
   "metadata": {
    "collapsed": true
   },
   "outputs": [],
   "source": [
    "def plot_surfaces(to_plot_f, to_plot_s, to_plot_q, clusters, min_sample_params, min_cluster_sizes):\n",
    "    plot_surface(to_plot_f, min_sample_params, min_cluster_sizes, 'f1 scores')\n",
    "    plot_surface(to_plot_s, min_sample_params, min_cluster_sizes, 'silhouette scores')\n",
    "    plot_surface(to_plot_q, min_sample_params, min_cluster_sizes, 'quality')\n",
    "    plot_surface(clusters, min_sample_params, min_cluster_sizes, 'clusters')"
   ]
  },
  {
   "cell_type": "code",
   "execution_count": null,
   "metadata": {
    "collapsed": true
   },
   "outputs": [],
   "source": [
    "def test_params(data_matrix, numerical_labels, config, min_sample_params, min_cluster_sizes):\n",
    "    to_plot_f = np.zeros((len(min_sample_params), len(min_cluster_sizes)))\n",
    "    to_plot_s = np.zeros((len(min_sample_params), len(min_cluster_sizes)))\n",
    "    to_plot_q = np.zeros((len(min_sample_params), len(min_cluster_sizes)))\n",
    "    clusters = np.zeros((len(min_sample_params), len(min_cluster_sizes)))\n",
    "\n",
    "    i = 0\n",
    "    for ms in min_sample_params:\n",
    "        j = 0\n",
    "        \n",
    "        for mc in min_cluster_sizes:\n",
    "\n",
    "            clustering_labels, model, modifier, data, metric = clu_hdbscan.cluster(\n",
    "                data_matrix,\n",
    "                numerical_labels,\n",
    "                config,\n",
    "                {\n",
    "                    'distance': 'c',\n",
    "                    'min_cluster_size': mc,\n",
    "                    'min_sample': ms\n",
    "                }\n",
    "            )\n",
    "            \n",
    "            n_clusters = len(set(clustering_labels)) - (1 if -1 in clustering_labels else 0)\n",
    "            if n_clusters < 2:\n",
    "                data = None\n",
    "            \n",
    "            results = evaluation.evaluate_clustering(numerical_labels, clustering_labels, data, metric, True)\n",
    "\n",
    "            to_plot_f[i][j] = results[7]\n",
    "            to_plot_s[i][j] = results[11] if data is not None else 0\n",
    "            to_plot_q[i][j] = results[10]\n",
    "            clusters[i][j] = n_clusters\n",
    "            j += 1\n",
    "\n",
    "        i += 1\n",
    "\n",
    "    return to_plot_f, to_plot_s, to_plot_q, clusters"
   ]
  },
  {
   "cell_type": "markdown",
   "metadata": {},
   "source": [
    "## Clustering\n",
    "\n",
    "Here we will use HDBSCAN, a hierarchical density-based clustering algorithm."
   ]
  },
  {
   "cell_type": "markdown",
   "metadata": {},
   "source": [
    "### 256 features\n",
    "Let's start by using the data matrix produced by using PCA for feature extraction."
   ]
  },
  {
   "cell_type": "code",
   "execution_count": null,
   "metadata": {
    "collapsed": true
   },
   "outputs": [],
   "source": [
    "data_matrix_p = np.loadtxt('data/matrix/pca_256_28582.txt')"
   ]
  },
  {
   "cell_type": "code",
   "execution_count": null,
   "metadata": {
    "collapsed": true,
    "scrolled": false
   },
   "outputs": [],
   "source": [
    "to_plot_f, to_plot_s, to_plot_q, clusters = test_params(data_matrix_p, numerical_labels, config, min_sample_params, min_cluster_sizes)"
   ]
  },
  {
   "cell_type": "code",
   "execution_count": null,
   "metadata": {
    "collapsed": true,
    "scrolled": false
   },
   "outputs": [],
   "source": [
    "plot_surfaces(to_plot_f, to_plot_s, to_plot_q, clusters, min_sample_params, min_cluster_sizes)"
   ]
  },
  {
   "cell_type": "markdown",
   "metadata": {},
   "source": [
    "Now let's see how it compares with the same algorithm applied to a data matrix obtained using Random Forest Classifiers for feature selection."
   ]
  },
  {
   "cell_type": "code",
   "execution_count": null,
   "metadata": {
    "collapsed": true
   },
   "outputs": [],
   "source": [
    "data_matrix_r = np.loadtxt('data/matrix/rfc_256_28582.txt')"
   ]
  },
  {
   "cell_type": "code",
   "execution_count": null,
   "metadata": {
    "collapsed": true
   },
   "outputs": [],
   "source": [
    "to_plot_f, to_plot_s, to_plot_q, clusters = test_params(data_matrix_r, numerical_labels, config, min_sample_params, min_cluster_sizes)"
   ]
  },
  {
   "cell_type": "code",
   "execution_count": null,
   "metadata": {
    "collapsed": true,
    "scrolled": false
   },
   "outputs": [],
   "source": [
    "plot_surfaces(to_plot_f, to_plot_s, to_plot_q, clusters, min_sample_params, min_cluster_sizes)"
   ]
  },
  {
   "cell_type": "markdown",
   "metadata": {},
   "source": [
    "Using the least relevant features as identified by the RFC"
   ]
  },
  {
   "cell_type": "code",
   "execution_count": null,
   "metadata": {
    "collapsed": true
   },
   "outputs": [],
   "source": [
    "data_matrix_ir = np.loadtxt('data/matrix/irfc_256_28582.txt')"
   ]
  },
  {
   "cell_type": "code",
   "execution_count": null,
   "metadata": {
    "collapsed": true,
    "scrolled": false
   },
   "outputs": [],
   "source": [
    "to_plot_f, to_plot_s, to_plot_q, clusters = test_params(data_matrix_ir, numerical_labels, config, min_sample_params, min_cluster_sizes)"
   ]
  },
  {
   "cell_type": "code",
   "execution_count": null,
   "metadata": {
    "collapsed": true,
    "scrolled": false
   },
   "outputs": [],
   "source": [
    "plot_surfaces(to_plot_f, to_plot_s, to_plot_q, clusters, min_sample_params, min_cluster_sizes)"
   ]
  },
  {
   "cell_type": "markdown",
   "metadata": {},
   "source": [
    "### 512 features"
   ]
  },
  {
   "cell_type": "code",
   "execution_count": null,
   "metadata": {
    "collapsed": true
   },
   "outputs": [],
   "source": [
    "data_matrix_p = np.loadtxt('data/matrix/pca_512_28582.txt')"
   ]
  },
  {
   "cell_type": "code",
   "execution_count": null,
   "metadata": {
    "collapsed": true,
    "scrolled": false
   },
   "outputs": [],
   "source": [
    "to_plot_f, to_plot_s, to_plot_q, clusters = test_params(data_matrix_p, numerical_labels, config, min_sample_params, min_cluster_sizes)"
   ]
  },
  {
   "cell_type": "code",
   "execution_count": null,
   "metadata": {
    "collapsed": true,
    "scrolled": false
   },
   "outputs": [],
   "source": [
    "plot_surfaces(to_plot_f, to_plot_s, to_plot_q, clusters, min_sample_params, min_cluster_sizes)"
   ]
  },
  {
   "cell_type": "markdown",
   "metadata": {},
   "source": [
    "Now let's see how it compares with the same algorithm applied to a data matrix obtained using Random Forest Classifiers for feature selection."
   ]
  },
  {
   "cell_type": "code",
   "execution_count": null,
   "metadata": {
    "collapsed": true
   },
   "outputs": [],
   "source": [
    "data_matrix_r = np.loadtxt('data/matrix/rfc_512_28582.txt')"
   ]
  },
  {
   "cell_type": "code",
   "execution_count": null,
   "metadata": {
    "collapsed": true
   },
   "outputs": [],
   "source": [
    "to_plot_f, to_plot_s, to_plot_q, clusters = test_params(data_matrix_r, numerical_labels, config, min_sample_params, min_cluster_sizes)"
   ]
  },
  {
   "cell_type": "code",
   "execution_count": null,
   "metadata": {
    "collapsed": true,
    "scrolled": false
   },
   "outputs": [],
   "source": [
    "plot_surfaces(to_plot_f, to_plot_s, to_plot_q, clusters, min_sample_params, min_cluster_sizes)"
   ]
  },
  {
   "cell_type": "markdown",
   "metadata": {},
   "source": [
    "### 1024 features\n"
   ]
  },
  {
   "cell_type": "code",
   "execution_count": null,
   "metadata": {
    "collapsed": true
   },
   "outputs": [],
   "source": [
    "data_matrix_p = np.loadtxt('data/matrix/pca_1024_28582.txt')"
   ]
  },
  {
   "cell_type": "code",
   "execution_count": null,
   "metadata": {
    "collapsed": true,
    "scrolled": false
   },
   "outputs": [],
   "source": [
    "to_plot_f, to_plot_s, to_plot_q, clusters = test_params(data_matrix_p, numerical_labels, config, min_sample_params, min_cluster_sizes)"
   ]
  },
  {
   "cell_type": "code",
   "execution_count": null,
   "metadata": {
    "collapsed": true,
    "scrolled": false
   },
   "outputs": [],
   "source": [
    "plot_surfaces(to_plot_f, to_plot_s, to_plot_q, clusters, min_sample_params, min_cluster_sizes)"
   ]
  },
  {
   "cell_type": "markdown",
   "metadata": {},
   "source": [
    "Now let's see how it compares with the same algorithm applied to a data matrix obtained using Random Forest Classifiers for feature selection."
   ]
  },
  {
   "cell_type": "code",
   "execution_count": null,
   "metadata": {
    "collapsed": true
   },
   "outputs": [],
   "source": [
    "data_matrix_r = np.loadtxt('data/matrix/rfc_1024_28582.txt')"
   ]
  },
  {
   "cell_type": "code",
   "execution_count": null,
   "metadata": {
    "collapsed": true
   },
   "outputs": [],
   "source": [
    "to_plot_f, to_plot_s, to_plot_q, clusters = test_params(data_matrix_r, numerical_labels, config, min_sample_params, min_cluster_sizes)"
   ]
  },
  {
   "cell_type": "code",
   "execution_count": null,
   "metadata": {
    "collapsed": true,
    "scrolled": false
   },
   "outputs": [],
   "source": [
    "plot_surfaces(to_plot_f, to_plot_s, to_plot_q, clusters, min_sample_params, min_cluster_sizes)"
   ]
  },
  {
   "cell_type": "markdown",
   "metadata": {},
   "source": [
    "### 2048 features"
   ]
  },
  {
   "cell_type": "code",
   "execution_count": null,
   "metadata": {
    "collapsed": true
   },
   "outputs": [],
   "source": [
    "data_matrix_r = np.loadtxt('data/matrix/pca_2048_28582.txt')"
   ]
  },
  {
   "cell_type": "code",
   "execution_count": null,
   "metadata": {
    "collapsed": true
   },
   "outputs": [],
   "source": [
    "to_plot_f, to_plot_s, to_plot_q, clusters = test_params(data_matrix_r, numerical_labels, config, min_sample_params, min_cluster_sizes)"
   ]
  },
  {
   "cell_type": "code",
   "execution_count": null,
   "metadata": {
    "collapsed": true,
    "scrolled": false
   },
   "outputs": [],
   "source": [
    "plot_surfaces(to_plot_f, to_plot_s, to_plot_q, clusters, min_sample_params, min_cluster_sizes)"
   ]
  },
  {
   "cell_type": "markdown",
   "metadata": {
    "collapsed": true
   },
   "source": [
    "Now let's see how it compares with the same algorithm applied to a data matrix obtained using Random Forest Classifiers for feature selection.\n"
   ]
  },
  {
   "cell_type": "code",
   "execution_count": null,
   "metadata": {
    "collapsed": true
   },
   "outputs": [],
   "source": [
    "data_matrix_r = np.loadtxt('data/matrix/rfc_2048_28582.txt')"
   ]
  },
  {
   "cell_type": "code",
   "execution_count": null,
   "metadata": {
    "collapsed": true
   },
   "outputs": [],
   "source": [
    "to_plot_f, to_plot_s, to_plot_q, clusters = test_params(data_matrix_r, numerical_labels, config, min_sample_params, min_cluster_sizes)"
   ]
  },
  {
   "cell_type": "code",
   "execution_count": null,
   "metadata": {
    "collapsed": true,
    "scrolled": false
   },
   "outputs": [],
   "source": [
    "plot_surfaces(to_plot_f, to_plot_s, to_plot_q, clusters, min_sample_params, min_cluster_sizes)"
   ]
  },
  {
   "cell_type": "code",
   "execution_count": null,
   "metadata": {
    "collapsed": true
   },
   "outputs": [],
   "source": []
  }
 ],
 "metadata": {
  "kernelspec": {
   "display_name": "Python 3",
   "language": "python",
   "name": "python3"
  },
  "language_info": {
   "codemirror_mode": {
    "name": "ipython",
    "version": 3
   },
   "file_extension": ".py",
   "mimetype": "text/x-python",
   "name": "python",
   "nbconvert_exporter": "python",
   "pygments_lexer": "ipython3",
   "version": "3.5.3"
  }
 },
 "nbformat": 4,
 "nbformat_minor": 2
}
