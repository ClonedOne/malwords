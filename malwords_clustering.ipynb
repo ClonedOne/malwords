{
 "cells": [
  {
   "cell_type": "markdown",
   "metadata": {},
   "source": [
    "# HDBSCAN clustering result analysis\n",
    "\n",
    "Let's start by loading up some libraries and static data that may be useful in the next steps."
   ]
  },
  {
   "cell_type": "code",
   "execution_count": 1,
   "metadata": {
    "collapsed": true
   },
   "outputs": [],
   "source": [
    "%load_ext autoreload\n",
    "%autoreload 2"
   ]
  },
  {
   "cell_type": "code",
   "execution_count": 2,
   "metadata": {
    "collapsed": true
   },
   "outputs": [],
   "source": [
    "from visualization import vis_data, vis_cluster\n",
    "from collections import defaultdict, Counter\n",
    "from utilities import constants, evaluation\n",
    "from preprocessing import pp_action\n",
    "from clustering import clu_hdbscan\n",
    "import plotly.graph_objs as go\n",
    "import plotly.offline as ply\n",
    "import pandas as pd\n",
    "import numpy as np\n",
    "import json\n",
    "import os"
   ]
  },
  {
   "cell_type": "code",
   "execution_count": 3,
   "metadata": {},
   "outputs": [
    {
     "data": {
      "text/html": [
       "<script>requirejs.config({paths: { 'plotly': ['https://cdn.plot.ly/plotly-latest.min']},});if(!window.Plotly) {{require(['plotly'],function(plotly) {window.Plotly=plotly;});}}</script>"
      ],
      "text/vnd.plotly.v1+html": [
       "<script>requirejs.config({paths: { 'plotly': ['https://cdn.plot.ly/plotly-latest.min']},});if(!window.Plotly) {{require(['plotly'],function(plotly) {window.Plotly=plotly;});}}</script>"
      ]
     },
     "metadata": {},
     "output_type": "display_data"
    }
   ],
   "source": [
    "config = json.load(open('config.json', 'r'))\n",
    "uuids_family = json.load(open(os.path.join(constants.dir_d, constants.json_labels), 'r'))\n",
    "words = json.load(open(os.path.join(constants.dir_d, constants.json_words), 'r'))\n",
    "ply.init_notebook_mode(connected=True)"
   ]
  },
  {
   "cell_type": "code",
   "execution_count": 4,
   "metadata": {
    "collapsed": true
   },
   "outputs": [],
   "source": [
    "min_sample_params = [50, 100, 150, 300]\n",
    "min_cluster_sizes = [50, 100, 150, 300]"
   ]
  },
  {
   "cell_type": "markdown",
   "metadata": {},
   "source": [
    "## Data selection\n",
    "\n",
    "Select a subset of the original dataset. Then the selected subset will be split into a training and a testing set.\n"
   ]
  },
  {
   "cell_type": "code",
   "execution_count": 5,
   "metadata": {
    "scrolled": true
   },
   "outputs": [
    {
     "name": "stdout",
     "output_type": "stream",
     "text": [
      "Please choose the subset of data to workon on:\n",
      "l for all labeled samples\n",
      "k for samples of families mydoom, gepys, lamer, neshta, bladabindi, flystudio, eorezo\n",
      "s for a small balanced subset\n",
      "f for a single family\n",
      "b for a balanced subset of samples\n",
      "q to quit\n",
      "b\n",
      "\n",
      "Would you like to compute the Jensen-Shannon distance matrix for the chosen data? [y/n]\n",
      "n\n",
      "\n",
      "20007 train samples belonging to 65 malware families\n",
      "Malware family:      multiplug       Number of samples:  748  \n",
      "Malware family:     installcore      Number of samples:  724  \n",
      "Malware family:       firseria       Number of samples:  720  \n",
      "Malware family:      outbrowse       Number of samples:  712  \n",
      "Malware family:       virlock        Number of samples:  707  \n",
      "Malware family:      loadmoney       Number of samples:  706  \n",
      "Malware family:        sality        Number of samples:  703  \n",
      "Malware family:      browsefox       Number of samples:  701  \n",
      "Malware family:       allaple        Number of samples:  698  \n",
      "Malware family:         mira         Number of samples:  695  \n",
      "Malware family:      softpulse       Number of samples:  694  \n",
      "Malware family:        vobfus        Number of samples:  692  \n",
      "Malware family:        sytro         Number of samples:  685  \n",
      "Malware family:        parite        Number of samples:  679  \n",
      "Malware family:        upatre        Number of samples:  678  \n",
      "Malware family:        virut         Number of samples:  677  \n",
      "Malware family:         klez         Number of samples:  541  \n",
      "Malware family:        dinwod        Number of samples:  517  \n",
      "Malware family:      vtflooder       Number of samples:  413  \n",
      "Malware family:        expiro        Number of samples:  375  \n",
      "Malware family:       icloader       Number of samples:  310  \n",
      "Malware family:        wapomi        Number of samples:  301  \n",
      "Malware family:        ramnit        Number of samples:  299  \n",
      "Malware family:        ircbot        Number of samples:  271  \n",
      "Malware family:    installmonster    Number of samples:  256  \n",
      "Malware family:         zbot         Number of samples:  254  \n",
      "Malware family:        autoit        Number of samples:  248  \n",
      "Malware family:        domaiq        Number of samples:  243  \n",
      "Malware family:        ipamor        Number of samples:  242  \n",
      "Malware family:    downloadguide     Number of samples:  236  \n",
      "Malware family:     installerex      Number of samples:  225  \n",
      "Malware family:      bladabindi      Number of samples:  187  \n",
      "Malware family:         delf         Number of samples:  184  \n",
      "Malware family:        ibryte        Number of samples:  182  \n",
      "Malware family:        eorezo        Number of samples:  174  \n",
      "Malware family:        neshta        Number of samples:  162  \n",
      "Malware family:        vilsel        Number of samples:  161  \n",
      "Malware family:      crossrider      Number of samples:  155  \n",
      "Malware family:         zusy         Number of samples:  148  \n",
      "Malware family:      amonetize       Number of samples:  147  \n",
      "Malware family:        cosmu         Number of samples:  138  \n",
      "Malware family:        loring        Number of samples:  133  \n",
      "Malware family:     airinstaller     Number of samples:  131  \n",
      "Malware family:    downloadadmin     Number of samples:  128  \n",
      "Malware family:        urelas        Number of samples:  123  \n",
      "Malware family:      convertad       Number of samples:  121  \n",
      "Malware family:        simbot        Number of samples:  115  \n",
      "Malware family:        yuner         Number of samples:  113  \n",
      "Malware family:  downloadassistant   Number of samples:  110  \n",
      "Malware family:        imali         Number of samples:  107  \n",
      "Malware family:       dealply        Number of samples:  106  \n",
      "Malware family:       gamarue        Number of samples:  105  \n",
      "Malware family:        lydra         Number of samples:  104  \n",
      "Malware family:        mydoom        Number of samples:  104  \n",
      "Malware family:        memery        Number of samples:   99  \n",
      "Malware family:      softcnapp       Number of samples:   97  \n",
      "Malware family:       dlhelper       Number of samples:   95  \n",
      "Malware family:        picsys        Number of samples:   93  \n",
      "Malware family:        lamer         Number of samples:   87  \n",
      "Malware family:        berbew        Number of samples:   84  \n",
      "Malware family:       bundlore       Number of samples:   77  \n",
      "Malware family:       filetour       Number of samples:   76  \n",
      "Malware family:        shipup        Number of samples:   75  \n",
      "Malware family:        hotbar        Number of samples:   72  \n",
      "Malware family:         chir         Number of samples:   64  \n",
      "\n",
      "4288 dev samples belonging to 65 malware families\n",
      "Malware family:        vobfus        Number of samples:  171  \n",
      "Malware family:        upatre        Number of samples:  169  \n",
      "Malware family:        virut         Number of samples:  166  \n",
      "Malware family:         mira         Number of samples:  163  \n",
      "Malware family:        sytro         Number of samples:  162  \n",
      "Malware family:        sality        Number of samples:  154  \n",
      "Malware family:       virlock        Number of samples:  152  \n",
      "Malware family:       allaple        Number of samples:  148  \n",
      "Malware family:        parite        Number of samples:  147  \n",
      "Malware family:      softpulse       Number of samples:  146  \n",
      "Malware family:       firseria       Number of samples:  143  \n",
      "Malware family:      browsefox       Number of samples:  141  \n",
      "Malware family:      outbrowse       Number of samples:  132  \n",
      "Malware family:      loadmoney       Number of samples:  129  \n",
      "Malware family:      multiplug       Number of samples:  128  \n",
      "Malware family:     installcore      Number of samples:  115  \n",
      "Malware family:         klez         Number of samples:  111  \n",
      "Malware family:        dinwod        Number of samples:  111  \n",
      "Malware family:        expiro        Number of samples:   90  \n",
      "Malware family:        ramnit        Number of samples:   78  \n",
      "Malware family:        wapomi        Number of samples:   77  \n",
      "Malware family:      vtflooder       Number of samples:   76  \n",
      "Malware family:        ircbot        Number of samples:   67  \n",
      "Malware family:       icloader       Number of samples:   63  \n",
      "Malware family:         zbot         Number of samples:   59  \n",
      "Malware family:        ipamor        Number of samples:   57  \n",
      "Malware family:        autoit        Number of samples:   55  \n",
      "Malware family:    installmonster    Number of samples:   55  \n",
      "Malware family:     installerex      Number of samples:   53  \n",
      "Malware family:        eorezo        Number of samples:   51  \n",
      "Malware family:    downloadguide     Number of samples:   48  \n",
      "Malware family:        ibryte        Number of samples:   45  \n",
      "Malware family:        domaiq        Number of samples:   44  \n",
      "Malware family:      bladabindi      Number of samples:   40  \n",
      "Malware family:        simbot        Number of samples:   39  \n",
      "Malware family:        loring        Number of samples:   39  \n",
      "Malware family:         delf         Number of samples:   34  \n",
      "Malware family:        vilsel        Number of samples:   33  \n",
      "Malware family:         zusy         Number of samples:   32  \n",
      "Malware family:      softcnapp       Number of samples:   31  \n",
      "Malware family:      amonetize       Number of samples:   30  \n",
      "Malware family:      crossrider      Number of samples:   30  \n",
      "Malware family:    downloadadmin     Number of samples:   29  \n",
      "Malware family:        cosmu         Number of samples:   28  \n",
      "Malware family:        urelas        Number of samples:   27  \n",
      "Malware family:        imali         Number of samples:   26  \n",
      "Malware family:        neshta        Number of samples:   24  \n",
      "Malware family:        memery        Number of samples:   24  \n",
      "Malware family:       dealply        Number of samples:   23  \n",
      "Malware family:        lamer         Number of samples:   22  \n",
      "Malware family:     airinstaller     Number of samples:   22  \n",
      "Malware family:        mydoom        Number of samples:   21  \n",
      "Malware family:        lydra         Number of samples:   21  \n",
      "Malware family:        berbew        Number of samples:   21  \n",
      "Malware family:        yuner         Number of samples:   20  \n",
      "Malware family:         chir         Number of samples:   19  \n",
      "Malware family:       gamarue        Number of samples:   18  \n",
      "Malware family:  downloadassistant   Number of samples:   18  \n",
      "Malware family:       bundlore       Number of samples:   18  \n",
      "Malware family:      convertad       Number of samples:   17  \n",
      "Malware family:        picsys        Number of samples:   17  \n",
      "Malware family:        shipup        Number of samples:   17  \n",
      "Malware family:       filetour       Number of samples:   16  \n",
      "Malware family:       dlhelper       Number of samples:   13  \n",
      "Malware family:        hotbar        Number of samples:   13  \n",
      "\n",
      "4287 test samples belonging to 65 malware families\n",
      "Malware family:        parite        Number of samples:  174  \n",
      "Malware family:      loadmoney       Number of samples:  165  \n",
      "Malware family:     installcore      Number of samples:  161  \n",
      "Malware family:      softpulse       Number of samples:  160  \n",
      "Malware family:      browsefox       Number of samples:  158  \n",
      "Malware family:        virut         Number of samples:  157  \n",
      "Malware family:      outbrowse       Number of samples:  156  \n",
      "Malware family:       allaple        Number of samples:  154  \n",
      "Malware family:        upatre        Number of samples:  153  \n",
      "Malware family:        sytro         Number of samples:  153  \n",
      "Malware family:        sality        Number of samples:  143  \n",
      "Malware family:         mira         Number of samples:  142  \n",
      "Malware family:       virlock        Number of samples:  141  \n",
      "Malware family:        vobfus        Number of samples:  137  \n",
      "Malware family:      multiplug       Number of samples:  124  \n",
      "Malware family:       firseria       Number of samples:  124  \n",
      "Malware family:        dinwod        Number of samples:  112  \n",
      "Malware family:         klez         Number of samples:   97  \n",
      "Malware family:        expiro        Number of samples:   79  \n",
      "Malware family:      vtflooder       Number of samples:   74  \n",
      "Malware family:        wapomi        Number of samples:   71  \n",
      "Malware family:    installmonster    Number of samples:   63  \n",
      "Malware family:        ramnit        Number of samples:   62  \n",
      "Malware family:       icloader       Number of samples:   61  \n",
      "Malware family:         zbot         Number of samples:   56  \n",
      "Malware family:        ipamor        Number of samples:   54  \n",
      "Malware family:        autoit        Number of samples:   54  \n",
      "Malware family:        ircbot        Number of samples:   51  \n",
      "Malware family:    downloadguide     Number of samples:   49  \n",
      "Malware family:        domaiq        Number of samples:   45  \n",
      "Malware family:        loring        Number of samples:   44  \n",
      "Malware family:        neshta        Number of samples:   44  \n",
      "Malware family:     installerex      Number of samples:   44  \n",
      "Malware family:      bladabindi      Number of samples:   42  \n",
      "Malware family:        eorezo        Number of samples:   41  \n",
      "Malware family:      amonetize       Number of samples:   38  \n",
      "Malware family:        urelas        Number of samples:   37  \n",
      "Malware family:        cosmu         Number of samples:   36  \n",
      "Malware family:        vilsel        Number of samples:   36  \n",
      "Malware family:     airinstaller     Number of samples:   32  \n",
      "Malware family:         delf         Number of samples:   31  \n",
      "Malware family:      convertad       Number of samples:   31  \n",
      "Malware family:        ibryte        Number of samples:   30  \n",
      "Malware family:    downloadadmin     Number of samples:   30  \n",
      "Malware family:        simbot        Number of samples:   29  \n",
      "Malware family:         zusy         Number of samples:   29  \n",
      "Malware family:      softcnapp       Number of samples:   28  \n",
      "Malware family:      crossrider      Number of samples:   28  \n",
      "Malware family:        lamer         Number of samples:   27  \n",
      "Malware family:       dealply        Number of samples:   25  \n",
      "Malware family:       gamarue        Number of samples:   24  \n",
      "Malware family:        lydra         Number of samples:   22  \n",
      "Malware family:        hotbar        Number of samples:   22  \n",
      "Malware family:        memery        Number of samples:   22  \n",
      "Malware family:        mydoom        Number of samples:   21  \n",
      "Malware family:        imali         Number of samples:   21  \n",
      "Malware family:       bundlore       Number of samples:   20  \n",
      "Malware family:  downloadassistant   Number of samples:   18  \n",
      "Malware family:         chir         Number of samples:   18  \n",
      "Malware family:        picsys        Number of samples:   17  \n",
      "Malware family:       dlhelper       Number of samples:   16  \n",
      "Malware family:        yuner         Number of samples:   16  \n",
      "Malware family:        shipup        Number of samples:   14  \n",
      "Malware family:        berbew        Number of samples:   13  \n",
      "Malware family:       filetour       Number of samples:   11  \n",
      "\n",
      "\n",
      "         family  fam_num  selected    train     dev    test\n",
      "count     58180  58180.0   28582.0  20007.0  4288.0  4287.0\n",
      "unique     1270   1270.0       NaN      NaN     NaN     NaN\n",
      "top     allaple     42.0       NaN      NaN     NaN     NaN\n",
      "freq      10569  10569.0       NaN      NaN     NaN     NaN\n",
      "mean        NaN      NaN       1.0      1.0     1.0     1.0\n",
      "std         NaN      NaN       0.0      0.0     0.0     0.0\n",
      "min         NaN      NaN       1.0      1.0     1.0     1.0\n",
      "25%         NaN      NaN       1.0      1.0     1.0     1.0\n",
      "50%         NaN      NaN       1.0      1.0     1.0     1.0\n",
      "75%         NaN      NaN       1.0      1.0     1.0     1.0\n",
      "max         NaN      NaN       1.0      1.0     1.0     1.0\n"
     ]
    }
   ],
   "source": [
    "samples_data = pp_action.pre_process(config)\n",
    "pp_action.split_show_data(samples_data)"
   ]
  },
  {
   "cell_type": "code",
   "execution_count": 6,
   "metadata": {
    "collapsed": true
   },
   "outputs": [],
   "source": [
    "uuids = samples_data.index[samples_data['selected'] == 1].tolist()\n",
    "numerical_labels = samples_data.fam_num[samples_data['selected'] == 1].tolist()"
   ]
  },
  {
   "cell_type": "markdown",
   "metadata": {},
   "source": [
    "## Utilities\n",
    "\n",
    "let's define a few helper fucntions\n"
   ]
  },
  {
   "cell_type": "code",
   "execution_count": 7,
   "metadata": {
    "collapsed": true
   },
   "outputs": [],
   "source": [
    "def plot_surface(to_plot, a_x, a_y, title):\n",
    "    data = [go.Surface(x=a_x, y=a_y, z=to_plot)]\n",
    "    \n",
    "    layout = go.Layout(\n",
    "        title=title\n",
    "    )\n",
    "    \n",
    "    fig = go.Figure(data=data, layout=layout)\n",
    "    \n",
    "    ply.iplot(fig, filename=title)    "
   ]
  },
  {
   "cell_type": "code",
   "execution_count": 8,
   "metadata": {
    "collapsed": true
   },
   "outputs": [],
   "source": [
    "def plot_surfaces(to_plot_f, to_plot_s, to_plot_q, clusters, min_sample_params, min_cluster_sizes):\n",
    "    plot_surface(to_plot_f, min_sample_params, min_cluster_sizes, 'f1 scores')\n",
    "    plot_surface(to_plot_s, min_sample_params, min_cluster_sizes, 'silhouette scores')\n",
    "    plot_surface(to_plot_q, min_sample_params, min_cluster_sizes, 'quality')\n",
    "    plot_surface(clusters, min_sample_params, min_cluster_sizes, 'clusters')"
   ]
  },
  {
   "cell_type": "code",
   "execution_count": 17,
   "metadata": {
    "collapsed": true
   },
   "outputs": [],
   "source": [
    "def test_params(data_matrix, numerical_labels, config, min_sample_params, min_cluster_sizes):\n",
    "    to_plot_f = np.zeros((len(min_sample_params), len(min_cluster_sizes)))\n",
    "    to_plot_s = np.zeros((len(min_sample_params), len(min_cluster_sizes)))\n",
    "    to_plot_q = np.zeros((len(min_sample_params), len(min_cluster_sizes)))\n",
    "    clusters = np.zeros((len(min_sample_params), len(min_cluster_sizes)))\n",
    "\n",
    "    i = 0\n",
    "    for ms in min_sample_params:\n",
    "        j = 0\n",
    "        \n",
    "        for mc in min_cluster_sizes:\n",
    "\n",
    "            clustering_labels, model, modifier, data, metric = clu_hdbscan.cluster(\n",
    "                data_matrix,\n",
    "                numerical_labels,\n",
    "                config,\n",
    "                {\n",
    "                    'distance': 'c',\n",
    "                    'min_cluster_size': mc,\n",
    "                    'min_sample': ms\n",
    "                }\n",
    "            )\n",
    "            \n",
    "            n_clusters = len(set(clustering_labels)) - (1 if -1 in clustering_labels else 0)\n",
    "            if n_clusters < 2:\n",
    "                data = None\n",
    "            \n",
    "            results = evaluation.evaluate_clustering(numerical_labels, clustering_labels, data, metric, True)\n",
    "\n",
    "            to_plot_f[i][j] = results[7]\n",
    "            to_plot_s[i][j] = results[11] if data is not None else 0\n",
    "            to_plot_q[i][j] = results[10]\n",
    "            clusters[i][j] = n_clusters\n",
    "            j += 1\n",
    "\n",
    "        i += 1\n",
    "\n",
    "    return to_plot_f, to_plot_s, to_plot_q, clusters"
   ]
  },
  {
   "cell_type": "markdown",
   "metadata": {},
   "source": [
    "## Clustering\n",
    "\n",
    "Here we will use HDBSCAN, a hierarchical density-based clustering algorithm."
   ]
  },
  {
   "cell_type": "markdown",
   "metadata": {},
   "source": [
    "### 512 features\n",
    "Let's start by using the data matrix produced by using PCA for feature extraction."
   ]
  },
  {
   "cell_type": "code",
   "execution_count": 12,
   "metadata": {
    "collapsed": true
   },
   "outputs": [],
   "source": [
    "data_matrix_p = np.loadtxt('data/matrix/pca_512_28582.txt')"
   ]
  },
  {
   "cell_type": "code",
   "execution_count": 18,
   "metadata": {
    "collapsed": true,
    "scrolled": false
   },
   "outputs": [],
   "source": [
    "to_plot_f, to_plot_s, to_plot_q, clusters = test_params(data_matrix_p, numerical_labels, config, min_sample_params, min_cluster_sizes)"
   ]
  },
  {
   "cell_type": "code",
   "execution_count": null,
   "metadata": {
    "scrolled": false
   },
   "outputs": [],
   "source": [
    "plot_surfaces(to_plot_f, to_plot_s, to_plot_q, clusters, min_sample_params, min_cluster_sizes)"
   ]
  },
  {
   "cell_type": "markdown",
   "metadata": {},
   "source": [
    "Now let's see how it compares with the same algorithm applied to a data matrix obtained using Random Forest Classifiers for feature selection."
   ]
  },
  {
   "cell_type": "code",
   "execution_count": 20,
   "metadata": {
    "collapsed": true
   },
   "outputs": [],
   "source": [
    "data_matrix_r = np.loadtxt('data/matrix/rfc_512_28582.txt')"
   ]
  },
  {
   "cell_type": "code",
   "execution_count": 21,
   "metadata": {
    "collapsed": true
   },
   "outputs": [],
   "source": [
    "to_plot_f, to_plot_s, to_plot_q, clusters = test_params(data_matrix_r, numerical_labels, config, min_sample_params, min_cluster_sizes)"
   ]
  },
  {
   "cell_type": "code",
   "execution_count": null,
   "metadata": {
    "scrolled": false
   },
   "outputs": [],
   "source": [
    "plot_surfaces(to_plot_f, to_plot_s, to_plot_q, clusters, min_sample_params, min_cluster_sizes)"
   ]
  },
  {
   "cell_type": "markdown",
   "metadata": {},
   "source": [
    "### 1024 features\n"
   ]
  },
  {
   "cell_type": "code",
   "execution_count": 24,
   "metadata": {
    "collapsed": true
   },
   "outputs": [],
   "source": [
    "data_matrix_p = np.loadtxt('data/matrix/pca_1024_28582.txt')"
   ]
  },
  {
   "cell_type": "code",
   "execution_count": null,
   "metadata": {
    "collapsed": true,
    "scrolled": false
   },
   "outputs": [],
   "source": [
    "to_plot_f, to_plot_s, to_plot_q, clusters = test_params(data_matrix_p, numerical_labels, config, min_sample_params, min_cluster_sizes)"
   ]
  },
  {
   "cell_type": "code",
   "execution_count": 26,
   "metadata": {
    "scrolled": false
   },
   "outputs": [
    {
     "data": {
      "application/vnd.plotly.v1+json": {
       "data": [
        {
         "type": "surface",
         "x": [
          50,
          100,
          150,
          300
         ],
         "y": [
          50,
          100,
          150,
          300
         ],
         "z": [
          [
           0.5236956570250748,
           0.5550190581224703,
           0.5498566468886739,
           0.4891461673190854
          ],
          [
           0.5462175815543253,
           0.5456056995327033,
           0.5400009370694613,
           0.47475182112302905
          ],
          [
           0.5218579226048868,
           0.5211399804689479,
           0.5177312289759947,
           0.45752196599019
          ],
          [
           0.45518519411795466,
           0.45518519411795466,
           0.45518519411795466,
           0.4446213685566451
          ]
         ]
        }
       ],
       "layout": {
        "title": "f1 scores"
       }
      },
      "text/html": [
       "<div id=\"89197720-b28a-41ea-878c-952ae8a3f02c\" style=\"height: 525px; width: 100%;\" class=\"plotly-graph-div\"></div><script type=\"text/javascript\">require([\"plotly\"], function(Plotly) { window.PLOTLYENV=window.PLOTLYENV || {};window.PLOTLYENV.BASE_URL=\"https://plot.ly\";Plotly.newPlot(\"89197720-b28a-41ea-878c-952ae8a3f02c\", [{\"x\": [50, 100, 150, 300], \"y\": [50, 100, 150, 300], \"type\": \"surface\", \"z\": [[0.5236956570250748, 0.5550190581224703, 0.5498566468886739, 0.4891461673190854], [0.5462175815543253, 0.5456056995327033, 0.5400009370694613, 0.47475182112302905], [0.5218579226048868, 0.5211399804689479, 0.5177312289759947, 0.45752196599019], [0.45518519411795466, 0.45518519411795466, 0.45518519411795466, 0.4446213685566451]]}], {\"title\": \"f1 scores\"}, {\"showLink\": true, \"linkText\": \"Export to plot.ly\"})});</script>"
      ],
      "text/vnd.plotly.v1+html": [
       "<div id=\"89197720-b28a-41ea-878c-952ae8a3f02c\" style=\"height: 525px; width: 100%;\" class=\"plotly-graph-div\"></div><script type=\"text/javascript\">require([\"plotly\"], function(Plotly) { window.PLOTLYENV=window.PLOTLYENV || {};window.PLOTLYENV.BASE_URL=\"https://plot.ly\";Plotly.newPlot(\"89197720-b28a-41ea-878c-952ae8a3f02c\", [{\"x\": [50, 100, 150, 300], \"y\": [50, 100, 150, 300], \"type\": \"surface\", \"z\": [[0.5236956570250748, 0.5550190581224703, 0.5498566468886739, 0.4891461673190854], [0.5462175815543253, 0.5456056995327033, 0.5400009370694613, 0.47475182112302905], [0.5218579226048868, 0.5211399804689479, 0.5177312289759947, 0.45752196599019], [0.45518519411795466, 0.45518519411795466, 0.45518519411795466, 0.4446213685566451]]}], {\"title\": \"f1 scores\"}, {\"showLink\": true, \"linkText\": \"Export to plot.ly\"})});</script>"
      ]
     },
     "metadata": {},
     "output_type": "display_data"
    },
    {
     "data": {
      "application/vnd.plotly.v1+json": {
       "data": [
        {
         "type": "surface",
         "x": [
          50,
          100,
          150,
          300
         ],
         "y": [
          50,
          100,
          150,
          300
         ],
         "z": [
          [
           0.2883353689041972,
           0.2669357556767941,
           0.19346819190333484,
           0.2564704702945815
          ],
          [
           0.22331833373994514,
           0.2273918364943868,
           0.14528021385414142,
           0.23250138473214138
          ],
          [
           0.11153835716415582,
           0.10597159184129322,
           0.0993549075662473,
           0.20652621452302933
          ],
          [
           0.18302899126778888,
           0.18302899126778888,
           0.18302899126778888,
           0.18477511228449942
          ]
         ]
        }
       ],
       "layout": {
        "title": "silhouette scores"
       }
      },
      "text/html": [
       "<div id=\"2ba881df-1f63-4624-a327-175c8692737f\" style=\"height: 525px; width: 100%;\" class=\"plotly-graph-div\"></div><script type=\"text/javascript\">require([\"plotly\"], function(Plotly) { window.PLOTLYENV=window.PLOTLYENV || {};window.PLOTLYENV.BASE_URL=\"https://plot.ly\";Plotly.newPlot(\"2ba881df-1f63-4624-a327-175c8692737f\", [{\"x\": [50, 100, 150, 300], \"y\": [50, 100, 150, 300], \"type\": \"surface\", \"z\": [[0.2883353689041972, 0.2669357556767941, 0.19346819190333484, 0.2564704702945815], [0.22331833373994514, 0.2273918364943868, 0.14528021385414142, 0.23250138473214138], [0.11153835716415582, 0.10597159184129322, 0.0993549075662473, 0.20652621452302933], [0.18302899126778888, 0.18302899126778888, 0.18302899126778888, 0.18477511228449942]]}], {\"title\": \"silhouette scores\"}, {\"showLink\": true, \"linkText\": \"Export to plot.ly\"})});</script>"
      ],
      "text/vnd.plotly.v1+html": [
       "<div id=\"2ba881df-1f63-4624-a327-175c8692737f\" style=\"height: 525px; width: 100%;\" class=\"plotly-graph-div\"></div><script type=\"text/javascript\">require([\"plotly\"], function(Plotly) { window.PLOTLYENV=window.PLOTLYENV || {};window.PLOTLYENV.BASE_URL=\"https://plot.ly\";Plotly.newPlot(\"2ba881df-1f63-4624-a327-175c8692737f\", [{\"x\": [50, 100, 150, 300], \"y\": [50, 100, 150, 300], \"type\": \"surface\", \"z\": [[0.2883353689041972, 0.2669357556767941, 0.19346819190333484, 0.2564704702945815], [0.22331833373994514, 0.2273918364943868, 0.14528021385414142, 0.23250138473214138], [0.11153835716415582, 0.10597159184129322, 0.0993549075662473, 0.20652621452302933], [0.18302899126778888, 0.18302899126778888, 0.18302899126778888, 0.18477511228449942]]}], {\"title\": \"silhouette scores\"}, {\"showLink\": true, \"linkText\": \"Export to plot.ly\"})});</script>"
      ]
     },
     "metadata": {},
     "output_type": "display_data"
    },
    {
     "data": {
      "application/vnd.plotly.v1+json": {
       "data": [
        {
         "type": "surface",
         "x": [
          50,
          100,
          150,
          300
         ],
         "y": [
          50,
          100,
          150,
          300
         ],
         "z": [
          [
           0.3712856024252064,
           0.38600145732797775,
           0.37675490461783634,
           0.322544519699078
          ],
          [
           0.37255333293107973,
           0.3689992323021016,
           0.36079634091470403,
           0.31021782821330146
          ],
          [
           0.34266821748278375,
           0.3419821433965311,
           0.33831241117576083,
           0.30286478367289316
          ],
          [
           0.2975508545079521,
           0.2975508545079521,
           0.2975508545079521,
           0.29030689510460866
          ]
         ]
        }
       ],
       "layout": {
        "title": "quality"
       }
      },
      "text/html": [
       "<div id=\"7d8665cb-9a1e-41a7-8abb-f8c007cc8ac3\" style=\"height: 525px; width: 100%;\" class=\"plotly-graph-div\"></div><script type=\"text/javascript\">require([\"plotly\"], function(Plotly) { window.PLOTLYENV=window.PLOTLYENV || {};window.PLOTLYENV.BASE_URL=\"https://plot.ly\";Plotly.newPlot(\"7d8665cb-9a1e-41a7-8abb-f8c007cc8ac3\", [{\"x\": [50, 100, 150, 300], \"y\": [50, 100, 150, 300], \"type\": \"surface\", \"z\": [[0.3712856024252064, 0.38600145732797775, 0.37675490461783634, 0.322544519699078], [0.37255333293107973, 0.3689992323021016, 0.36079634091470403, 0.31021782821330146], [0.34266821748278375, 0.3419821433965311, 0.33831241117576083, 0.30286478367289316], [0.2975508545079521, 0.2975508545079521, 0.2975508545079521, 0.29030689510460866]]}], {\"title\": \"quality\"}, {\"showLink\": true, \"linkText\": \"Export to plot.ly\"})});</script>"
      ],
      "text/vnd.plotly.v1+html": [
       "<div id=\"7d8665cb-9a1e-41a7-8abb-f8c007cc8ac3\" style=\"height: 525px; width: 100%;\" class=\"plotly-graph-div\"></div><script type=\"text/javascript\">require([\"plotly\"], function(Plotly) { window.PLOTLYENV=window.PLOTLYENV || {};window.PLOTLYENV.BASE_URL=\"https://plot.ly\";Plotly.newPlot(\"7d8665cb-9a1e-41a7-8abb-f8c007cc8ac3\", [{\"x\": [50, 100, 150, 300], \"y\": [50, 100, 150, 300], \"type\": \"surface\", \"z\": [[0.3712856024252064, 0.38600145732797775, 0.37675490461783634, 0.322544519699078], [0.37255333293107973, 0.3689992323021016, 0.36079634091470403, 0.31021782821330146], [0.34266821748278375, 0.3419821433965311, 0.33831241117576083, 0.30286478367289316], [0.2975508545079521, 0.2975508545079521, 0.2975508545079521, 0.29030689510460866]]}], {\"title\": \"quality\"}, {\"showLink\": true, \"linkText\": \"Export to plot.ly\"})});</script>"
      ]
     },
     "metadata": {},
     "output_type": "display_data"
    },
    {
     "data": {
      "application/vnd.plotly.v1+json": {
       "data": [
        {
         "type": "surface",
         "x": [
          50,
          100,
          150,
          300
         ],
         "y": [
          50,
          100,
          150,
          300
         ],
         "z": [
          [
           107,
           68,
           50,
           24
          ],
          [
           66,
           62,
           43,
           23
          ],
          [
           45,
           42,
           39,
           19
          ],
          [
           19,
           19,
           19,
           17
          ]
         ]
        }
       ],
       "layout": {
        "title": "clusters"
       }
      },
      "text/html": [
       "<div id=\"9249f440-5e8a-4aff-b8c5-2200bbf77dfe\" style=\"height: 525px; width: 100%;\" class=\"plotly-graph-div\"></div><script type=\"text/javascript\">require([\"plotly\"], function(Plotly) { window.PLOTLYENV=window.PLOTLYENV || {};window.PLOTLYENV.BASE_URL=\"https://plot.ly\";Plotly.newPlot(\"9249f440-5e8a-4aff-b8c5-2200bbf77dfe\", [{\"x\": [50, 100, 150, 300], \"y\": [50, 100, 150, 300], \"type\": \"surface\", \"z\": [[107.0, 68.0, 50.0, 24.0], [66.0, 62.0, 43.0, 23.0], [45.0, 42.0, 39.0, 19.0], [19.0, 19.0, 19.0, 17.0]]}], {\"title\": \"clusters\"}, {\"showLink\": true, \"linkText\": \"Export to plot.ly\"})});</script>"
      ],
      "text/vnd.plotly.v1+html": [
       "<div id=\"9249f440-5e8a-4aff-b8c5-2200bbf77dfe\" style=\"height: 525px; width: 100%;\" class=\"plotly-graph-div\"></div><script type=\"text/javascript\">require([\"plotly\"], function(Plotly) { window.PLOTLYENV=window.PLOTLYENV || {};window.PLOTLYENV.BASE_URL=\"https://plot.ly\";Plotly.newPlot(\"9249f440-5e8a-4aff-b8c5-2200bbf77dfe\", [{\"x\": [50, 100, 150, 300], \"y\": [50, 100, 150, 300], \"type\": \"surface\", \"z\": [[107.0, 68.0, 50.0, 24.0], [66.0, 62.0, 43.0, 23.0], [45.0, 42.0, 39.0, 19.0], [19.0, 19.0, 19.0, 17.0]]}], {\"title\": \"clusters\"}, {\"showLink\": true, \"linkText\": \"Export to plot.ly\"})});</script>"
      ]
     },
     "metadata": {},
     "output_type": "display_data"
    }
   ],
   "source": [
    "plot_surfaces(to_plot_f, to_plot_s, to_plot_q, clusters, min_sample_params, min_cluster_sizes)"
   ]
  },
  {
   "cell_type": "markdown",
   "metadata": {},
   "source": [
    "Now let's see how it compares with the same algorithm applied to a data matrix obtained using Random Forest Classifiers for feature selection."
   ]
  },
  {
   "cell_type": "code",
   "execution_count": 27,
   "metadata": {
    "collapsed": true
   },
   "outputs": [],
   "source": [
    "data_matrix_r = np.loadtxt('data/matrix/rfc_1024_28582.txt')"
   ]
  },
  {
   "cell_type": "code",
   "execution_count": null,
   "metadata": {
    "collapsed": true
   },
   "outputs": [],
   "source": [
    "to_plot_f, to_plot_s, to_plot_q, clusters = test_params(data_matrix_r, numerical_labels, config, min_sample_params, min_cluster_sizes)"
   ]
  },
  {
   "cell_type": "code",
   "execution_count": 29,
   "metadata": {
    "scrolled": false
   },
   "outputs": [
    {
     "data": {
      "application/vnd.plotly.v1+json": {
       "data": [
        {
         "type": "surface",
         "x": [
          50,
          100,
          150,
          300
         ],
         "y": [
          50,
          100,
          150,
          300
         ],
         "z": [
          [
           0.6305776548853586,
           0.6484882391826857,
           0.625072468905118,
           0.605555538670417
          ],
          [
           0.6372442650594312,
           0.6465638689290376,
           0.6326291413228242,
           0.6078990434144094
          ],
          [
           0.6222855271716358,
           0.6353501685416704,
           0.6291360498594305,
           0.6025962642127182
          ],
          [
           0.5997041666219064,
           0.5987182499318302,
           0.5987182499318302,
           0.5917774608175347
          ]
         ]
        }
       ],
       "layout": {
        "title": "f1 scores"
       }
      },
      "text/html": [
       "<div id=\"02c1587b-389d-45e9-b991-d199d082080e\" style=\"height: 525px; width: 100%;\" class=\"plotly-graph-div\"></div><script type=\"text/javascript\">require([\"plotly\"], function(Plotly) { window.PLOTLYENV=window.PLOTLYENV || {};window.PLOTLYENV.BASE_URL=\"https://plot.ly\";Plotly.newPlot(\"02c1587b-389d-45e9-b991-d199d082080e\", [{\"x\": [50, 100, 150, 300], \"y\": [50, 100, 150, 300], \"type\": \"surface\", \"z\": [[0.6305776548853586, 0.6484882391826857, 0.625072468905118, 0.605555538670417], [0.6372442650594312, 0.6465638689290376, 0.6326291413228242, 0.6078990434144094], [0.6222855271716358, 0.6353501685416704, 0.6291360498594305, 0.6025962642127182], [0.5997041666219064, 0.5987182499318302, 0.5987182499318302, 0.5917774608175347]]}], {\"title\": \"f1 scores\"}, {\"showLink\": true, \"linkText\": \"Export to plot.ly\"})});</script>"
      ],
      "text/vnd.plotly.v1+html": [
       "<div id=\"02c1587b-389d-45e9-b991-d199d082080e\" style=\"height: 525px; width: 100%;\" class=\"plotly-graph-div\"></div><script type=\"text/javascript\">require([\"plotly\"], function(Plotly) { window.PLOTLYENV=window.PLOTLYENV || {};window.PLOTLYENV.BASE_URL=\"https://plot.ly\";Plotly.newPlot(\"02c1587b-389d-45e9-b991-d199d082080e\", [{\"x\": [50, 100, 150, 300], \"y\": [50, 100, 150, 300], \"type\": \"surface\", \"z\": [[0.6305776548853586, 0.6484882391826857, 0.625072468905118, 0.605555538670417], [0.6372442650594312, 0.6465638689290376, 0.6326291413228242, 0.6078990434144094], [0.6222855271716358, 0.6353501685416704, 0.6291360498594305, 0.6025962642127182], [0.5997041666219064, 0.5987182499318302, 0.5987182499318302, 0.5917774608175347]]}], {\"title\": \"f1 scores\"}, {\"showLink\": true, \"linkText\": \"Export to plot.ly\"})});</script>"
      ]
     },
     "metadata": {},
     "output_type": "display_data"
    },
    {
     "data": {
      "application/vnd.plotly.v1+json": {
       "data": [
        {
         "type": "surface",
         "x": [
          50,
          100,
          150,
          300
         ],
         "y": [
          50,
          100,
          150,
          300
         ],
         "z": [
          [
           0.38164867473431585,
           0.4031625195156756,
           0.3717221365998019,
           0.3787431375228743
          ],
          [
           0.3732057946489111,
           0.39818541205363867,
           0.3687268629247941,
           0.3718894631911638
          ],
          [
           0.33997762687359934,
           0.3671844209866846,
           0.37663183260943567,
           0.3563442319920864
          ],
          [
           0.3135829985720682,
           0.319924362561121,
           0.319924362561121,
           0.3245543777712475
          ]
         ]
        }
       ],
       "layout": {
        "title": "silhouette scores"
       }
      },
      "text/html": [
       "<div id=\"25c7790a-f3ad-43cb-b0db-f8f1f0eb35f9\" style=\"height: 525px; width: 100%;\" class=\"plotly-graph-div\"></div><script type=\"text/javascript\">require([\"plotly\"], function(Plotly) { window.PLOTLYENV=window.PLOTLYENV || {};window.PLOTLYENV.BASE_URL=\"https://plot.ly\";Plotly.newPlot(\"25c7790a-f3ad-43cb-b0db-f8f1f0eb35f9\", [{\"x\": [50, 100, 150, 300], \"y\": [50, 100, 150, 300], \"type\": \"surface\", \"z\": [[0.38164867473431585, 0.4031625195156756, 0.3717221365998019, 0.3787431375228743], [0.3732057946489111, 0.39818541205363867, 0.3687268629247941, 0.3718894631911638], [0.33997762687359934, 0.3671844209866846, 0.37663183260943567, 0.3563442319920864], [0.3135829985720682, 0.319924362561121, 0.319924362561121, 0.3245543777712475]]}], {\"title\": \"silhouette scores\"}, {\"showLink\": true, \"linkText\": \"Export to plot.ly\"})});</script>"
      ],
      "text/vnd.plotly.v1+html": [
       "<div id=\"25c7790a-f3ad-43cb-b0db-f8f1f0eb35f9\" style=\"height: 525px; width: 100%;\" class=\"plotly-graph-div\"></div><script type=\"text/javascript\">require([\"plotly\"], function(Plotly) { window.PLOTLYENV=window.PLOTLYENV || {};window.PLOTLYENV.BASE_URL=\"https://plot.ly\";Plotly.newPlot(\"25c7790a-f3ad-43cb-b0db-f8f1f0eb35f9\", [{\"x\": [50, 100, 150, 300], \"y\": [50, 100, 150, 300], \"type\": \"surface\", \"z\": [[0.38164867473431585, 0.4031625195156756, 0.3717221365998019, 0.3787431375228743], [0.3732057946489111, 0.39818541205363867, 0.3687268629247941, 0.3718894631911638], [0.33997762687359934, 0.3671844209866846, 0.37663183260943567, 0.3563442319920864], [0.3135829985720682, 0.319924362561121, 0.319924362561121, 0.3245543777712475]]}], {\"title\": \"silhouette scores\"}, {\"showLink\": true, \"linkText\": \"Export to plot.ly\"})});</script>"
      ]
     },
     "metadata": {},
     "output_type": "display_data"
    },
    {
     "data": {
      "application/vnd.plotly.v1+json": {
       "data": [
        {
         "type": "surface",
         "x": [
          50,
          100,
          150,
          300
         ],
         "y": [
          50,
          100,
          150,
          300
         ],
         "z": [
          [
           0.49044153589698997,
           0.5141920234597518,
           0.47951662177905796,
           0.4577413677980362
          ],
          [
           0.4915420465934147,
           0.5018411267391628,
           0.4800168894125226,
           0.4519887196701883
          ],
          [
           0.46277400138521413,
           0.47797666133560673,
           0.471429976478642,
           0.440711327684133
          ],
          [
           0.42960251670005745,
           0.4277551972693342,
           0.4277551972693342,
           0.4241819652751853
          ]
         ]
        }
       ],
       "layout": {
        "title": "quality"
       }
      },
      "text/html": [
       "<div id=\"c24a8f3c-0152-43ff-9151-1f6ef1aa8667\" style=\"height: 525px; width: 100%;\" class=\"plotly-graph-div\"></div><script type=\"text/javascript\">require([\"plotly\"], function(Plotly) { window.PLOTLYENV=window.PLOTLYENV || {};window.PLOTLYENV.BASE_URL=\"https://plot.ly\";Plotly.newPlot(\"c24a8f3c-0152-43ff-9151-1f6ef1aa8667\", [{\"x\": [50, 100, 150, 300], \"y\": [50, 100, 150, 300], \"type\": \"surface\", \"z\": [[0.49044153589698997, 0.5141920234597518, 0.47951662177905796, 0.4577413677980362], [0.4915420465934147, 0.5018411267391628, 0.4800168894125226, 0.4519887196701883], [0.46277400138521413, 0.47797666133560673, 0.471429976478642, 0.440711327684133], [0.42960251670005745, 0.4277551972693342, 0.4277551972693342, 0.4241819652751853]]}], {\"title\": \"quality\"}, {\"showLink\": true, \"linkText\": \"Export to plot.ly\"})});</script>"
      ],
      "text/vnd.plotly.v1+html": [
       "<div id=\"c24a8f3c-0152-43ff-9151-1f6ef1aa8667\" style=\"height: 525px; width: 100%;\" class=\"plotly-graph-div\"></div><script type=\"text/javascript\">require([\"plotly\"], function(Plotly) { window.PLOTLYENV=window.PLOTLYENV || {};window.PLOTLYENV.BASE_URL=\"https://plot.ly\";Plotly.newPlot(\"c24a8f3c-0152-43ff-9151-1f6ef1aa8667\", [{\"x\": [50, 100, 150, 300], \"y\": [50, 100, 150, 300], \"type\": \"surface\", \"z\": [[0.49044153589698997, 0.5141920234597518, 0.47951662177905796, 0.4577413677980362], [0.4915420465934147, 0.5018411267391628, 0.4800168894125226, 0.4519887196701883], [0.46277400138521413, 0.47797666133560673, 0.471429976478642, 0.440711327684133], [0.42960251670005745, 0.4277551972693342, 0.4277551972693342, 0.4241819652751853]]}], {\"title\": \"quality\"}, {\"showLink\": true, \"linkText\": \"Export to plot.ly\"})});</script>"
      ]
     },
     "metadata": {},
     "output_type": "display_data"
    },
    {
     "data": {
      "application/vnd.plotly.v1+json": {
       "data": [
        {
         "type": "surface",
         "x": [
          50,
          100,
          150,
          300
         ],
         "y": [
          50,
          100,
          150,
          300
         ],
         "z": [
          [
           80,
           59,
           47,
           29
          ],
          [
           59,
           54,
           43,
           29
          ],
          [
           44,
           41,
           40,
           28
          ],
          [
           28,
           26,
           26,
           24
          ]
         ]
        }
       ],
       "layout": {
        "title": "clusters"
       }
      },
      "text/html": [
       "<div id=\"f19334f1-710b-40f0-8bde-89bdfc09fc51\" style=\"height: 525px; width: 100%;\" class=\"plotly-graph-div\"></div><script type=\"text/javascript\">require([\"plotly\"], function(Plotly) { window.PLOTLYENV=window.PLOTLYENV || {};window.PLOTLYENV.BASE_URL=\"https://plot.ly\";Plotly.newPlot(\"f19334f1-710b-40f0-8bde-89bdfc09fc51\", [{\"x\": [50, 100, 150, 300], \"y\": [50, 100, 150, 300], \"type\": \"surface\", \"z\": [[80.0, 59.0, 47.0, 29.0], [59.0, 54.0, 43.0, 29.0], [44.0, 41.0, 40.0, 28.0], [28.0, 26.0, 26.0, 24.0]]}], {\"title\": \"clusters\"}, {\"showLink\": true, \"linkText\": \"Export to plot.ly\"})});</script>"
      ],
      "text/vnd.plotly.v1+html": [
       "<div id=\"f19334f1-710b-40f0-8bde-89bdfc09fc51\" style=\"height: 525px; width: 100%;\" class=\"plotly-graph-div\"></div><script type=\"text/javascript\">require([\"plotly\"], function(Plotly) { window.PLOTLYENV=window.PLOTLYENV || {};window.PLOTLYENV.BASE_URL=\"https://plot.ly\";Plotly.newPlot(\"f19334f1-710b-40f0-8bde-89bdfc09fc51\", [{\"x\": [50, 100, 150, 300], \"y\": [50, 100, 150, 300], \"type\": \"surface\", \"z\": [[80.0, 59.0, 47.0, 29.0], [59.0, 54.0, 43.0, 29.0], [44.0, 41.0, 40.0, 28.0], [28.0, 26.0, 26.0, 24.0]]}], {\"title\": \"clusters\"}, {\"showLink\": true, \"linkText\": \"Export to plot.ly\"})});</script>"
      ]
     },
     "metadata": {},
     "output_type": "display_data"
    }
   ],
   "source": [
    "plot_surfaces(to_plot_f, to_plot_s, to_plot_q, clusters, min_sample_params, min_cluster_sizes)"
   ]
  },
  {
   "cell_type": "markdown",
   "metadata": {},
   "source": [
    "### 2048 features"
   ]
  },
  {
   "cell_type": "code",
   "execution_count": 30,
   "metadata": {
    "collapsed": true
   },
   "outputs": [],
   "source": [
    "data_matrix_r = np.loadtxt('data/matrix/pca_2048_28582.txt')"
   ]
  },
  {
   "cell_type": "code",
   "execution_count": null,
   "metadata": {
    "collapsed": true
   },
   "outputs": [],
   "source": [
    "to_plot_f, to_plot_s, to_plot_q, clusters = test_params(data_matrix_r, numerical_labels, config, min_sample_params, min_cluster_sizes)"
   ]
  },
  {
   "cell_type": "code",
   "execution_count": 32,
   "metadata": {
    "scrolled": false
   },
   "outputs": [
    {
     "data": {
      "application/vnd.plotly.v1+json": {
       "data": [
        {
         "type": "surface",
         "x": [
          50,
          100,
          150,
          300
         ],
         "y": [
          50,
          100,
          150,
          300
         ],
         "z": [
          [
           0.5398551119658715,
           0.5499262448351417,
           0.5451709666753106,
           0.46266075017913705
          ],
          [
           0.5377713170272945,
           0.5384355076922422,
           0.5235455740293095,
           0.438971591115501
          ],
          [
           0.5147451423099796,
           0.5265537452847453,
           0.5249419153622075,
           0.4431832095985527
          ],
          [
           0.44482705549318186,
           0.44482705549318186,
           0.44482705549318186,
           0.4267432795474237
          ]
         ]
        }
       ],
       "layout": {
        "title": "f1 scores"
       }
      },
      "text/html": [
       "<div id=\"9b5c48ca-7237-4e29-9b68-3448ce0bc900\" style=\"height: 525px; width: 100%;\" class=\"plotly-graph-div\"></div><script type=\"text/javascript\">require([\"plotly\"], function(Plotly) { window.PLOTLYENV=window.PLOTLYENV || {};window.PLOTLYENV.BASE_URL=\"https://plot.ly\";Plotly.newPlot(\"9b5c48ca-7237-4e29-9b68-3448ce0bc900\", [{\"x\": [50, 100, 150, 300], \"y\": [50, 100, 150, 300], \"type\": \"surface\", \"z\": [[0.5398551119658715, 0.5499262448351417, 0.5451709666753106, 0.46266075017913705], [0.5377713170272945, 0.5384355076922422, 0.5235455740293095, 0.438971591115501], [0.5147451423099796, 0.5265537452847453, 0.5249419153622075, 0.4431832095985527], [0.44482705549318186, 0.44482705549318186, 0.44482705549318186, 0.4267432795474237]]}], {\"title\": \"f1 scores\"}, {\"showLink\": true, \"linkText\": \"Export to plot.ly\"})});</script>"
      ],
      "text/vnd.plotly.v1+html": [
       "<div id=\"9b5c48ca-7237-4e29-9b68-3448ce0bc900\" style=\"height: 525px; width: 100%;\" class=\"plotly-graph-div\"></div><script type=\"text/javascript\">require([\"plotly\"], function(Plotly) { window.PLOTLYENV=window.PLOTLYENV || {};window.PLOTLYENV.BASE_URL=\"https://plot.ly\";Plotly.newPlot(\"9b5c48ca-7237-4e29-9b68-3448ce0bc900\", [{\"x\": [50, 100, 150, 300], \"y\": [50, 100, 150, 300], \"type\": \"surface\", \"z\": [[0.5398551119658715, 0.5499262448351417, 0.5451709666753106, 0.46266075017913705], [0.5377713170272945, 0.5384355076922422, 0.5235455740293095, 0.438971591115501], [0.5147451423099796, 0.5265537452847453, 0.5249419153622075, 0.4431832095985527], [0.44482705549318186, 0.44482705549318186, 0.44482705549318186, 0.4267432795474237]]}], {\"title\": \"f1 scores\"}, {\"showLink\": true, \"linkText\": \"Export to plot.ly\"})});</script>"
      ]
     },
     "metadata": {},
     "output_type": "display_data"
    },
    {
     "data": {
      "application/vnd.plotly.v1+json": {
       "data": [
        {
         "type": "surface",
         "x": [
          50,
          100,
          150,
          300
         ],
         "y": [
          50,
          100,
          150,
          300
         ],
         "z": [
          [
           0.2681704379667499,
           0.24094291383100458,
           0.16629087829015377,
           0.1883650013736501
          ],
          [
           0.19299845700442628,
           0.18885401214676725,
           0.12175906362188926,
           0.16877310350362282
          ],
          [
           0.10259696276175151,
           0.11291569771509702,
           0.10893666149593197,
           0.1593214676630311
          ],
          [
           0.15596526379139924,
           0.15596526379139924,
           0.15596526379139924,
           0.14349816577828628
          ]
         ]
        }
       ],
       "layout": {
        "title": "silhouette scores"
       }
      },
      "text/html": [
       "<div id=\"0625dafa-38e0-46b0-97ba-b2ded60c1e1e\" style=\"height: 525px; width: 100%;\" class=\"plotly-graph-div\"></div><script type=\"text/javascript\">require([\"plotly\"], function(Plotly) { window.PLOTLYENV=window.PLOTLYENV || {};window.PLOTLYENV.BASE_URL=\"https://plot.ly\";Plotly.newPlot(\"0625dafa-38e0-46b0-97ba-b2ded60c1e1e\", [{\"x\": [50, 100, 150, 300], \"y\": [50, 100, 150, 300], \"type\": \"surface\", \"z\": [[0.2681704379667499, 0.24094291383100458, 0.16629087829015377, 0.1883650013736501], [0.19299845700442628, 0.18885401214676725, 0.12175906362188926, 0.16877310350362282], [0.10259696276175151, 0.11291569771509702, 0.10893666149593197, 0.1593214676630311], [0.15596526379139924, 0.15596526379139924, 0.15596526379139924, 0.14349816577828628]]}], {\"title\": \"silhouette scores\"}, {\"showLink\": true, \"linkText\": \"Export to plot.ly\"})});</script>"
      ],
      "text/vnd.plotly.v1+html": [
       "<div id=\"0625dafa-38e0-46b0-97ba-b2ded60c1e1e\" style=\"height: 525px; width: 100%;\" class=\"plotly-graph-div\"></div><script type=\"text/javascript\">require([\"plotly\"], function(Plotly) { window.PLOTLYENV=window.PLOTLYENV || {};window.PLOTLYENV.BASE_URL=\"https://plot.ly\";Plotly.newPlot(\"0625dafa-38e0-46b0-97ba-b2ded60c1e1e\", [{\"x\": [50, 100, 150, 300], \"y\": [50, 100, 150, 300], \"type\": \"surface\", \"z\": [[0.2681704379667499, 0.24094291383100458, 0.16629087829015377, 0.1883650013736501], [0.19299845700442628, 0.18885401214676725, 0.12175906362188926, 0.16877310350362282], [0.10259696276175151, 0.11291569771509702, 0.10893666149593197, 0.1593214676630311], [0.15596526379139924, 0.15596526379139924, 0.15596526379139924, 0.14349816577828628]]}], {\"title\": \"silhouette scores\"}, {\"showLink\": true, \"linkText\": \"Export to plot.ly\"})});</script>"
      ]
     },
     "metadata": {},
     "output_type": "display_data"
    },
    {
     "data": {
      "application/vnd.plotly.v1+json": {
       "data": [
        {
         "type": "surface",
         "x": [
          50,
          100,
          150,
          300
         ],
         "y": [
          50,
          100,
          150,
          300
         ],
         "z": [
          [
           0.38022177508407673,
           0.3781268973304033,
           0.3656710431177271,
           0.305893028207371
          ],
          [
           0.3638116859465797,
           0.36158421555461046,
           0.3445994522296851,
           0.29316883912423397
          ],
          [
           0.3357412286528227,
           0.34969672654887196,
           0.3476019479468127,
           0.291145245260723
          ],
          [
           0.2881698913799207,
           0.2881698913799207,
           0.2881698913799207,
           0.27569949860277254
          ]
         ]
        }
       ],
       "layout": {
        "title": "quality"
       }
      },
      "text/html": [
       "<div id=\"b76fd2cc-2c49-47b5-8733-ae402481f8b5\" style=\"height: 525px; width: 100%;\" class=\"plotly-graph-div\"></div><script type=\"text/javascript\">require([\"plotly\"], function(Plotly) { window.PLOTLYENV=window.PLOTLYENV || {};window.PLOTLYENV.BASE_URL=\"https://plot.ly\";Plotly.newPlot(\"b76fd2cc-2c49-47b5-8733-ae402481f8b5\", [{\"x\": [50, 100, 150, 300], \"y\": [50, 100, 150, 300], \"type\": \"surface\", \"z\": [[0.38022177508407673, 0.3781268973304033, 0.3656710431177271, 0.305893028207371], [0.3638116859465797, 0.36158421555461046, 0.3445994522296851, 0.29316883912423397], [0.3357412286528227, 0.34969672654887196, 0.3476019479468127, 0.291145245260723], [0.2881698913799207, 0.2881698913799207, 0.2881698913799207, 0.27569949860277254]]}], {\"title\": \"quality\"}, {\"showLink\": true, \"linkText\": \"Export to plot.ly\"})});</script>"
      ],
      "text/vnd.plotly.v1+html": [
       "<div id=\"b76fd2cc-2c49-47b5-8733-ae402481f8b5\" style=\"height: 525px; width: 100%;\" class=\"plotly-graph-div\"></div><script type=\"text/javascript\">require([\"plotly\"], function(Plotly) { window.PLOTLYENV=window.PLOTLYENV || {};window.PLOTLYENV.BASE_URL=\"https://plot.ly\";Plotly.newPlot(\"b76fd2cc-2c49-47b5-8733-ae402481f8b5\", [{\"x\": [50, 100, 150, 300], \"y\": [50, 100, 150, 300], \"type\": \"surface\", \"z\": [[0.38022177508407673, 0.3781268973304033, 0.3656710431177271, 0.305893028207371], [0.3638116859465797, 0.36158421555461046, 0.3445994522296851, 0.29316883912423397], [0.3357412286528227, 0.34969672654887196, 0.3476019479468127, 0.291145245260723], [0.2881698913799207, 0.2881698913799207, 0.2881698913799207, 0.27569949860277254]]}], {\"title\": \"quality\"}, {\"showLink\": true, \"linkText\": \"Export to plot.ly\"})});</script>"
      ]
     },
     "metadata": {},
     "output_type": "display_data"
    },
    {
     "data": {
      "application/vnd.plotly.v1+json": {
       "data": [
        {
         "type": "surface",
         "x": [
          50,
          100,
          150,
          300
         ],
         "y": [
          50,
          100,
          150,
          300
         ],
         "z": [
          [
           93,
           68,
           47,
           21
          ],
          [
           67,
           59,
           43,
           17
          ],
          [
           43,
           41,
           39,
           17
          ],
          [
           19,
           19,
           19,
           15
          ]
         ]
        }
       ],
       "layout": {
        "title": "clusters"
       }
      },
      "text/html": [
       "<div id=\"2f590fc2-4e42-440f-af18-1dff548483c2\" style=\"height: 525px; width: 100%;\" class=\"plotly-graph-div\"></div><script type=\"text/javascript\">require([\"plotly\"], function(Plotly) { window.PLOTLYENV=window.PLOTLYENV || {};window.PLOTLYENV.BASE_URL=\"https://plot.ly\";Plotly.newPlot(\"2f590fc2-4e42-440f-af18-1dff548483c2\", [{\"x\": [50, 100, 150, 300], \"y\": [50, 100, 150, 300], \"type\": \"surface\", \"z\": [[93.0, 68.0, 47.0, 21.0], [67.0, 59.0, 43.0, 17.0], [43.0, 41.0, 39.0, 17.0], [19.0, 19.0, 19.0, 15.0]]}], {\"title\": \"clusters\"}, {\"showLink\": true, \"linkText\": \"Export to plot.ly\"})});</script>"
      ],
      "text/vnd.plotly.v1+html": [
       "<div id=\"2f590fc2-4e42-440f-af18-1dff548483c2\" style=\"height: 525px; width: 100%;\" class=\"plotly-graph-div\"></div><script type=\"text/javascript\">require([\"plotly\"], function(Plotly) { window.PLOTLYENV=window.PLOTLYENV || {};window.PLOTLYENV.BASE_URL=\"https://plot.ly\";Plotly.newPlot(\"2f590fc2-4e42-440f-af18-1dff548483c2\", [{\"x\": [50, 100, 150, 300], \"y\": [50, 100, 150, 300], \"type\": \"surface\", \"z\": [[93.0, 68.0, 47.0, 21.0], [67.0, 59.0, 43.0, 17.0], [43.0, 41.0, 39.0, 17.0], [19.0, 19.0, 19.0, 15.0]]}], {\"title\": \"clusters\"}, {\"showLink\": true, \"linkText\": \"Export to plot.ly\"})});</script>"
      ]
     },
     "metadata": {},
     "output_type": "display_data"
    }
   ],
   "source": [
    "plot_surfaces(to_plot_f, to_plot_s, to_plot_q, clusters, min_sample_params, min_cluster_sizes)"
   ]
  },
  {
   "cell_type": "code",
   "execution_count": null,
   "metadata": {
    "collapsed": true
   },
   "outputs": [],
   "source": []
  },
  {
   "cell_type": "code",
   "execution_count": 33,
   "metadata": {
    "collapsed": true
   },
   "outputs": [],
   "source": [
    "data_matrix_r = np.loadtxt('data/matrix/rfc_2048_28582.txt')"
   ]
  },
  {
   "cell_type": "code",
   "execution_count": 34,
   "metadata": {
    "collapsed": true
   },
   "outputs": [],
   "source": [
    "to_plot_f, to_plot_s, to_plot_q, clusters = test_params(data_matrix_r, numerical_labels, config, min_sample_params, min_cluster_sizes)"
   ]
  },
  {
   "cell_type": "code",
   "execution_count": 35,
   "metadata": {
    "scrolled": false
   },
   "outputs": [
    {
     "data": {
      "application/vnd.plotly.v1+json": {
       "data": [
        {
         "type": "surface",
         "x": [
          50,
          100,
          150,
          300
         ],
         "y": [
          50,
          100,
          150,
          300
         ],
         "z": [
          [
           0.641671199802279,
           0.646671222361317,
           0.636623701854783,
           0.5932001626183451
          ],
          [
           0.6369799192187516,
           0.6476845427750703,
           0.6483847645175577,
           0.6024819172318125
          ],
          [
           0.6380791860848062,
           0.6400797319843186,
           0.6383974440291548,
           0.6027379372424334
          ],
          [
           0.6114825339312848,
           0.6114825339312848,
           0.6104956698400215,
           0.6056876464023094
          ]
         ]
        }
       ],
       "layout": {
        "title": "f1 scores"
       }
      },
      "text/html": [
       "<div id=\"559aa16f-1b2f-4e69-9320-22dce44b77ec\" style=\"height: 525px; width: 100%;\" class=\"plotly-graph-div\"></div><script type=\"text/javascript\">require([\"plotly\"], function(Plotly) { window.PLOTLYENV=window.PLOTLYENV || {};window.PLOTLYENV.BASE_URL=\"https://plot.ly\";Plotly.newPlot(\"559aa16f-1b2f-4e69-9320-22dce44b77ec\", [{\"x\": [50, 100, 150, 300], \"y\": [50, 100, 150, 300], \"type\": \"surface\", \"z\": [[0.641671199802279, 0.646671222361317, 0.636623701854783, 0.5932001626183451], [0.6369799192187516, 0.6476845427750703, 0.6483847645175577, 0.6024819172318125], [0.6380791860848062, 0.6400797319843186, 0.6383974440291548, 0.6027379372424334], [0.6114825339312848, 0.6114825339312848, 0.6104956698400215, 0.6056876464023094]]}], {\"title\": \"f1 scores\"}, {\"showLink\": true, \"linkText\": \"Export to plot.ly\"})});</script>"
      ],
      "text/vnd.plotly.v1+html": [
       "<div id=\"559aa16f-1b2f-4e69-9320-22dce44b77ec\" style=\"height: 525px; width: 100%;\" class=\"plotly-graph-div\"></div><script type=\"text/javascript\">require([\"plotly\"], function(Plotly) { window.PLOTLYENV=window.PLOTLYENV || {};window.PLOTLYENV.BASE_URL=\"https://plot.ly\";Plotly.newPlot(\"559aa16f-1b2f-4e69-9320-22dce44b77ec\", [{\"x\": [50, 100, 150, 300], \"y\": [50, 100, 150, 300], \"type\": \"surface\", \"z\": [[0.641671199802279, 0.646671222361317, 0.636623701854783, 0.5932001626183451], [0.6369799192187516, 0.6476845427750703, 0.6483847645175577, 0.6024819172318125], [0.6380791860848062, 0.6400797319843186, 0.6383974440291548, 0.6027379372424334], [0.6114825339312848, 0.6114825339312848, 0.6104956698400215, 0.6056876464023094]]}], {\"title\": \"f1 scores\"}, {\"showLink\": true, \"linkText\": \"Export to plot.ly\"})});</script>"
      ]
     },
     "metadata": {},
     "output_type": "display_data"
    },
    {
     "data": {
      "application/vnd.plotly.v1+json": {
       "data": [
        {
         "type": "surface",
         "x": [
          50,
          100,
          150,
          300
         ],
         "y": [
          50,
          100,
          150,
          300
         ],
         "z": [
          [
           0.4181460532880942,
           0.4064400500501583,
           0.3779273818952689,
           0.3683157264536523
          ],
          [
           0.3845058399383094,
           0.4117469773972217,
           0.39254215652548463,
           0.368351325069289
          ],
          [
           0.3723090615876808,
           0.37049101256708705,
           0.36999477650367163,
           0.3675138339808473
          ],
          [
           0.32498590375244385,
           0.32498590375244385,
           0.32668064339359265,
           0.3343287207852045
          ]
         ]
        }
       ],
       "layout": {
        "title": "silhouette scores"
       }
      },
      "text/html": [
       "<div id=\"883ceb1a-938e-4c69-bacf-eae10193802d\" style=\"height: 525px; width: 100%;\" class=\"plotly-graph-div\"></div><script type=\"text/javascript\">require([\"plotly\"], function(Plotly) { window.PLOTLYENV=window.PLOTLYENV || {};window.PLOTLYENV.BASE_URL=\"https://plot.ly\";Plotly.newPlot(\"883ceb1a-938e-4c69-bacf-eae10193802d\", [{\"x\": [50, 100, 150, 300], \"y\": [50, 100, 150, 300], \"type\": \"surface\", \"z\": [[0.4181460532880942, 0.4064400500501583, 0.3779273818952689, 0.3683157264536523], [0.3845058399383094, 0.4117469773972217, 0.39254215652548463, 0.368351325069289], [0.3723090615876808, 0.37049101256708705, 0.36999477650367163, 0.3675138339808473], [0.32498590375244385, 0.32498590375244385, 0.32668064339359265, 0.3343287207852045]]}], {\"title\": \"silhouette scores\"}, {\"showLink\": true, \"linkText\": \"Export to plot.ly\"})});</script>"
      ],
      "text/vnd.plotly.v1+html": [
       "<div id=\"883ceb1a-938e-4c69-bacf-eae10193802d\" style=\"height: 525px; width: 100%;\" class=\"plotly-graph-div\"></div><script type=\"text/javascript\">require([\"plotly\"], function(Plotly) { window.PLOTLYENV=window.PLOTLYENV || {};window.PLOTLYENV.BASE_URL=\"https://plot.ly\";Plotly.newPlot(\"883ceb1a-938e-4c69-bacf-eae10193802d\", [{\"x\": [50, 100, 150, 300], \"y\": [50, 100, 150, 300], \"type\": \"surface\", \"z\": [[0.4181460532880942, 0.4064400500501583, 0.3779273818952689, 0.3683157264536523], [0.3845058399383094, 0.4117469773972217, 0.39254215652548463, 0.368351325069289], [0.3723090615876808, 0.37049101256708705, 0.36999477650367163, 0.3675138339808473], [0.32498590375244385, 0.32498590375244385, 0.32668064339359265, 0.3343287207852045]]}], {\"title\": \"silhouette scores\"}, {\"showLink\": true, \"linkText\": \"Export to plot.ly\"})});</script>"
      ]
     },
     "metadata": {},
     "output_type": "display_data"
    },
    {
     "data": {
      "application/vnd.plotly.v1+json": {
       "data": [
        {
         "type": "surface",
         "x": [
          50,
          100,
          150,
          300
         ],
         "y": [
          50,
          100,
          150,
          300
         ],
         "z": [
          [
           0.5164669323907078,
           0.509039183841493,
           0.4880176571740739,
           0.44235417934899457
          ],
          [
           0.49229343221518984,
           0.5042561748479422,
           0.4989762240843325,
           0.4474636150420999
          ],
          [
           0.48399458899528425,
           0.48453205194911975,
           0.47951652262744376,
           0.4439043511846177
          ],
          [
           0.44547969773750357,
           0.44547969773750357,
           0.4428059043106818,
           0.4360537748608412
          ]
         ]
        }
       ],
       "layout": {
        "title": "quality"
       }
      },
      "text/html": [
       "<div id=\"a8bd091d-1292-4887-a214-1c1186ed7ec4\" style=\"height: 525px; width: 100%;\" class=\"plotly-graph-div\"></div><script type=\"text/javascript\">require([\"plotly\"], function(Plotly) { window.PLOTLYENV=window.PLOTLYENV || {};window.PLOTLYENV.BASE_URL=\"https://plot.ly\";Plotly.newPlot(\"a8bd091d-1292-4887-a214-1c1186ed7ec4\", [{\"x\": [50, 100, 150, 300], \"y\": [50, 100, 150, 300], \"type\": \"surface\", \"z\": [[0.5164669323907078, 0.509039183841493, 0.4880176571740739, 0.44235417934899457], [0.49229343221518984, 0.5042561748479422, 0.4989762240843325, 0.4474636150420999], [0.48399458899528425, 0.48453205194911975, 0.47951652262744376, 0.4439043511846177], [0.44547969773750357, 0.44547969773750357, 0.4428059043106818, 0.4360537748608412]]}], {\"title\": \"quality\"}, {\"showLink\": true, \"linkText\": \"Export to plot.ly\"})});</script>"
      ],
      "text/vnd.plotly.v1+html": [
       "<div id=\"a8bd091d-1292-4887-a214-1c1186ed7ec4\" style=\"height: 525px; width: 100%;\" class=\"plotly-graph-div\"></div><script type=\"text/javascript\">require([\"plotly\"], function(Plotly) { window.PLOTLYENV=window.PLOTLYENV || {};window.PLOTLYENV.BASE_URL=\"https://plot.ly\";Plotly.newPlot(\"a8bd091d-1292-4887-a214-1c1186ed7ec4\", [{\"x\": [50, 100, 150, 300], \"y\": [50, 100, 150, 300], \"type\": \"surface\", \"z\": [[0.5164669323907078, 0.509039183841493, 0.4880176571740739, 0.44235417934899457], [0.49229343221518984, 0.5042561748479422, 0.4989762240843325, 0.4474636150420999], [0.48399458899528425, 0.48453205194911975, 0.47951652262744376, 0.4439043511846177], [0.44547969773750357, 0.44547969773750357, 0.4428059043106818, 0.4360537748608412]]}], {\"title\": \"quality\"}, {\"showLink\": true, \"linkText\": \"Export to plot.ly\"})});</script>"
      ]
     },
     "metadata": {},
     "output_type": "display_data"
    },
    {
     "data": {
      "application/vnd.plotly.v1+json": {
       "data": [
        {
         "type": "surface",
         "x": [
          50,
          100,
          150,
          300
         ],
         "y": [
          50,
          100,
          150,
          300
         ],
         "z": [
          [
           89,
           65,
           51,
           29
          ],
          [
           65,
           61,
           48,
           30
          ],
          [
           49,
           46,
           43,
           30
          ],
          [
           30,
           30,
           28,
           25
          ]
         ]
        }
       ],
       "layout": {
        "title": "clusters"
       }
      },
      "text/html": [
       "<div id=\"9ef0cf34-a4fe-4f7c-a098-63dc2f9c6058\" style=\"height: 525px; width: 100%;\" class=\"plotly-graph-div\"></div><script type=\"text/javascript\">require([\"plotly\"], function(Plotly) { window.PLOTLYENV=window.PLOTLYENV || {};window.PLOTLYENV.BASE_URL=\"https://plot.ly\";Plotly.newPlot(\"9ef0cf34-a4fe-4f7c-a098-63dc2f9c6058\", [{\"x\": [50, 100, 150, 300], \"y\": [50, 100, 150, 300], \"type\": \"surface\", \"z\": [[89.0, 65.0, 51.0, 29.0], [65.0, 61.0, 48.0, 30.0], [49.0, 46.0, 43.0, 30.0], [30.0, 30.0, 28.0, 25.0]]}], {\"title\": \"clusters\"}, {\"showLink\": true, \"linkText\": \"Export to plot.ly\"})});</script>"
      ],
      "text/vnd.plotly.v1+html": [
       "<div id=\"9ef0cf34-a4fe-4f7c-a098-63dc2f9c6058\" style=\"height: 525px; width: 100%;\" class=\"plotly-graph-div\"></div><script type=\"text/javascript\">require([\"plotly\"], function(Plotly) { window.PLOTLYENV=window.PLOTLYENV || {};window.PLOTLYENV.BASE_URL=\"https://plot.ly\";Plotly.newPlot(\"9ef0cf34-a4fe-4f7c-a098-63dc2f9c6058\", [{\"x\": [50, 100, 150, 300], \"y\": [50, 100, 150, 300], \"type\": \"surface\", \"z\": [[89.0, 65.0, 51.0, 29.0], [65.0, 61.0, 48.0, 30.0], [49.0, 46.0, 43.0, 30.0], [30.0, 30.0, 28.0, 25.0]]}], {\"title\": \"clusters\"}, {\"showLink\": true, \"linkText\": \"Export to plot.ly\"})});</script>"
      ]
     },
     "metadata": {},
     "output_type": "display_data"
    }
   ],
   "source": [
    "plot_surfaces(to_plot_f, to_plot_s, to_plot_q, clusters, min_sample_params, min_cluster_sizes)"
   ]
  },
  {
   "cell_type": "code",
   "execution_count": null,
   "metadata": {
    "collapsed": true
   },
   "outputs": [],
   "source": []
  }
 ],
 "metadata": {
  "kernelspec": {
   "display_name": "Python 3",
   "language": "python",
   "name": "python3"
  },
  "language_info": {
   "codemirror_mode": {
    "name": "ipython",
    "version": 3
   },
   "file_extension": ".py",
   "mimetype": "text/x-python",
   "name": "python",
   "nbconvert_exporter": "python",
   "pygments_lexer": "ipython3",
   "version": "3.5.3"
  }
 },
 "nbformat": 4,
 "nbformat_minor": 2
}
