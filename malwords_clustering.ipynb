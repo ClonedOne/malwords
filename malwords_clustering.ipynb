{
 "cells": [
  {
   "cell_type": "markdown",
   "metadata": {},
   "source": [
    "# HDBSCAN clustering result analysis\n",
    "\n",
    "Let's start by loading up some libraries and static data that may be useful in the next steps."
   ]
  },
  {
   "cell_type": "code",
   "execution_count": 1,
   "metadata": {},
   "outputs": [],
   "source": [
    "%load_ext autoreload\n",
    "%autoreload 2"
   ]
  },
  {
   "cell_type": "code",
   "execution_count": 2,
   "metadata": {},
   "outputs": [],
   "source": [
    "from visualization import vis_data, vis_cluster\n",
    "from collections import defaultdict, Counter\n",
    "from utilities import constants, evaluation\n",
    "from preprocessing import pp_action\n",
    "from clustering import clu_hdbscan\n",
    "import plotly.graph_objs as go\n",
    "import plotly.offline as ply\n",
    "import pandas as pd\n",
    "import numpy as np\n",
    "import json\n",
    "import os"
   ]
  },
  {
   "cell_type": "code",
   "execution_count": 3,
   "metadata": {},
   "outputs": [
    {
     "data": {
      "text/html": [
       "<script>requirejs.config({paths: { 'plotly': ['https://cdn.plot.ly/plotly-latest.min']},});if(!window.Plotly) {{require(['plotly'],function(plotly) {window.Plotly=plotly;});}}</script>"
      ],
      "text/vnd.plotly.v1+html": [
       "<script>requirejs.config({paths: { 'plotly': ['https://cdn.plot.ly/plotly-latest.min']},});if(!window.Plotly) {{require(['plotly'],function(plotly) {window.Plotly=plotly;});}}</script>"
      ]
     },
     "metadata": {},
     "output_type": "display_data"
    }
   ],
   "source": [
    "config = json.load(open('config.json', 'r'))\n",
    "uuids_family = json.load(open(os.path.join(constants.dir_d, constants.json_labels), 'r'))\n",
    "words = json.load(open(os.path.join(constants.dir_d, constants.json_words), 'r'))\n",
    "ply.init_notebook_mode(connected=True)"
   ]
  },
  {
   "cell_type": "code",
   "execution_count": 4,
   "metadata": {},
   "outputs": [],
   "source": [
    "min_sample_params = [50, 100, 150]\n",
    "min_cluster_sizes = [50, 100, 150]"
   ]
  },
  {
   "cell_type": "markdown",
   "metadata": {},
   "source": [
    "## Data selection\n",
    "\n",
    "Select a subset of the original dataset. Then the selected subset will be split into a training and a testing set.\n"
   ]
  },
  {
   "cell_type": "code",
   "execution_count": 5,
   "metadata": {
    "scrolled": true
   },
   "outputs": [
    {
     "name": "stdout",
     "output_type": "stream",
     "text": [
      "Please choose the subset of data to workon on:\n",
      "l for all labeled samples\n",
      "k for samples of families mydoom, gepys, lamer, neshta, bladabindi, flystudio, eorezo\n",
      "s for a small balanced subset\n",
      "f for a single family\n",
      "b for a balanced subset of samples\n",
      "q to quit\n",
      "b\n",
      "\n",
      "Would you like to compute the Jensen-Shannon distance matrix for the chosen data? [y/n]\n",
      "n\n",
      "\n",
      "20007 train samples belonging to 65 malware families\n",
      "Malware family:      multiplug       Number of samples:  748  \n",
      "Malware family:     installcore      Number of samples:  724  \n",
      "Malware family:       firseria       Number of samples:  720  \n",
      "Malware family:      outbrowse       Number of samples:  712  \n",
      "Malware family:       virlock        Number of samples:  707  \n",
      "Malware family:      loadmoney       Number of samples:  706  \n",
      "Malware family:        sality        Number of samples:  703  \n",
      "Malware family:      browsefox       Number of samples:  701  \n",
      "Malware family:       allaple        Number of samples:  698  \n",
      "Malware family:         mira         Number of samples:  695  \n",
      "Malware family:      softpulse       Number of samples:  694  \n",
      "Malware family:        vobfus        Number of samples:  692  \n",
      "Malware family:        sytro         Number of samples:  685  \n",
      "Malware family:        parite        Number of samples:  679  \n",
      "Malware family:        upatre        Number of samples:  678  \n",
      "Malware family:        virut         Number of samples:  677  \n",
      "Malware family:         klez         Number of samples:  541  \n",
      "Malware family:        dinwod        Number of samples:  517  \n",
      "Malware family:      vtflooder       Number of samples:  413  \n",
      "Malware family:        expiro        Number of samples:  375  \n",
      "Malware family:       icloader       Number of samples:  310  \n",
      "Malware family:        wapomi        Number of samples:  301  \n",
      "Malware family:        ramnit        Number of samples:  299  \n",
      "Malware family:        ircbot        Number of samples:  271  \n",
      "Malware family:    installmonster    Number of samples:  256  \n",
      "Malware family:         zbot         Number of samples:  254  \n",
      "Malware family:        autoit        Number of samples:  248  \n",
      "Malware family:        domaiq        Number of samples:  243  \n",
      "Malware family:        ipamor        Number of samples:  242  \n",
      "Malware family:    downloadguide     Number of samples:  236  \n",
      "Malware family:     installerex      Number of samples:  225  \n",
      "Malware family:      bladabindi      Number of samples:  187  \n",
      "Malware family:         delf         Number of samples:  184  \n",
      "Malware family:        ibryte        Number of samples:  182  \n",
      "Malware family:        eorezo        Number of samples:  174  \n",
      "Malware family:        neshta        Number of samples:  162  \n",
      "Malware family:        vilsel        Number of samples:  161  \n",
      "Malware family:      crossrider      Number of samples:  155  \n",
      "Malware family:         zusy         Number of samples:  148  \n",
      "Malware family:      amonetize       Number of samples:  147  \n",
      "Malware family:        cosmu         Number of samples:  138  \n",
      "Malware family:        loring        Number of samples:  133  \n",
      "Malware family:     airinstaller     Number of samples:  131  \n",
      "Malware family:    downloadadmin     Number of samples:  128  \n",
      "Malware family:        urelas        Number of samples:  123  \n",
      "Malware family:      convertad       Number of samples:  121  \n",
      "Malware family:        simbot        Number of samples:  115  \n",
      "Malware family:        yuner         Number of samples:  113  \n",
      "Malware family:  downloadassistant   Number of samples:  110  \n",
      "Malware family:        imali         Number of samples:  107  \n",
      "Malware family:       dealply        Number of samples:  106  \n",
      "Malware family:       gamarue        Number of samples:  105  \n",
      "Malware family:        mydoom        Number of samples:  104  \n",
      "Malware family:        lydra         Number of samples:  104  \n",
      "Malware family:        memery        Number of samples:   99  \n",
      "Malware family:      softcnapp       Number of samples:   97  \n",
      "Malware family:       dlhelper       Number of samples:   95  \n",
      "Malware family:        picsys        Number of samples:   93  \n",
      "Malware family:        lamer         Number of samples:   87  \n",
      "Malware family:        berbew        Number of samples:   84  \n",
      "Malware family:       bundlore       Number of samples:   77  \n",
      "Malware family:       filetour       Number of samples:   76  \n",
      "Malware family:        shipup        Number of samples:   75  \n",
      "Malware family:        hotbar        Number of samples:   72  \n",
      "Malware family:         chir         Number of samples:   64  \n",
      "\n",
      "4288 dev samples belonging to 65 malware families\n",
      "Malware family:        vobfus        Number of samples:  171  \n",
      "Malware family:        upatre        Number of samples:  169  \n",
      "Malware family:        virut         Number of samples:  166  \n",
      "Malware family:         mira         Number of samples:  163  \n",
      "Malware family:        sytro         Number of samples:  162  \n",
      "Malware family:        sality        Number of samples:  154  \n",
      "Malware family:       virlock        Number of samples:  152  \n",
      "Malware family:       allaple        Number of samples:  148  \n",
      "Malware family:        parite        Number of samples:  147  \n",
      "Malware family:      softpulse       Number of samples:  146  \n",
      "Malware family:       firseria       Number of samples:  143  \n",
      "Malware family:      browsefox       Number of samples:  141  \n",
      "Malware family:      outbrowse       Number of samples:  132  \n",
      "Malware family:      loadmoney       Number of samples:  129  \n",
      "Malware family:      multiplug       Number of samples:  128  \n",
      "Malware family:     installcore      Number of samples:  115  \n",
      "Malware family:         klez         Number of samples:  111  \n",
      "Malware family:        dinwod        Number of samples:  111  \n",
      "Malware family:        expiro        Number of samples:   90  \n",
      "Malware family:        ramnit        Number of samples:   78  \n",
      "Malware family:        wapomi        Number of samples:   77  \n",
      "Malware family:      vtflooder       Number of samples:   76  \n",
      "Malware family:        ircbot        Number of samples:   67  \n",
      "Malware family:       icloader       Number of samples:   63  \n",
      "Malware family:         zbot         Number of samples:   59  \n",
      "Malware family:        ipamor        Number of samples:   57  \n",
      "Malware family:    installmonster    Number of samples:   55  \n",
      "Malware family:        autoit        Number of samples:   55  \n",
      "Malware family:     installerex      Number of samples:   53  \n",
      "Malware family:        eorezo        Number of samples:   51  \n",
      "Malware family:    downloadguide     Number of samples:   48  \n",
      "Malware family:        ibryte        Number of samples:   45  \n",
      "Malware family:        domaiq        Number of samples:   44  \n",
      "Malware family:      bladabindi      Number of samples:   40  \n",
      "Malware family:        loring        Number of samples:   39  \n",
      "Malware family:        simbot        Number of samples:   39  \n",
      "Malware family:         delf         Number of samples:   34  \n",
      "Malware family:        vilsel        Number of samples:   33  \n",
      "Malware family:         zusy         Number of samples:   32  \n",
      "Malware family:      softcnapp       Number of samples:   31  \n",
      "Malware family:      crossrider      Number of samples:   30  \n",
      "Malware family:      amonetize       Number of samples:   30  \n",
      "Malware family:    downloadadmin     Number of samples:   29  \n",
      "Malware family:        cosmu         Number of samples:   28  \n",
      "Malware family:        urelas        Number of samples:   27  \n",
      "Malware family:        imali         Number of samples:   26  \n",
      "Malware family:        memery        Number of samples:   24  \n",
      "Malware family:        neshta        Number of samples:   24  \n",
      "Malware family:       dealply        Number of samples:   23  \n",
      "Malware family:        lamer         Number of samples:   22  \n",
      "Malware family:     airinstaller     Number of samples:   22  \n",
      "Malware family:        lydra         Number of samples:   21  \n",
      "Malware family:        mydoom        Number of samples:   21  \n",
      "Malware family:        berbew        Number of samples:   21  \n",
      "Malware family:        yuner         Number of samples:   20  \n",
      "Malware family:         chir         Number of samples:   19  \n",
      "Malware family:       gamarue        Number of samples:   18  \n",
      "Malware family:       bundlore       Number of samples:   18  \n",
      "Malware family:  downloadassistant   Number of samples:   18  \n",
      "Malware family:        picsys        Number of samples:   17  \n",
      "Malware family:      convertad       Number of samples:   17  \n",
      "Malware family:        shipup        Number of samples:   17  \n",
      "Malware family:       filetour       Number of samples:   16  \n",
      "Malware family:       dlhelper       Number of samples:   13  \n",
      "Malware family:        hotbar        Number of samples:   13  \n",
      "\n",
      "4287 test samples belonging to 65 malware families\n",
      "Malware family:        parite        Number of samples:  174  \n",
      "Malware family:      loadmoney       Number of samples:  165  \n",
      "Malware family:     installcore      Number of samples:  161  \n",
      "Malware family:      softpulse       Number of samples:  160  \n",
      "Malware family:      browsefox       Number of samples:  158  \n",
      "Malware family:        virut         Number of samples:  157  \n",
      "Malware family:      outbrowse       Number of samples:  156  \n",
      "Malware family:       allaple        Number of samples:  154  \n",
      "Malware family:        sytro         Number of samples:  153  \n",
      "Malware family:        upatre        Number of samples:  153  \n",
      "Malware family:        sality        Number of samples:  143  \n",
      "Malware family:         mira         Number of samples:  142  \n",
      "Malware family:       virlock        Number of samples:  141  \n",
      "Malware family:        vobfus        Number of samples:  137  \n",
      "Malware family:       firseria       Number of samples:  124  \n",
      "Malware family:      multiplug       Number of samples:  124  \n",
      "Malware family:        dinwod        Number of samples:  112  \n",
      "Malware family:         klez         Number of samples:   97  \n",
      "Malware family:        expiro        Number of samples:   79  \n",
      "Malware family:      vtflooder       Number of samples:   74  \n",
      "Malware family:        wapomi        Number of samples:   71  \n",
      "Malware family:    installmonster    Number of samples:   63  \n",
      "Malware family:        ramnit        Number of samples:   62  \n",
      "Malware family:       icloader       Number of samples:   61  \n",
      "Malware family:         zbot         Number of samples:   56  \n",
      "Malware family:        autoit        Number of samples:   54  \n",
      "Malware family:        ipamor        Number of samples:   54  \n",
      "Malware family:        ircbot        Number of samples:   51  \n",
      "Malware family:    downloadguide     Number of samples:   49  \n",
      "Malware family:        domaiq        Number of samples:   45  \n",
      "Malware family:        loring        Number of samples:   44  \n",
      "Malware family:        neshta        Number of samples:   44  \n",
      "Malware family:     installerex      Number of samples:   44  \n",
      "Malware family:      bladabindi      Number of samples:   42  \n",
      "Malware family:        eorezo        Number of samples:   41  \n",
      "Malware family:      amonetize       Number of samples:   38  \n",
      "Malware family:        urelas        Number of samples:   37  \n",
      "Malware family:        vilsel        Number of samples:   36  \n",
      "Malware family:        cosmu         Number of samples:   36  \n",
      "Malware family:     airinstaller     Number of samples:   32  \n",
      "Malware family:      convertad       Number of samples:   31  \n",
      "Malware family:         delf         Number of samples:   31  \n",
      "Malware family:        ibryte        Number of samples:   30  \n",
      "Malware family:    downloadadmin     Number of samples:   30  \n",
      "Malware family:         zusy         Number of samples:   29  \n",
      "Malware family:        simbot        Number of samples:   29  \n",
      "Malware family:      softcnapp       Number of samples:   28  \n",
      "Malware family:      crossrider      Number of samples:   28  \n",
      "Malware family:        lamer         Number of samples:   27  \n",
      "Malware family:       dealply        Number of samples:   25  \n",
      "Malware family:       gamarue        Number of samples:   24  \n",
      "Malware family:        hotbar        Number of samples:   22  \n",
      "Malware family:        memery        Number of samples:   22  \n",
      "Malware family:        lydra         Number of samples:   22  \n",
      "Malware family:        mydoom        Number of samples:   21  \n",
      "Malware family:        imali         Number of samples:   21  \n",
      "Malware family:       bundlore       Number of samples:   20  \n",
      "Malware family:         chir         Number of samples:   18  \n",
      "Malware family:  downloadassistant   Number of samples:   18  \n",
      "Malware family:        picsys        Number of samples:   17  \n",
      "Malware family:        yuner         Number of samples:   16  \n",
      "Malware family:       dlhelper       Number of samples:   16  \n",
      "Malware family:        shipup        Number of samples:   14  \n",
      "Malware family:        berbew        Number of samples:   13  \n",
      "Malware family:       filetour       Number of samples:   11  \n",
      "\n",
      "\n",
      "         family  fam_num  selected    train     dev    test\n",
      "count     58180  58180.0   28582.0  20007.0  4288.0  4287.0\n",
      "unique     1270   1270.0       NaN      NaN     NaN     NaN\n",
      "top     allaple     42.0       NaN      NaN     NaN     NaN\n",
      "freq      10569  10569.0       NaN      NaN     NaN     NaN\n",
      "mean        NaN      NaN       1.0      1.0     1.0     1.0\n",
      "std         NaN      NaN       0.0      0.0     0.0     0.0\n",
      "min         NaN      NaN       1.0      1.0     1.0     1.0\n",
      "25%         NaN      NaN       1.0      1.0     1.0     1.0\n",
      "50%         NaN      NaN       1.0      1.0     1.0     1.0\n",
      "75%         NaN      NaN       1.0      1.0     1.0     1.0\n",
      "max         NaN      NaN       1.0      1.0     1.0     1.0\n"
     ]
    }
   ],
   "source": [
    "samples_data = pp_action.pre_process(config)\n",
    "pp_action.split_show_data(samples_data)"
   ]
  },
  {
   "cell_type": "code",
   "execution_count": 6,
   "metadata": {},
   "outputs": [],
   "source": [
    "uuids = samples_data.index[samples_data['selected'] == 1].tolist()\n",
    "numerical_labels = samples_data.fam_num[samples_data['selected'] == 1].tolist()"
   ]
  },
  {
   "cell_type": "markdown",
   "metadata": {},
   "source": [
    "## Utilities\n",
    "\n",
    "let's define a few helper fucntions\n"
   ]
  },
  {
   "cell_type": "code",
   "execution_count": 7,
   "metadata": {},
   "outputs": [],
   "source": [
    "def plot_surface(to_plot, a_x, a_y, title):\n",
    "    data = [go.Surface(x=a_x, y=a_y, z=to_plot)]\n",
    "    \n",
    "    layout = go.Layout(\n",
    "        title=title\n",
    "    )\n",
    "    \n",
    "    fig = go.Figure(data=data, layout=layout)\n",
    "    \n",
    "    ply.iplot(fig, filename=title)    "
   ]
  },
  {
   "cell_type": "code",
   "execution_count": 8,
   "metadata": {},
   "outputs": [],
   "source": [
    "def test_params(data_matrix, numerical_labels, config, min_sample_params, min_cluster_sizes):\n",
    "    to_plot_f = np.zeros((len(min_sample_params), len(min_cluster_sizes)))\n",
    "    to_plot_s = np.zeros((len(min_sample_params), len(min_cluster_sizes)))\n",
    "\n",
    "    i = 0\n",
    "    for ms in min_sample_params:\n",
    "        j = 0\n",
    "        \n",
    "        for mc in min_cluster_sizes:\n",
    "\n",
    "            clustering_labels, model, modifier, data, metric = clu_hdbscan.cluster(\n",
    "                data_matrix,\n",
    "                numerical_labels,\n",
    "                config,\n",
    "                {\n",
    "                    'distance': 'c',\n",
    "                    'min_cluster_size': mc,\n",
    "                    'min_sample': ms\n",
    "                }\n",
    "            )\n",
    "\n",
    "            results = evaluation.evaluate_clustering(numerical_labels, clustering_labels, data, metric, True)\n",
    "\n",
    "            to_plot_f[i][j] = results[7]\n",
    "            to_plot_s[i][j] = results[8]\n",
    "            j += 1\n",
    "\n",
    "        i += 1\n",
    "\n",
    "    return to_plot_f, to_plot_s"
   ]
  },
  {
   "cell_type": "markdown",
   "metadata": {},
   "source": [
    "## Clustering\n",
    "\n",
    "Here we will use HDBSCAN, a hierarchical density-based clustering algorithm."
   ]
  },
  {
   "cell_type": "markdown",
   "metadata": {},
   "source": [
    "### 128 features\n",
    "Let's start by using the data matrix produced by using PCA for feature extraction."
   ]
  },
  {
   "cell_type": "code",
   "execution_count": null,
   "metadata": {},
   "outputs": [],
   "source": [
    "data_matrix_p = np.loadtxt('data/matrix/pca_128_1209.txt')"
   ]
  },
  {
   "cell_type": "code",
   "execution_count": null,
   "metadata": {
    "scrolled": false
   },
   "outputs": [],
   "source": [
    "to_plot_f, to_plot_s = test_params(data_matrix_p, numerical_labels, config, min_sample_params, min_cluster_sizes)"
   ]
  },
  {
   "cell_type": "code",
   "execution_count": null,
   "metadata": {},
   "outputs": [],
   "source": [
    "plot_surface(to_plot_f, min_sample_params, min_cluster_sizes, 'f1 scores')"
   ]
  },
  {
   "cell_type": "code",
   "execution_count": null,
   "metadata": {
    "scrolled": false
   },
   "outputs": [],
   "source": [
    "plot_surface(to_plot_s, min_sample_params, min_cluster_sizes, 'silhouette scores')"
   ]
  },
  {
   "cell_type": "markdown",
   "metadata": {},
   "source": [
    "Now let's see how it compares with the same algorithm applied to a data matrix obtained using Random Forest Classifiers for feature selection."
   ]
  },
  {
   "cell_type": "code",
   "execution_count": 18,
   "metadata": {},
   "outputs": [],
   "source": [
    "data_matrix_r = np.loadtxt('data/matrix/rfc_2048_28582.txt')"
   ]
  },
  {
   "cell_type": "code",
   "execution_count": 19,
   "metadata": {},
   "outputs": [],
   "source": [
    "to_plot_f, to_plot_s = test_params(data_matrix_r, numerical_labels, config, min_sample_params, min_cluster_sizes)"
   ]
  },
  {
   "cell_type": "code",
   "execution_count": 20,
   "metadata": {},
   "outputs": [
    {
     "data": {
      "application/vnd.plotly.v1+json": {
       "data": [
        {
         "type": "surface",
         "x": [
          50,
          100,
          150
         ],
         "y": [
          50,
          100,
          150
         ],
         "z": [
          [
           0.641682609985448,
           0.646671222361317,
           0.636623701854783
          ],
          [
           0.6369799192187516,
           0.6476845427750703,
           0.6483847645175577
          ],
          [
           0.6380791860848062,
           0.6400797319843186,
           0.6383974440291548
          ]
         ]
        }
       ],
       "layout": {
        "title": "f1 scores"
       }
      },
      "text/html": [
       "<div id=\"2f3d454a-046e-4f8c-9f8a-5b5b7663949f\" style=\"height: 525px; width: 100%;\" class=\"plotly-graph-div\"></div><script type=\"text/javascript\">require([\"plotly\"], function(Plotly) { window.PLOTLYENV=window.PLOTLYENV || {};window.PLOTLYENV.BASE_URL=\"https://plot.ly\";Plotly.newPlot(\"2f3d454a-046e-4f8c-9f8a-5b5b7663949f\", [{\"type\": \"surface\", \"x\": [50, 100, 150], \"y\": [50, 100, 150], \"z\": [[0.641682609985448, 0.646671222361317, 0.636623701854783], [0.6369799192187516, 0.6476845427750703, 0.6483847645175577], [0.6380791860848062, 0.6400797319843186, 0.6383974440291548]]}], {\"title\": \"f1 scores\"}, {\"showLink\": true, \"linkText\": \"Export to plot.ly\"})});</script>"
      ],
      "text/vnd.plotly.v1+html": [
       "<div id=\"2f3d454a-046e-4f8c-9f8a-5b5b7663949f\" style=\"height: 525px; width: 100%;\" class=\"plotly-graph-div\"></div><script type=\"text/javascript\">require([\"plotly\"], function(Plotly) { window.PLOTLYENV=window.PLOTLYENV || {};window.PLOTLYENV.BASE_URL=\"https://plot.ly\";Plotly.newPlot(\"2f3d454a-046e-4f8c-9f8a-5b5b7663949f\", [{\"type\": \"surface\", \"x\": [50, 100, 150], \"y\": [50, 100, 150], \"z\": [[0.641682609985448, 0.646671222361317, 0.636623701854783], [0.6369799192187516, 0.6476845427750703, 0.6483847645175577], [0.6380791860848062, 0.6400797319843186, 0.6383974440291548]]}], {\"title\": \"f1 scores\"}, {\"showLink\": true, \"linkText\": \"Export to plot.ly\"})});</script>"
      ]
     },
     "metadata": {},
     "output_type": "display_data"
    }
   ],
   "source": [
    "plot_surface(to_plot_f, min_sample_params, min_cluster_sizes, 'f1 scores')"
   ]
  },
  {
   "cell_type": "code",
   "execution_count": 21,
   "metadata": {},
   "outputs": [
    {
     "data": {
      "application/vnd.plotly.v1+json": {
       "data": [
        {
         "type": "surface",
         "x": [
          50,
          100,
          150
         ],
         "y": [
          50,
          100,
          150
         ],
         "z": [
          [
           0.41815006155755563,
           0.4064400500501584,
           0.3779273818952689
          ],
          [
           0.3845058399383094,
           0.4117469773972217,
           0.39254215652548463
          ],
          [
           0.3723090615876808,
           0.37049101256708705,
           0.36999477650367163
          ]
         ]
        }
       ],
       "layout": {
        "title": "silhouette scores"
       }
      },
      "text/html": [
       "<div id=\"495efe74-2060-481c-96a4-c2e9f9749018\" style=\"height: 525px; width: 100%;\" class=\"plotly-graph-div\"></div><script type=\"text/javascript\">require([\"plotly\"], function(Plotly) { window.PLOTLYENV=window.PLOTLYENV || {};window.PLOTLYENV.BASE_URL=\"https://plot.ly\";Plotly.newPlot(\"495efe74-2060-481c-96a4-c2e9f9749018\", [{\"type\": \"surface\", \"x\": [50, 100, 150], \"y\": [50, 100, 150], \"z\": [[0.41815006155755563, 0.4064400500501584, 0.3779273818952689], [0.3845058399383094, 0.4117469773972217, 0.39254215652548463], [0.3723090615876808, 0.37049101256708705, 0.36999477650367163]]}], {\"title\": \"silhouette scores\"}, {\"showLink\": true, \"linkText\": \"Export to plot.ly\"})});</script>"
      ],
      "text/vnd.plotly.v1+html": [
       "<div id=\"495efe74-2060-481c-96a4-c2e9f9749018\" style=\"height: 525px; width: 100%;\" class=\"plotly-graph-div\"></div><script type=\"text/javascript\">require([\"plotly\"], function(Plotly) { window.PLOTLYENV=window.PLOTLYENV || {};window.PLOTLYENV.BASE_URL=\"https://plot.ly\";Plotly.newPlot(\"495efe74-2060-481c-96a4-c2e9f9749018\", [{\"type\": \"surface\", \"x\": [50, 100, 150], \"y\": [50, 100, 150], \"z\": [[0.41815006155755563, 0.4064400500501584, 0.3779273818952689], [0.3845058399383094, 0.4117469773972217, 0.39254215652548463], [0.3723090615876808, 0.37049101256708705, 0.36999477650367163]]}], {\"title\": \"silhouette scores\"}, {\"showLink\": true, \"linkText\": \"Export to plot.ly\"})});</script>"
      ]
     },
     "metadata": {},
     "output_type": "display_data"
    }
   ],
   "source": [
    "plot_surface(to_plot_s, min_sample_params, min_cluster_sizes, 'silhouette scores')"
   ]
  },
  {
   "cell_type": "markdown",
   "metadata": {},
   "source": [
    "### 256 features\n"
   ]
  },
  {
   "cell_type": "code",
   "execution_count": null,
   "metadata": {},
   "outputs": [],
   "source": [
    "data_matrix_p = np.loadtxt('data/matrix/pca_256_1209.txt')"
   ]
  },
  {
   "cell_type": "code",
   "execution_count": null,
   "metadata": {
    "scrolled": false
   },
   "outputs": [],
   "source": [
    "to_plot_f, to_plot_s = test_params(data_matrix_p, numerical_labels, config, min_sample_params, min_cluster_sizes)"
   ]
  },
  {
   "cell_type": "code",
   "execution_count": null,
   "metadata": {},
   "outputs": [],
   "source": [
    "plot_surface(to_plot_f, min_sample_params, min_cluster_sizes, 'f1 scores')"
   ]
  },
  {
   "cell_type": "code",
   "execution_count": null,
   "metadata": {
    "scrolled": false
   },
   "outputs": [],
   "source": [
    "plot_surface(to_plot_s, min_sample_params, min_cluster_sizes, 'silhouette scores')"
   ]
  },
  {
   "cell_type": "markdown",
   "metadata": {},
   "source": [
    "Now let's see how it compares with the same algorithm applied to a data matrix obtained using Random Forest Classifiers for feature selection."
   ]
  },
  {
   "cell_type": "code",
   "execution_count": 14,
   "metadata": {},
   "outputs": [],
   "source": [
    "data_matrix_r = np.loadtxt('data/matrix/rfc_1024_28582.txt')"
   ]
  },
  {
   "cell_type": "code",
   "execution_count": 15,
   "metadata": {},
   "outputs": [],
   "source": [
    "to_plot_f, to_plot_s = test_params(data_matrix_r, numerical_labels, config, min_sample_params, min_cluster_sizes)"
   ]
  },
  {
   "cell_type": "code",
   "execution_count": 16,
   "metadata": {},
   "outputs": [
    {
     "data": {
      "application/vnd.plotly.v1+json": {
       "data": [
        {
         "type": "surface",
         "x": [
          50,
          100,
          150
         ],
         "y": [
          50,
          100,
          150
         ],
         "z": [
          [
           0.6305776548853586,
           0.6484882391826857,
           0.625072468905118
          ],
          [
           0.6372442650594312,
           0.6465638689290376,
           0.6326291413228242
          ],
          [
           0.6222855271716358,
           0.6353501685416704,
           0.6291360498594305
          ]
         ]
        }
       ],
       "layout": {
        "title": "f1 scores"
       }
      },
      "text/html": [
       "<div id=\"02853eda-9c55-4a6d-8a4c-c78803d12e5f\" style=\"height: 525px; width: 100%;\" class=\"plotly-graph-div\"></div><script type=\"text/javascript\">require([\"plotly\"], function(Plotly) { window.PLOTLYENV=window.PLOTLYENV || {};window.PLOTLYENV.BASE_URL=\"https://plot.ly\";Plotly.newPlot(\"02853eda-9c55-4a6d-8a4c-c78803d12e5f\", [{\"type\": \"surface\", \"x\": [50, 100, 150], \"y\": [50, 100, 150], \"z\": [[0.6305776548853586, 0.6484882391826857, 0.625072468905118], [0.6372442650594312, 0.6465638689290376, 0.6326291413228242], [0.6222855271716358, 0.6353501685416704, 0.6291360498594305]]}], {\"title\": \"f1 scores\"}, {\"showLink\": true, \"linkText\": \"Export to plot.ly\"})});</script>"
      ],
      "text/vnd.plotly.v1+html": [
       "<div id=\"02853eda-9c55-4a6d-8a4c-c78803d12e5f\" style=\"height: 525px; width: 100%;\" class=\"plotly-graph-div\"></div><script type=\"text/javascript\">require([\"plotly\"], function(Plotly) { window.PLOTLYENV=window.PLOTLYENV || {};window.PLOTLYENV.BASE_URL=\"https://plot.ly\";Plotly.newPlot(\"02853eda-9c55-4a6d-8a4c-c78803d12e5f\", [{\"type\": \"surface\", \"x\": [50, 100, 150], \"y\": [50, 100, 150], \"z\": [[0.6305776548853586, 0.6484882391826857, 0.625072468905118], [0.6372442650594312, 0.6465638689290376, 0.6326291413228242], [0.6222855271716358, 0.6353501685416704, 0.6291360498594305]]}], {\"title\": \"f1 scores\"}, {\"showLink\": true, \"linkText\": \"Export to plot.ly\"})});</script>"
      ]
     },
     "metadata": {},
     "output_type": "display_data"
    }
   ],
   "source": [
    "plot_surface(to_plot_f, min_sample_params, min_cluster_sizes, 'f1 scores')"
   ]
  },
  {
   "cell_type": "code",
   "execution_count": 17,
   "metadata": {
    "scrolled": false
   },
   "outputs": [
    {
     "data": {
      "application/vnd.plotly.v1+json": {
       "data": [
        {
         "type": "surface",
         "x": [
          50,
          100,
          150
         ],
         "y": [
          50,
          100,
          150
         ],
         "z": [
          [
           0.38164867474909603,
           0.4031625195156756,
           0.3717221365998019
          ],
          [
           0.3732057946636343,
           0.39818541205363867,
           0.3687268629247941
          ],
          [
           0.33997762687359945,
           0.36718442098668463,
           0.37663183260943567
          ]
         ]
        }
       ],
       "layout": {
        "title": "silhouette scores"
       }
      },
      "text/html": [
       "<div id=\"b0e86f63-6ab4-44f1-be4d-3f38cc56ecf7\" style=\"height: 525px; width: 100%;\" class=\"plotly-graph-div\"></div><script type=\"text/javascript\">require([\"plotly\"], function(Plotly) { window.PLOTLYENV=window.PLOTLYENV || {};window.PLOTLYENV.BASE_URL=\"https://plot.ly\";Plotly.newPlot(\"b0e86f63-6ab4-44f1-be4d-3f38cc56ecf7\", [{\"type\": \"surface\", \"x\": [50, 100, 150], \"y\": [50, 100, 150], \"z\": [[0.38164867474909603, 0.4031625195156756, 0.3717221365998019], [0.3732057946636343, 0.39818541205363867, 0.3687268629247941], [0.33997762687359945, 0.36718442098668463, 0.37663183260943567]]}], {\"title\": \"silhouette scores\"}, {\"showLink\": true, \"linkText\": \"Export to plot.ly\"})});</script>"
      ],
      "text/vnd.plotly.v1+html": [
       "<div id=\"b0e86f63-6ab4-44f1-be4d-3f38cc56ecf7\" style=\"height: 525px; width: 100%;\" class=\"plotly-graph-div\"></div><script type=\"text/javascript\">require([\"plotly\"], function(Plotly) { window.PLOTLYENV=window.PLOTLYENV || {};window.PLOTLYENV.BASE_URL=\"https://plot.ly\";Plotly.newPlot(\"b0e86f63-6ab4-44f1-be4d-3f38cc56ecf7\", [{\"type\": \"surface\", \"x\": [50, 100, 150], \"y\": [50, 100, 150], \"z\": [[0.38164867474909603, 0.4031625195156756, 0.3717221365998019], [0.3732057946636343, 0.39818541205363867, 0.3687268629247941], [0.33997762687359945, 0.36718442098668463, 0.37663183260943567]]}], {\"title\": \"silhouette scores\"}, {\"showLink\": true, \"linkText\": \"Export to plot.ly\"})});</script>"
      ]
     },
     "metadata": {},
     "output_type": "display_data"
    }
   ],
   "source": [
    "plot_surface(to_plot_s, min_sample_params, min_cluster_sizes, 'silhouette scores')"
   ]
  },
  {
   "cell_type": "markdown",
   "metadata": {},
   "source": [
    "### 512 features"
   ]
  },
  {
   "cell_type": "code",
   "execution_count": null,
   "metadata": {},
   "outputs": [],
   "source": [
    "data_matrix_r = np.loadtxt('data/matrix/pca_512_1209.txt')"
   ]
  },
  {
   "cell_type": "code",
   "execution_count": null,
   "metadata": {},
   "outputs": [],
   "source": [
    "to_plot_f, to_plot_s = test_params(data_matrix_r, numerical_labels, config, min_sample_params, min_cluster_sizes)"
   ]
  },
  {
   "cell_type": "code",
   "execution_count": null,
   "metadata": {},
   "outputs": [],
   "source": [
    "plot_surface(to_plot_f, min_sample_params, min_cluster_sizes, 'f1 scores')"
   ]
  },
  {
   "cell_type": "code",
   "execution_count": null,
   "metadata": {
    "scrolled": false
   },
   "outputs": [],
   "source": [
    "plot_surface(to_plot_s, min_sample_params, min_cluster_sizes, 'silhouette scores')"
   ]
  },
  {
   "cell_type": "code",
   "execution_count": null,
   "metadata": {},
   "outputs": [],
   "source": []
  },
  {
   "cell_type": "code",
   "execution_count": 9,
   "metadata": {},
   "outputs": [],
   "source": [
    "data_matrix_r = np.loadtxt('data/matrix/rfc_512_28582.txt')"
   ]
  },
  {
   "cell_type": "code",
   "execution_count": 10,
   "metadata": {},
   "outputs": [],
   "source": [
    "to_plot_f, to_plot_s = test_params(data_matrix_r, numerical_labels, config, min_sample_params, min_cluster_sizes)"
   ]
  },
  {
   "cell_type": "code",
   "execution_count": 11,
   "metadata": {},
   "outputs": [
    {
     "data": {
      "application/vnd.plotly.v1+json": {
       "data": [
        {
         "type": "surface",
         "x": [
          50,
          100,
          150
         ],
         "y": [
          50,
          100,
          150
         ],
         "z": [
          [
           0.6238357387397583,
           0.6495839546321583,
           0.6477478059294354
          ],
          [
           0.6181418754368816,
           0.6368142330333102,
           0.6235290534188268
          ],
          [
           0.6295179799369717,
           0.6290963986473835,
           0.6252253591920673
          ]
         ]
        }
       ],
       "layout": {
        "title": "f1 scores"
       }
      },
      "text/html": [
       "<div id=\"451a9878-b035-4b95-bb6b-148df1ed9a28\" style=\"height: 525px; width: 100%;\" class=\"plotly-graph-div\"></div><script type=\"text/javascript\">require([\"plotly\"], function(Plotly) { window.PLOTLYENV=window.PLOTLYENV || {};window.PLOTLYENV.BASE_URL=\"https://plot.ly\";Plotly.newPlot(\"451a9878-b035-4b95-bb6b-148df1ed9a28\", [{\"type\": \"surface\", \"x\": [50, 100, 150], \"y\": [50, 100, 150], \"z\": [[0.6238357387397583, 0.6495839546321583, 0.6477478059294354], [0.6181418754368816, 0.6368142330333102, 0.6235290534188268], [0.6295179799369717, 0.6290963986473835, 0.6252253591920673]]}], {\"title\": \"f1 scores\"}, {\"showLink\": true, \"linkText\": \"Export to plot.ly\"})});</script>"
      ],
      "text/vnd.plotly.v1+html": [
       "<div id=\"451a9878-b035-4b95-bb6b-148df1ed9a28\" style=\"height: 525px; width: 100%;\" class=\"plotly-graph-div\"></div><script type=\"text/javascript\">require([\"plotly\"], function(Plotly) { window.PLOTLYENV=window.PLOTLYENV || {};window.PLOTLYENV.BASE_URL=\"https://plot.ly\";Plotly.newPlot(\"451a9878-b035-4b95-bb6b-148df1ed9a28\", [{\"type\": \"surface\", \"x\": [50, 100, 150], \"y\": [50, 100, 150], \"z\": [[0.6238357387397583, 0.6495839546321583, 0.6477478059294354], [0.6181418754368816, 0.6368142330333102, 0.6235290534188268], [0.6295179799369717, 0.6290963986473835, 0.6252253591920673]]}], {\"title\": \"f1 scores\"}, {\"showLink\": true, \"linkText\": \"Export to plot.ly\"})});</script>"
      ]
     },
     "metadata": {},
     "output_type": "display_data"
    }
   ],
   "source": [
    "plot_surface(to_plot_f, min_sample_params, min_cluster_sizes, 'f1 scores')"
   ]
  },
  {
   "cell_type": "code",
   "execution_count": 12,
   "metadata": {
    "scrolled": false
   },
   "outputs": [
    {
     "data": {
      "application/vnd.plotly.v1+json": {
       "data": [
        {
         "type": "surface",
         "x": [
          50,
          100,
          150
         ],
         "y": [
          50,
          100,
          150
         ],
         "z": [
          [
           0.3672805411146893,
           0.3896338781097289,
           0.3954209628182095
          ],
          [
           0.3391802487556659,
           0.38464146982364245,
           0.3760827189290602
          ],
          [
           0.3644254858524702,
           0.3668022590980949,
           0.36711383641371087
          ]
         ]
        }
       ],
       "layout": {
        "title": "silhouette scores"
       }
      },
      "text/html": [
       "<div id=\"18c612be-97f4-47d3-9917-52cbbb52b256\" style=\"height: 525px; width: 100%;\" class=\"plotly-graph-div\"></div><script type=\"text/javascript\">require([\"plotly\"], function(Plotly) { window.PLOTLYENV=window.PLOTLYENV || {};window.PLOTLYENV.BASE_URL=\"https://plot.ly\";Plotly.newPlot(\"18c612be-97f4-47d3-9917-52cbbb52b256\", [{\"type\": \"surface\", \"x\": [50, 100, 150], \"y\": [50, 100, 150], \"z\": [[0.3672805411146893, 0.3896338781097289, 0.3954209628182095], [0.3391802487556659, 0.38464146982364245, 0.3760827189290602], [0.3644254858524702, 0.3668022590980949, 0.36711383641371087]]}], {\"title\": \"silhouette scores\"}, {\"showLink\": true, \"linkText\": \"Export to plot.ly\"})});</script>"
      ],
      "text/vnd.plotly.v1+html": [
       "<div id=\"18c612be-97f4-47d3-9917-52cbbb52b256\" style=\"height: 525px; width: 100%;\" class=\"plotly-graph-div\"></div><script type=\"text/javascript\">require([\"plotly\"], function(Plotly) { window.PLOTLYENV=window.PLOTLYENV || {};window.PLOTLYENV.BASE_URL=\"https://plot.ly\";Plotly.newPlot(\"18c612be-97f4-47d3-9917-52cbbb52b256\", [{\"type\": \"surface\", \"x\": [50, 100, 150], \"y\": [50, 100, 150], \"z\": [[0.3672805411146893, 0.3896338781097289, 0.3954209628182095], [0.3391802487556659, 0.38464146982364245, 0.3760827189290602], [0.3644254858524702, 0.3668022590980949, 0.36711383641371087]]}], {\"title\": \"silhouette scores\"}, {\"showLink\": true, \"linkText\": \"Export to plot.ly\"})});</script>"
      ]
     },
     "metadata": {},
     "output_type": "display_data"
    }
   ],
   "source": [
    "plot_surface(to_plot_s, min_sample_params, min_cluster_sizes, 'silhouette scores')"
   ]
  },
  {
   "cell_type": "code",
   "execution_count": null,
   "metadata": {},
   "outputs": [],
   "source": []
  }
 ],
 "metadata": {
  "kernelspec": {
   "display_name": "Python 3",
   "language": "python",
   "name": "python3"
  },
  "language_info": {
   "codemirror_mode": {
    "name": "ipython",
    "version": 3
   },
   "file_extension": ".py",
   "mimetype": "text/x-python",
   "name": "python",
   "nbconvert_exporter": "python",
   "pygments_lexer": "ipython3",
   "version": "3.6.3"
  }
 },
 "nbformat": 4,
 "nbformat_minor": 2
}
