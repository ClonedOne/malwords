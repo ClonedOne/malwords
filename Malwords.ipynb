{
 "cells": [
  {
   "cell_type": "code",
   "execution_count": 3,
   "metadata": {
    "collapsed": true
   },
   "outputs": [],
   "source": [
    "from dimensionality_reduction import dr_action\n",
    "from classification import cla_action\n",
    "from visualization import vis_action\n",
    "from preprocessing import pp_action\n",
    "from clustering import clu_action\n",
    "from keywords import kw_action\n",
    "import json\n"
   ]
  },
  {
   "cell_type": "markdown",
   "metadata": {},
   "source": [
    "Load the configuration file in a dictionary. It contains the paths to the data folders."
   ]
  },
  {
   "cell_type": "code",
   "execution_count": 2,
   "metadata": {
    "collapsed": true
   },
   "outputs": [],
   "source": [
    "config = json.load(open('config.json', 'r'))"
   ]
  },
  {
   "cell_type": "markdown",
   "metadata": {},
   "source": [
    "### Data selection\n",
    "\n",
    "Select a subset of the dataset. Then the selected subset will be split into a training and a testing set.\n"
   ]
  },
  {
   "cell_type": "code",
   "execution_count": 4,
   "metadata": {},
   "outputs": [
    {
     "name": "stdout",
     "output_type": "stream",
     "text": [
      "Please choose the subset of data to workon on:\n",
      "l for all labeled samples\n",
      "k for samples of families mydoom, gepys, lamer, neshta, bladabindi, flystudio, eorezo\n",
      "s for 8 samples of families mydoom, gepys, bladabindi, flystudio\n",
      "f for a single family\n",
      "b for a balanced subset of samples\n",
      "q to quit\n",
      "s\n",
      "\n",
      "6 train samples belonging to 4 malware families\n",
      "Malware family:      flystudio       Number of samples:   2   \n",
      "Malware family:        mydoom        Number of samples:   2   \n",
      "Malware family:        gepys         Number of samples:   1   \n",
      "Malware family:      bladabindi      Number of samples:   1   \n",
      "\n",
      "2 test samples belonging to 2 malware families\n",
      "Malware family:        gepys         Number of samples:   1   \n",
      "Malware family:      bladabindi      Number of samples:   1   \n",
      "\n",
      "\n",
      "         family  fam_num  selected  train  test\n",
      "count     58180  58180.0       8.0    6.0   2.0\n",
      "unique     1270   1270.0       NaN    NaN   NaN\n",
      "top     allaple     42.0       NaN    NaN   NaN\n",
      "freq      10569  10569.0       NaN    NaN   NaN\n",
      "mean        NaN      NaN       1.0    1.0   1.0\n",
      "std         NaN      NaN       0.0    0.0   0.0\n",
      "min         NaN      NaN       1.0    1.0   1.0\n",
      "25%         NaN      NaN       1.0    1.0   1.0\n",
      "50%         NaN      NaN       1.0    1.0   1.0\n",
      "75%         NaN      NaN       1.0    1.0   1.0\n",
      "max         NaN      NaN       1.0    1.0   1.0\n"
     ]
    }
   ],
   "source": [
    "samples_data = pp_action.pre_process(config)\n",
    "pp_action.split_show_data(samples_data)"
   ]
  },
  {
   "cell_type": "code",
   "execution_count": 5,
   "metadata": {},
   "outputs": [
    {
     "name": "stdout",
     "output_type": "stream",
     "text": [
      "\n",
      "Please select a dimensionality reduction technique:\n",
      "pca\n",
      "svd\n",
      "tsne\n",
      "lda\n",
      "s to skip dimensionality reduction\n",
      "q to quit\n",
      "pca\n",
      "Please select the desired number of components (q to quit)\n",
      "8\n",
      "Performing dimensionality reduction using PCA\n",
      "Processing documents from 0 to 299\n",
      "Loading Tf-Idf of 8 documents\n",
      "4757760\n",
      "4757760\n",
      "4757760\n",
      "4757760\n",
      "(8, 297360)\n",
      "Explained Variance Ratio\n",
      "1.0\n",
      "Transforming documents from 0 to 299\n",
      "Loading Tf-Idf of 8 documents\n"
     ]
    },
    {
     "name": "stderr",
     "output_type": "stream",
     "text": [
      "/home/gio/.virtualenvs/malcluster/lib/python3.5/site-packages/sklearn/decomposition/incremental_pca.py:269: RuntimeWarning:\n",
      "\n",
      "Mean of empty slice.\n",
      "\n",
      "/home/gio/.virtualenvs/malcluster/lib/python3.5/site-packages/numpy/core/_methods.py:80: RuntimeWarning:\n",
      "\n",
      "invalid value encountered in double_scalars\n",
      "\n"
     ]
    },
    {
     "name": "stdout",
     "output_type": "stream",
     "text": [
      "4757760\n",
      "4757760\n",
      "4757760\n",
      "4757760\n",
      "(8, 297360)\n"
     ]
    }
   ],
   "source": [
    "reduced,inverse_reduced = dr_action.dimensionality_reduction(samples_data, config)"
   ]
  },
  {
   "cell_type": "code",
   "execution_count": 6,
   "metadata": {},
   "outputs": [
    {
     "data": {
      "text/plain": [
       "array([[ -7.23904238e+02,  -4.57833979e+02,   5.45297850e+00,\n",
       "          4.67942460e+02,   1.93507208e+01,  -3.96869094e+01,\n",
       "         -1.02556990e+00,   1.30101941e-12],\n",
       "       [ -7.34239659e+02,   2.41537866e+03,  -2.31140081e+00,\n",
       "         -5.11048638e+00,  -5.94916436e-02,   7.01786899e-01,\n",
       "          3.75944510e-02,   2.59937037e-13],\n",
       "       [ -7.26193438e+02,  -4.90024865e+02,   4.21166540e+00,\n",
       "         -1.72276623e+02,   2.96232788e+02,  -1.11664934e+02,\n",
       "         -4.79851086e+00,  -5.24684029e-13],\n",
       "       [  2.14477254e+03,  -9.18776777e+00,  -6.64297965e+02,\n",
       "          2.77962707e-01,  -1.94530553e-02,  -6.94810748e-02,\n",
       "          3.40729901e-02,   9.19035681e-13],\n",
       "       [ -7.29623001e+02,  -4.92646185e+02,   3.66215611e+00,\n",
       "         -7.39607042e+01,  -1.58092353e+01,   1.37657529e+02,\n",
       "          8.70767786e+01,   6.04517304e-13],\n",
       "       [ -7.28718888e+02,  -4.91780604e+02,   3.30562311e+00,\n",
       "         -7.31166977e+01,  -2.83358503e+01,   1.62611011e+02,\n",
       "         -7.92090770e+01,  -4.64232819e-13],\n",
       "       [ -7.28125122e+02,  -4.88465608e+02,   3.96446480e+00,\n",
       "         -1.42866876e+02,  -2.71143211e+02,  -1.49850228e+02,\n",
       "         -2.11506438e+00,  -1.47087204e-14],\n",
       "       [  2.22603180e+03,   1.45603467e+01,   6.46012477e+02,\n",
       "         -8.89036096e-01,  -2.16267240e-01,   3.01224912e-01,\n",
       "         -2.23921883e-04,  -2.09808039e-12]])"
      ]
     },
     "execution_count": 6,
     "metadata": {},
     "output_type": "execute_result"
    }
   ],
   "source": [
    "reduced"
   ]
  },
  {
   "cell_type": "code",
   "execution_count": 10,
   "metadata": {},
   "outputs": [
    {
     "name": "stdout",
     "output_type": "stream",
     "text": [
      "array([  2.30082856e-13,  -7.67147209e-13,  -2.92210700e-13, ...,\n",
      "         0.00000000e+00,   0.00000000e+00,   0.00000000e+00])\n"
     ]
    }
   ],
   "source": [
    "from pprint import  pprint\n",
    "\n",
    "pprint(inverse_reduced[0])\n",
    "\n"
   ]
  },
  {
   "cell_type": "code",
   "execution_count": null,
   "metadata": {
    "collapsed": true
   },
   "outputs": [],
   "source": []
  }
 ],
 "metadata": {
  "kernelspec": {
   "display_name": "Python 3",
   "language": "python",
   "name": "python3"
  },
  "language_info": {
   "codemirror_mode": {
    "name": "ipython",
    "version": 3
   },
   "file_extension": ".py",
   "mimetype": "text/x-python",
   "name": "python",
   "nbconvert_exporter": "python",
   "pygments_lexer": "ipython3",
   "version": "3.5.2"
  }
 },
 "nbformat": 4,
 "nbformat_minor": 2
}
